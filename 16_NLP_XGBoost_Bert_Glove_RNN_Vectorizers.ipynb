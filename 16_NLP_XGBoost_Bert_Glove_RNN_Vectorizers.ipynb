{
  "metadata": {
    "kernelspec": {
      "language": "python",
      "display_name": "Python 3",
      "name": "python3"
    },
    "language_info": {
      "name": "python",
      "version": "3.7.10",
      "mimetype": "text/x-python",
      "codemirror_mode": {
        "name": "ipython",
        "version": 3
      },
      "pygments_lexer": "ipython3",
      "nbconvert_exporter": "python",
      "file_extension": ".py"
    },
    "colab": {
      "provenance": [],
      "include_colab_link": true
    }
  },
  "nbformat_minor": 0,
  "nbformat": 4,
  "cells": [
    {
      "cell_type": "markdown",
      "metadata": {
        "id": "view-in-github",
        "colab_type": "text"
      },
      "source": [
        "<a href=\"https://colab.research.google.com/github/Sahel-Eskandar/DataScience-Projects/blob/main/16_nlp_xgboost_bert_glove_rnns_vectorizers.ipynb\" target=\"_parent\"><img src=\"https://colab.research.google.com/assets/colab-badge.svg\" alt=\"Open In Colab\"/></a>"
      ]
    },
    {
      "cell_type": "markdown",
      "source": [
        "# Introduction\n",
        "\n",
        "This notebook will focus on text-classification and sentiment analysis. We will go through all major NLP and dat analysis techniques, some of which include:\n",
        "\n",
        "* LSTMs\n",
        "* Transformers (such as BERT)\n",
        "* Naive Bayes\n",
        "* XGBoost \n",
        "\n",
        "and much more...\n",
        "\n",
        "The first half of the notebook is focused on cleaning and pre-processing the data, while the second half builds and compares different models with the techniques mentioned above."
      ],
      "metadata": {
        "id": "ziJQAjH1bTzf"
      }
    },
    {
      "cell_type": "markdown",
      "source": [
        "Data Source: \n",
        "\n",
        "kaggle kernels output namansood/nlp-xgboost-bert-glove-rnns-vectorizers -p /path/to/dest\n",
        "\n",
        "https://www.kaggle.com/code/namansood/nlp-xgboost-bert-glove-rnns-vectorizers/data"
      ],
      "metadata": {
        "id": "oPWzrwbYbVky"
      }
    },
    {
      "cell_type": "code",
      "source": [
        "# This Python 3 environment comes with many helpful analytics libraries installed\n",
        "# It is defined by the kaggle/python Docker image: https://github.com/kaggle/docker-python\n",
        "# For example, here's several helpful packages to load\n",
        "\n",
        "import numpy as np # linear algebra\n",
        "import pandas as pd # data processing, CSV file I/O (e.g. pd.read_csv)\n",
        "\n",
        "# Input data files are available in the read-only \"../input/\" directory\n",
        "# For example, running this (by clicking run or pressing Shift+Enter) will list all files under the input directory\n",
        "\n",
        "import os\n",
        "for dirname, _, filenames in os.walk('/kaggle/input'):\n",
        "    for filename in filenames:\n",
        "        print(os.path.join(dirname, filename))\n",
        "\n",
        "# You can write up to 20GB to the current directory (/kaggle/working/) that gets preserved as output when you create a version using \"Save & Run All\" \n",
        "# You can also write temporary files to /kaggle/temp/, but they won't be saved outside of the current session"
      ],
      "metadata": {
        "_uuid": "8f2839f25d086af736a60e9eeb907d3b93b6e0e5",
        "_cell_guid": "b1076dfc-b9ad-4769-8c92-a6c4dae69d19",
        "execution": {
          "iopub.status.busy": "2021-07-22T07:19:24.613182Z",
          "iopub.execute_input": "2021-07-22T07:19:24.613599Z",
          "iopub.status.idle": "2021-07-22T07:19:24.646832Z",
          "shell.execute_reply.started": "2021-07-22T07:19:24.613517Z",
          "shell.execute_reply": "2021-07-22T07:19:24.645963Z"
        },
        "trusted": true,
        "id": "2VK8ZjqHbTzj"
      },
      "execution_count": 1,
      "outputs": []
    },
    {
      "cell_type": "code",
      "source": [
        "import warnings\n",
        "warnings.filterwarnings('ignore')"
      ],
      "metadata": {
        "execution": {
          "iopub.status.busy": "2021-07-22T07:19:24.648309Z",
          "iopub.execute_input": "2021-07-22T07:19:24.648641Z",
          "iopub.status.idle": "2021-07-22T07:19:24.654289Z",
          "shell.execute_reply.started": "2021-07-22T07:19:24.648607Z",
          "shell.execute_reply": "2021-07-22T07:19:24.651771Z"
        },
        "trusted": true,
        "id": "tGHolVNhbTzk"
      },
      "execution_count": 2,
      "outputs": []
    },
    {
      "cell_type": "code",
      "source": [
        "import re\n",
        "import string\n",
        "import numpy as np \n",
        "import random\n",
        "import pandas as pd \n",
        "import matplotlib.pyplot as plt\n",
        "import seaborn as sns\n",
        "%matplotlib inline\n",
        "from plotly import graph_objs as go\n",
        "import plotly.express as px\n",
        "import plotly.figure_factory as ff\n",
        "from collections import Counter\n",
        "\n",
        "from PIL import Image\n",
        "from wordcloud import WordCloud, STOPWORDS, ImageColorGenerator\n",
        "\n",
        "\n",
        "import nltk\n",
        "from nltk.corpus import stopwords\n",
        "from nltk.tokenize import word_tokenize\n",
        "\n",
        "from tqdm import tqdm\n",
        "import os\n",
        "import nltk\n",
        "import spacy\n",
        "import random\n",
        "from spacy.util import compounding\n",
        "from spacy.util import minibatch\n",
        "\n",
        "from collections import defaultdict\n",
        "from collections import Counter\n",
        "\n",
        "from sklearn.metrics import precision_score, recall_score, f1_score, classification_report,accuracy_score"
      ],
      "metadata": {
        "execution": {
          "iopub.status.busy": "2021-07-22T07:19:24.655947Z",
          "iopub.execute_input": "2021-07-22T07:19:24.656239Z",
          "iopub.status.idle": "2021-07-22T07:19:33.863838Z",
          "shell.execute_reply.started": "2021-07-22T07:19:24.656182Z",
          "shell.execute_reply": "2021-07-22T07:19:33.862957Z"
        },
        "trusted": true,
        "id": "ZYZQCUolbTzl"
      },
      "execution_count": 10,
      "outputs": []
    },
    {
      "cell_type": "code",
      "source": [
        "import keras\n",
        "from keras.models import Sequential\n",
        "from keras.initializers import Constant\n",
        "from keras.layers import LSTM, Embedding,BatchNormalization, Dense, TimeDistributed, Dropout, Bidirectional, Flatten, GlobalMaxPool1D\n",
        "from keras.preprocessing.text import Tokenizer\n",
        "#from keras.preprocessing.sequence import pad_sequences\n",
        "#from keras.layers.embeddings import Embedding\n",
        "from keras.callbacks import ModelCheckpoint, ReduceLROnPlateau\n",
        "from keras.optimizers import Adam"
      ],
      "metadata": {
        "id": "CQG1qs7wf-8r"
      },
      "execution_count": 12,
      "outputs": []
    },
    {
      "cell_type": "code",
      "source": [
        "# Defining the global variables for the color schemes we will incorporate\n",
        "pblue = \"#496595\"\n",
        "pb2 = \"#85a1c1\"\n",
        "pb3 = \"#3f4d63\"\n",
        "pg = \"#c6ccd8\"\n",
        "pb = \"#202022\"\n",
        "pbg = \"#f4f0ea\"\n",
        "\n",
        "pgreen = px.colors.qualitative.Plotly[2]"
      ],
      "metadata": {
        "execution": {
          "iopub.status.busy": "2021-07-22T07:19:33.865559Z",
          "iopub.execute_input": "2021-07-22T07:19:33.865890Z",
          "iopub.status.idle": "2021-07-22T07:19:33.873330Z",
          "shell.execute_reply.started": "2021-07-22T07:19:33.865856Z",
          "shell.execute_reply": "2021-07-22T07:19:33.872399Z"
        },
        "trusted": true,
        "id": "vui-pD2lbTzl"
      },
      "execution_count": 13,
      "outputs": []
    },
    {
      "cell_type": "code",
      "source": [
        "df = pd.read_csv('../input/sms-spam-collection-dataset/spam.csv')\n",
        "df.head()"
      ],
      "metadata": {
        "execution": {
          "iopub.status.busy": "2021-07-22T07:19:33.876870Z",
          "iopub.execute_input": "2021-07-22T07:19:33.877342Z",
          "iopub.status.idle": "2021-07-22T07:19:33.938927Z",
          "shell.execute_reply.started": "2021-07-22T07:19:33.877299Z",
          "shell.execute_reply": "2021-07-22T07:19:33.938145Z"
        },
        "trusted": true,
        "id": "4KugOXt5bTzl"
      },
      "execution_count": null,
      "outputs": []
    },
    {
      "cell_type": "code",
      "source": [
        "df.shape"
      ],
      "metadata": {
        "execution": {
          "iopub.status.busy": "2021-07-22T07:19:33.940088Z",
          "iopub.execute_input": "2021-07-22T07:19:33.940444Z",
          "iopub.status.idle": "2021-07-22T07:19:33.949994Z",
          "shell.execute_reply.started": "2021-07-22T07:19:33.940411Z",
          "shell.execute_reply": "2021-07-22T07:19:33.949143Z"
        },
        "trusted": true,
        "id": "5lm5mQK1bTzm"
      },
      "execution_count": null,
      "outputs": []
    },
    {
      "cell_type": "code",
      "source": [
        "df.isnull().sum()"
      ],
      "metadata": {
        "execution": {
          "iopub.status.busy": "2021-07-22T07:19:33.951504Z",
          "iopub.execute_input": "2021-07-22T07:19:33.951881Z",
          "iopub.status.idle": "2021-07-22T07:19:33.962969Z",
          "shell.execute_reply.started": "2021-07-22T07:19:33.951848Z",
          "shell.execute_reply": "2021-07-22T07:19:33.961877Z"
        },
        "trusted": true,
        "id": "oUG06LinbTzm"
      },
      "execution_count": null,
      "outputs": []
    },
    {
      "cell_type": "code",
      "source": [
        "df.dtypes"
      ],
      "metadata": {
        "execution": {
          "iopub.status.busy": "2021-07-22T07:19:33.966656Z",
          "iopub.execute_input": "2021-07-22T07:19:33.967247Z",
          "iopub.status.idle": "2021-07-22T07:19:33.975369Z",
          "shell.execute_reply.started": "2021-07-22T07:19:33.967197Z",
          "shell.execute_reply": "2021-07-22T07:19:33.973015Z"
        },
        "trusted": true,
        "id": "5b0xb9XXbTzm"
      },
      "execution_count": null,
      "outputs": []
    },
    {
      "cell_type": "code",
      "source": [
        "df.isnull().sum()"
      ],
      "metadata": {
        "execution": {
          "iopub.status.busy": "2021-07-22T07:19:33.978153Z",
          "iopub.execute_input": "2021-07-22T07:19:33.978837Z",
          "iopub.status.idle": "2021-07-22T07:19:33.989076Z",
          "shell.execute_reply.started": "2021-07-22T07:19:33.978798Z",
          "shell.execute_reply": "2021-07-22T07:19:33.988156Z"
        },
        "trusted": true,
        "id": "hSrHWTdkbTzn"
      },
      "execution_count": null,
      "outputs": []
    },
    {
      "cell_type": "code",
      "source": [
        "df.dropna(axis=1, inplace=True)\n",
        "df.head()"
      ],
      "metadata": {
        "execution": {
          "iopub.status.busy": "2021-07-22T07:19:33.990205Z",
          "iopub.execute_input": "2021-07-22T07:19:33.990727Z",
          "iopub.status.idle": "2021-07-22T07:19:34.021552Z",
          "shell.execute_reply.started": "2021-07-22T07:19:33.990691Z",
          "shell.execute_reply": "2021-07-22T07:19:34.020758Z"
        },
        "trusted": true,
        "id": "7FpcK8PIbTzn"
      },
      "execution_count": null,
      "outputs": []
    },
    {
      "cell_type": "code",
      "source": [
        "df.rename(columns={\"v1\":\"label\", \"v2\":\"text\"}, inplace=True)\n",
        "df.head()"
      ],
      "metadata": {
        "execution": {
          "iopub.status.busy": "2021-07-22T07:19:34.022673Z",
          "iopub.execute_input": "2021-07-22T07:19:34.023188Z",
          "iopub.status.idle": "2021-07-22T07:19:34.033887Z",
          "shell.execute_reply.started": "2021-07-22T07:19:34.023154Z",
          "shell.execute_reply": "2021-07-22T07:19:34.032919Z"
        },
        "trusted": true,
        "id": "79sOaWlWbTzn"
      },
      "execution_count": null,
      "outputs": []
    },
    {
      "cell_type": "code",
      "source": [
        "# Finding maximum length of text message\n",
        "\n",
        "np.max(df['text'].apply(lambda x: len(x.split())).values)"
      ],
      "metadata": {
        "execution": {
          "iopub.status.busy": "2021-07-22T07:19:34.035332Z",
          "iopub.execute_input": "2021-07-22T07:19:34.035948Z",
          "iopub.status.idle": "2021-07-22T07:19:34.054561Z",
          "shell.execute_reply.started": "2021-07-22T07:19:34.035908Z",
          "shell.execute_reply": "2021-07-22T07:19:34.053694Z"
        },
        "trusted": true,
        "id": "Kt39lBWsbTzn"
      },
      "execution_count": null,
      "outputs": []
    },
    {
      "cell_type": "markdown",
      "source": [
        "<h2>Exploratory data analysis</h2>"
      ],
      "metadata": {
        "id": "ygp6ge--bTzo"
      }
    },
    {
      "cell_type": "code",
      "source": [
        "# Checking balance of dataset\n",
        "grouped_df = df.groupby('label').count().values.flatten()\n",
        "grouped_df"
      ],
      "metadata": {
        "execution": {
          "iopub.status.busy": "2021-07-22T07:19:34.055971Z",
          "iopub.execute_input": "2021-07-22T07:19:34.056504Z",
          "iopub.status.idle": "2021-07-22T07:19:34.067397Z",
          "shell.execute_reply.started": "2021-07-22T07:19:34.056468Z",
          "shell.execute_reply": "2021-07-22T07:19:34.066274Z"
        },
        "trusted": true,
        "id": "1SHEj4pBbTzo"
      },
      "execution_count": null,
      "outputs": []
    },
    {
      "cell_type": "markdown",
      "source": [
        "The 'text' property is a string and must be specified as:\n",
        "\n",
        "      - A string\n",
        "      - A number that will be converted to a string\n",
        "      - A tuple, list, or one-dimensional numpy array \n",
        "      \n",
        "The 'x' and 'y' property is an array that may be specified as a tuple,\n",
        "    list, numpy array, or pandas Series"
      ],
      "metadata": {
        "id": "d2LCAR8NbTzo"
      }
    },
    {
      "cell_type": "code",
      "source": [
        "fig = go.Figure()\n",
        "\n",
        "fig.add_trace(go.Bar(\n",
        "        x=['ham'],\n",
        "        y=[grouped_df[0]],\n",
        "        name='Safe',\n",
        "        text=[grouped_df[0]],\n",
        "        textposition='auto',\n",
        "        marker_color=pblue\n",
        ")\n",
        "             )\n",
        "fig.add_trace(go.Bar(\n",
        "        x=['spam'],\n",
        "        y=[grouped_df[1]],\n",
        "        name='Spam',\n",
        "        text=[grouped_df[1]],\n",
        "        textposition='auto',\n",
        "        marker_color=pg\n",
        "))\n",
        "\n",
        "fig.update_layout(\n",
        "    title='Class distribution in the dataset')\n",
        "\n",
        "fig.show()"
      ],
      "metadata": {
        "execution": {
          "iopub.status.busy": "2021-07-22T07:19:34.069039Z",
          "iopub.execute_input": "2021-07-22T07:19:34.069410Z",
          "iopub.status.idle": "2021-07-22T07:19:34.150538Z",
          "shell.execute_reply.started": "2021-07-22T07:19:34.069375Z",
          "shell.execute_reply": "2021-07-22T07:19:34.149794Z"
        },
        "trusted": true,
        "id": "Rsk92WdZbTzo"
      },
      "execution_count": null,
      "outputs": []
    },
    {
      "cell_type": "code",
      "source": [
        "# Creating series with length as index\n",
        "# Sorting the series by index i.e. length\n",
        "len_df_ham = df[df['label']=='ham'].text.apply(lambda x: len(x.split())).value_counts().sort_index()\n",
        "len_df_spam = df[df['label']=='spam'].text.apply(lambda x: len(x.split())).value_counts().sort_index()"
      ],
      "metadata": {
        "execution": {
          "iopub.status.busy": "2021-07-22T07:19:34.151723Z",
          "iopub.execute_input": "2021-07-22T07:19:34.152050Z",
          "iopub.status.idle": "2021-07-22T07:19:34.174191Z",
          "shell.execute_reply.started": "2021-07-22T07:19:34.152016Z",
          "shell.execute_reply": "2021-07-22T07:19:34.173491Z"
        },
        "trusted": true,
        "id": "s_u1HbpNbTzo"
      },
      "execution_count": null,
      "outputs": []
    },
    {
      "cell_type": "code",
      "source": [
        "len_df_ham"
      ],
      "metadata": {
        "execution": {
          "iopub.status.busy": "2021-07-22T07:19:34.175327Z",
          "iopub.execute_input": "2021-07-22T07:19:34.175663Z",
          "iopub.status.idle": "2021-07-22T07:19:34.182580Z",
          "shell.execute_reply.started": "2021-07-22T07:19:34.175631Z",
          "shell.execute_reply": "2021-07-22T07:19:34.181403Z"
        },
        "trusted": true,
        "id": "c_-oTY0hbTzo"
      },
      "execution_count": null,
      "outputs": []
    },
    {
      "cell_type": "code",
      "source": [
        "len_df_spam"
      ],
      "metadata": {
        "execution": {
          "iopub.status.busy": "2021-07-22T07:19:34.183911Z",
          "iopub.execute_input": "2021-07-22T07:19:34.184348Z",
          "iopub.status.idle": "2021-07-22T07:19:34.192433Z",
          "shell.execute_reply.started": "2021-07-22T07:19:34.184315Z",
          "shell.execute_reply": "2021-07-22T07:19:34.191437Z"
        },
        "trusted": true,
        "id": "4LClrcrfbTzp"
      },
      "execution_count": null,
      "outputs": []
    },
    {
      "cell_type": "code",
      "source": [
        "# X-axis consists of the length of the msgs\n",
        "# Y-axis consists of the frequency of those lengths\n",
        "\n",
        "fig = go.Figure()\n",
        "fig.add_trace(go.Scatter(\n",
        "x=len_df_ham.index,\n",
        "y=len_df_ham.values,\n",
        "name='Safe',\n",
        "fill='tozeroy',\n",
        "marker_color=pblue))\n",
        "\n",
        "fig.add_trace(go.Scatter(\n",
        "x=len_df_spam.index,\n",
        "y=len_df_spam.values,\n",
        "name='Spam',\n",
        "fill='tozeroy',\n",
        "marker_color=pg\n",
        "))\n",
        "\n",
        "fig.update_layout(\n",
        "    title='Frequency of SMS lengths')\n",
        "fig.update_xaxes(range=[0, 80])\n",
        "fig.show()"
      ],
      "metadata": {
        "execution": {
          "iopub.status.busy": "2021-07-22T07:19:34.193971Z",
          "iopub.execute_input": "2021-07-22T07:19:34.194475Z",
          "iopub.status.idle": "2021-07-22T07:19:34.254265Z",
          "shell.execute_reply.started": "2021-07-22T07:19:34.194440Z",
          "shell.execute_reply": "2021-07-22T07:19:34.253332Z"
        },
        "trusted": true,
        "id": "fT6p-eCnbTzp"
      },
      "execution_count": null,
      "outputs": []
    },
    {
      "cell_type": "markdown",
      "source": [
        "We can see that the safe SMS messages are much shorter than the spam messages."
      ],
      "metadata": {
        "id": "9LwluEfUbTzp"
      }
    },
    {
      "cell_type": "markdown",
      "source": [
        "<h2>Data preprocessing</h2>"
      ],
      "metadata": {
        "id": "FH6lVarIbTzp"
      }
    },
    {
      "cell_type": "code",
      "source": [
        "def cleaning(text):\n",
        "    text = str(text).lower()\n",
        "    text = re.sub('\\[.*?\\]', '', text)\n",
        "    text = re.sub('https?://\\S+|www\\.\\S+', '', text)\n",
        "    text = re.sub('<.*?>+', '', text)\n",
        "    text = re.sub('[%s]' % re.escape(string.punctuation), '', text)\n",
        "    text = re.sub('\\n', '', text)\n",
        "    text = re.sub('\\w*\\d\\w*', '', text)\n",
        "    return text"
      ],
      "metadata": {
        "execution": {
          "iopub.status.busy": "2021-07-22T07:19:34.255700Z",
          "iopub.execute_input": "2021-07-22T07:19:34.256051Z",
          "iopub.status.idle": "2021-07-22T07:19:34.263946Z",
          "shell.execute_reply.started": "2021-07-22T07:19:34.256012Z",
          "shell.execute_reply": "2021-07-22T07:19:34.263241Z"
        },
        "trusted": true,
        "id": "nIEGDD3abTzp"
      },
      "execution_count": null,
      "outputs": []
    },
    {
      "cell_type": "code",
      "source": [
        "df['text']"
      ],
      "metadata": {
        "execution": {
          "iopub.status.busy": "2021-07-22T07:19:34.265368Z",
          "iopub.execute_input": "2021-07-22T07:19:34.265639Z",
          "iopub.status.idle": "2021-07-22T07:19:34.276185Z",
          "shell.execute_reply.started": "2021-07-22T07:19:34.265615Z",
          "shell.execute_reply": "2021-07-22T07:19:34.275319Z"
        },
        "trusted": true,
        "id": "uMrZll7mbTzp"
      },
      "execution_count": null,
      "outputs": []
    },
    {
      "cell_type": "code",
      "source": [
        "df['text'] = df['text'].apply(cleaning)\n",
        "df['text']"
      ],
      "metadata": {
        "execution": {
          "iopub.status.busy": "2021-07-22T07:19:34.277159Z",
          "iopub.execute_input": "2021-07-22T07:19:34.277550Z",
          "iopub.status.idle": "2021-07-22T07:19:34.445098Z",
          "shell.execute_reply.started": "2021-07-22T07:19:34.277522Z",
          "shell.execute_reply": "2021-07-22T07:19:34.444293Z"
        },
        "trusted": true,
        "id": "pjA1Mca9bTzp"
      },
      "execution_count": null,
      "outputs": []
    },
    {
      "cell_type": "code",
      "source": [
        "# Removing stop words\n",
        "stop_words = stopwords.words('english')\n",
        "more = ['u', 'im', 'c']\n",
        "stop_words = stop_words + more\n",
        "\n",
        "\n",
        "def sw_rem(text):\n",
        "    text = ' '.join(word for word in text.split(' ') if word not in stop_words)\n",
        "    return text\n",
        "\n",
        "df['text'] = df['text'].apply(sw_rem)\n",
        "df['text']"
      ],
      "metadata": {
        "execution": {
          "iopub.status.busy": "2021-07-22T07:19:34.446167Z",
          "iopub.execute_input": "2021-07-22T07:19:34.446495Z",
          "iopub.status.idle": "2021-07-22T07:19:34.632947Z",
          "shell.execute_reply.started": "2021-07-22T07:19:34.446462Z",
          "shell.execute_reply": "2021-07-22T07:19:34.632166Z"
        },
        "trusted": true,
        "id": "9Q4qZD12bTzp"
      },
      "execution_count": null,
      "outputs": []
    },
    {
      "cell_type": "markdown",
      "source": [
        "<h2>Stemming and lemmatization</h2>\n",
        "\n",
        "Documents and other forms of text use different forms of the same words, such as play, playing, played. There are families of derivationally related words that have similar meanings. Our main task with stemming and lemmatization is to reduce all these derived words into the parent/family word, therefore reducing the total vocabulary while retaining information.\n",
        "\n",
        "* **Stemming** - Omits the ends of words to achieve the goal correctly, this works **most of the times** and can also remove the derivational suffix\n",
        "\n",
        "* **Lemmatization** - Working with a vocabulary and morphological analysis of wrods, removing inflectional endings only and returning the base and dictionary form of a word.\n",
        "\n",
        "As we do not require much emphasis on words, we will focus more on stemming than lemmatization,.\n",
        "\n",
        "<h3>Stemming algorithms</h3>\n",
        "\n",
        "We have multiple algorithms to achieve our stemming goals, some of them are as follows:\n",
        "\n",
        "* PorterStemmer - Fast and efficient. Strips off the end (suffix) to produce the stems. It does not follow linguistics but rather a set of 05 rules for diferent cases. \n",
        "\n",
        "* SnowballStemmer - Generate a set of rules for any language. These are useful for non-english stemming tasks.\n",
        "\n",
        "* LancasterStemmer - Iterative algorithm, uses about 120 rules, it tries to find an applicable rule by the last character of each word. The last character may be omitted or replaced."
      ],
      "metadata": {
        "id": "7mtqTbkZbTzp"
      }
    },
    {
      "cell_type": "code",
      "source": [
        "stems = nltk.SnowballStemmer('english')\n",
        "\n",
        "def stemming(text):\n",
        "    text = ' '.join(stems.stem(word) for word in text.split())\n",
        "    return text"
      ],
      "metadata": {
        "execution": {
          "iopub.status.busy": "2021-07-22T07:19:34.637796Z",
          "iopub.execute_input": "2021-07-22T07:19:34.638034Z",
          "iopub.status.idle": "2021-07-22T07:19:34.644485Z",
          "shell.execute_reply.started": "2021-07-22T07:19:34.638010Z",
          "shell.execute_reply": "2021-07-22T07:19:34.643533Z"
        },
        "trusted": true,
        "id": "sIVQJkvabTzq"
      },
      "execution_count": null,
      "outputs": []
    },
    {
      "cell_type": "code",
      "source": [
        "df['text'] = df['text'].apply(stemming)\n",
        "df.head()"
      ],
      "metadata": {
        "execution": {
          "iopub.status.busy": "2021-07-22T07:19:34.648598Z",
          "iopub.execute_input": "2021-07-22T07:19:34.648895Z",
          "iopub.status.idle": "2021-07-22T07:19:35.320677Z",
          "shell.execute_reply.started": "2021-07-22T07:19:34.648871Z",
          "shell.execute_reply": "2021-07-22T07:19:35.319722Z"
        },
        "trusted": true,
        "id": "FMajbaLCbTzq"
      },
      "execution_count": null,
      "outputs": []
    },
    {
      "cell_type": "code",
      "source": [
        "# Creating a pipeline\n",
        "\n",
        "def pipeline(text):\n",
        "    text = cleaning(text)\n",
        "    text = ' ' .join(word for word in text.split(' ') if word not in stop_words)\n",
        "    text = ' '.join(stems.stem(word) for word in text.split(' '))\n",
        "    return text"
      ],
      "metadata": {
        "execution": {
          "iopub.status.busy": "2021-07-22T07:19:35.322170Z",
          "iopub.execute_input": "2021-07-22T07:19:35.322534Z",
          "iopub.status.idle": "2021-07-22T07:19:35.327910Z",
          "shell.execute_reply.started": "2021-07-22T07:19:35.322496Z",
          "shell.execute_reply": "2021-07-22T07:19:35.326929Z"
        },
        "trusted": true,
        "id": "ZmOR_yEabTzq"
      },
      "execution_count": null,
      "outputs": []
    },
    {
      "cell_type": "code",
      "source": [
        "df['text'] = df['text'].apply(pipeline)\n",
        "df.head()"
      ],
      "metadata": {
        "execution": {
          "iopub.status.busy": "2021-07-22T07:19:35.329475Z",
          "iopub.execute_input": "2021-07-22T07:19:35.329895Z",
          "iopub.status.idle": "2021-07-22T07:19:36.229491Z",
          "shell.execute_reply.started": "2021-07-22T07:19:35.329858Z",
          "shell.execute_reply": "2021-07-22T07:19:36.228545Z"
        },
        "trusted": true,
        "id": "lTq5zuBQbTzq"
      },
      "execution_count": null,
      "outputs": []
    },
    {
      "cell_type": "code",
      "source": [
        "# Encoding the categorical target variable\n",
        "from sklearn.preprocessing import LabelEncoder\n",
        "\n",
        "le = LabelEncoder()\n",
        "le.fit(df['label'])\n",
        "\n",
        "df['label_num'] = le.transform(df['label'])\n",
        "df.head()"
      ],
      "metadata": {
        "execution": {
          "iopub.status.busy": "2021-07-22T07:19:36.230908Z",
          "iopub.execute_input": "2021-07-22T07:19:36.231268Z",
          "iopub.status.idle": "2021-07-22T07:19:36.243760Z",
          "shell.execute_reply.started": "2021-07-22T07:19:36.231216Z",
          "shell.execute_reply": "2021-07-22T07:19:36.242785Z"
        },
        "trusted": true,
        "id": "PLYJUYy7bTzq"
      },
      "execution_count": null,
      "outputs": []
    },
    {
      "cell_type": "markdown",
      "source": [
        "<h2>Visualizing tokens</h2>"
      ],
      "metadata": {
        "id": "Me7mobO4bTzq"
      }
    },
    {
      "cell_type": "code",
      "source": [
        "# This will combine all the text values for safe sms\n",
        "#' '.join(text for text in df[df['label']=='ham'].text)"
      ],
      "metadata": {
        "execution": {
          "iopub.status.busy": "2021-07-22T07:19:36.245322Z",
          "iopub.execute_input": "2021-07-22T07:19:36.245684Z",
          "iopub.status.idle": "2021-07-22T07:19:36.252824Z",
          "shell.execute_reply.started": "2021-07-22T07:19:36.245650Z",
          "shell.execute_reply": "2021-07-22T07:19:36.251963Z"
        },
        "trusted": true,
        "id": "U0dml2-qbTzq"
      },
      "execution_count": null,
      "outputs": []
    },
    {
      "cell_type": "code",
      "source": [
        "# Extracting the twitter word cloud mask\n",
        "twitter_mask = np.array(Image.open('/kaggle/input/masksforwordclouds/twitter_mask3.jpg'))\n",
        "\n",
        "wc = WordCloud(background_color='white', max_words=200, mask=twitter_mask)\n",
        "\n",
        "wc.generate(' '.join(text for text in df[df['label']=='ham'].text))\n",
        "plt.figure(figsize=(15, 10))\n",
        "plt.title('Top words for safe messages', fontdict={'size':22})\n",
        "plt.imshow(wc)\n",
        "plt.axis('off')\n",
        "plt.show()"
      ],
      "metadata": {
        "execution": {
          "iopub.status.busy": "2021-07-22T07:19:36.254410Z",
          "iopub.execute_input": "2021-07-22T07:19:36.254820Z",
          "iopub.status.idle": "2021-07-22T07:19:37.225740Z",
          "shell.execute_reply.started": "2021-07-22T07:19:36.254787Z",
          "shell.execute_reply": "2021-07-22T07:19:37.224934Z"
        },
        "trusted": true,
        "id": "GEaBZ0Z0bTzq"
      },
      "execution_count": null,
      "outputs": []
    },
    {
      "cell_type": "code",
      "source": [
        "# Extracting the twitter word cloud mask\n",
        "wc = WordCloud(background_color='white', max_words=200, mask=twitter_mask)\n",
        "\n",
        "wc.generate(' '.join(text for text in df[df['label']=='spam'].text))\n",
        "plt.figure(figsize=(15, 10))\n",
        "plt.title('Top words for Spam messages', fontdict={'size':22})\n",
        "plt.imshow(wc)\n",
        "plt.axis('off')\n",
        "plt.show()"
      ],
      "metadata": {
        "execution": {
          "iopub.status.busy": "2021-07-22T07:19:37.226819Z",
          "iopub.execute_input": "2021-07-22T07:19:37.227141Z",
          "iopub.status.idle": "2021-07-22T07:19:37.900606Z",
          "shell.execute_reply.started": "2021-07-22T07:19:37.227102Z",
          "shell.execute_reply": "2021-07-22T07:19:37.899625Z"
        },
        "trusted": true,
        "id": "efHuklgJbTzq"
      },
      "execution_count": null,
      "outputs": []
    },
    {
      "cell_type": "markdown",
      "source": [
        "<h2>Vectorization</h2>\n",
        "\n",
        "We currently have each text record in string format. We need to convert each of those records into a vector that our models can work with. We will first do this using the bag-of-words model.\n",
        "\n",
        "We will use two major approaches here\n",
        "\n",
        "* **CountVectorizer** - Working on frequency of each word in the given string.\n",
        "\n",
        "* **Term frequency-inverse document frqeuency TFIDF** - Works on frequency divided by the appearance of the given word in the total documents."
      ],
      "metadata": {
        "id": "HHQbjdNubTzq"
      }
    },
    {
      "cell_type": "code",
      "source": [
        "x = df['text']\n",
        "y = df['label_num']\n",
        "\n",
        "len(x), len(y)"
      ],
      "metadata": {
        "execution": {
          "iopub.status.busy": "2021-07-22T07:19:37.902294Z",
          "iopub.execute_input": "2021-07-22T07:19:37.902642Z",
          "iopub.status.idle": "2021-07-22T07:19:37.908869Z",
          "shell.execute_reply.started": "2021-07-22T07:19:37.902606Z",
          "shell.execute_reply": "2021-07-22T07:19:37.908108Z"
        },
        "trusted": true,
        "id": "2H_Q-onxbTzq"
      },
      "execution_count": null,
      "outputs": []
    },
    {
      "cell_type": "code",
      "source": [
        "from sklearn.model_selection import train_test_split\n",
        "\n",
        "x_train, x_test, y_train, y_test = train_test_split(x, y)\n",
        "print(len(x_train), len(y_train))\n",
        "print(len(x_test), len(y_test))"
      ],
      "metadata": {
        "execution": {
          "iopub.status.busy": "2021-07-22T07:19:37.910102Z",
          "iopub.execute_input": "2021-07-22T07:19:37.910635Z",
          "iopub.status.idle": "2021-07-22T07:19:37.922807Z",
          "shell.execute_reply.started": "2021-07-22T07:19:37.910600Z",
          "shell.execute_reply": "2021-07-22T07:19:37.921852Z"
        },
        "trusted": true,
        "id": "wmhFTemSbTzr"
      },
      "execution_count": null,
      "outputs": []
    },
    {
      "cell_type": "code",
      "source": [
        "# First working with count vectorizer\n",
        "\n",
        "from sklearn.feature_extraction.text import CountVectorizer\n",
        "\n",
        "# instantiate the vectorizer\n",
        "count = CountVectorizer()\n",
        "count.fit(x)\n",
        "\n",
        "x_train_num = count.transform(x_train)\n",
        "x_test_num = count.transform(x_test)"
      ],
      "metadata": {
        "execution": {
          "iopub.status.busy": "2021-07-22T07:19:37.923950Z",
          "iopub.execute_input": "2021-07-22T07:19:37.924335Z",
          "iopub.status.idle": "2021-07-22T07:19:38.072712Z",
          "shell.execute_reply.started": "2021-07-22T07:19:37.924300Z",
          "shell.execute_reply": "2021-07-22T07:19:38.071942Z"
        },
        "trusted": true,
        "id": "CZeSfKTDbTzr"
      },
      "execution_count": null,
      "outputs": []
    },
    {
      "cell_type": "markdown",
      "source": [
        "The CountVectorizer model can be tuned in a variety of ways:\n",
        "\n",
        "* Stop words - Extremely common words can be omitted by the model by setting this parameter to the language corresponding to the text.\n",
        "\n",
        "* ngram_range - It pairs up words together as features. If we consider bigrams and we have a sentence \"I am happy\", we will have two features - [\"I am\", \"am happy\"]. We can define a range of ngrams, so if we have the same sentence with a range from 1 to 2, our features will be:  `[\"I\", \"am\", \"happy\", \"I am\", \"am happy\"]`. This increase is features helps to fine tune the model.\n",
        "\n",
        "* min_df, max_df - Minimum and maximum frequencies of words of n-grams that can be used as features. If either of the conditions are not met, the feature will be omitted.\n",
        "\n",
        "* max_features - Choose the most frequent words and drop everything else."
      ],
      "metadata": {
        "id": "GGfRWGYWbTzr"
      }
    },
    {
      "cell_type": "code",
      "source": [
        "# Example of a tuned model\n",
        "count_tuned = CountVectorizer(stop_words='english', ngram_range=(1,2), min_df=0.1, max_df=0.7, max_features=100)"
      ],
      "metadata": {
        "execution": {
          "iopub.status.busy": "2021-07-22T07:19:38.075383Z",
          "iopub.execute_input": "2021-07-22T07:19:38.075626Z",
          "iopub.status.idle": "2021-07-22T07:19:38.081638Z",
          "shell.execute_reply.started": "2021-07-22T07:19:38.075602Z",
          "shell.execute_reply": "2021-07-22T07:19:38.080847Z"
        },
        "trusted": true,
        "id": "hpaGBv5xbTzr"
      },
      "execution_count": null,
      "outputs": []
    },
    {
      "cell_type": "code",
      "source": [
        "# Working with TF-IDF now\n",
        "from sklearn.feature_extraction.text import TfidfTransformer\n",
        "# We are using transformer here\n",
        "# If we use vectorizer, we can directly use the text\n",
        "tfidf = TfidfTransformer()\n",
        "\n",
        "tfidf.fit(x_train_num)\n",
        "x_train_tfidf = tfidf.transform(x_train_num)\n",
        "\n",
        "x_train_tfidf"
      ],
      "metadata": {
        "execution": {
          "iopub.status.busy": "2021-07-22T07:19:38.082839Z",
          "iopub.execute_input": "2021-07-22T07:19:38.083507Z",
          "iopub.status.idle": "2021-07-22T07:19:38.100292Z",
          "shell.execute_reply.started": "2021-07-22T07:19:38.083463Z",
          "shell.execute_reply": "2021-07-22T07:19:38.099576Z"
        },
        "trusted": true,
        "id": "y2_h-DwobTzr"
      },
      "execution_count": null,
      "outputs": []
    },
    {
      "cell_type": "markdown",
      "source": [
        "<h2>Working with Embeddings - GloVe</h2>"
      ],
      "metadata": {
        "id": "stMzLo3NbTzr"
      }
    },
    {
      "cell_type": "code",
      "source": [
        "text = df['text']\n",
        "label = df['label_num']"
      ],
      "metadata": {
        "execution": {
          "iopub.status.busy": "2021-07-22T07:19:38.102711Z",
          "iopub.execute_input": "2021-07-22T07:19:38.102946Z",
          "iopub.status.idle": "2021-07-22T07:19:38.107161Z",
          "shell.execute_reply.started": "2021-07-22T07:19:38.102924Z",
          "shell.execute_reply": "2021-07-22T07:19:38.106145Z"
        },
        "trusted": true,
        "id": "cz2aUBrVbTzr"
      },
      "execution_count": null,
      "outputs": []
    },
    {
      "cell_type": "code",
      "source": [
        "# Calculating the total vocabulary\n",
        "tk = Tokenizer()\n",
        "tk.fit_on_texts(text)\n",
        "\n",
        "vocab = len(tk.word_index)+1\n",
        "vocab"
      ],
      "metadata": {
        "execution": {
          "iopub.status.busy": "2021-07-22T07:19:38.108808Z",
          "iopub.execute_input": "2021-07-22T07:19:38.109163Z",
          "iopub.status.idle": "2021-07-22T07:19:38.195624Z",
          "shell.execute_reply.started": "2021-07-22T07:19:38.109130Z",
          "shell.execute_reply": "2021-07-22T07:19:38.194711Z"
        },
        "trusted": true,
        "id": "Ke4YuaK3bTzr"
      },
      "execution_count": null,
      "outputs": []
    },
    {
      "cell_type": "markdown",
      "source": [
        "Now we will proceed with converting the text to numerical values and also padding the vectors so each of them are of equal length. "
      ],
      "metadata": {
        "id": "-7Rd4foTbTzr"
      }
    },
    {
      "cell_type": "code",
      "source": [
        "# Maximum length\n",
        "max_len = np.max(df['text'].apply(lambda x: len(x.split())).values)\n",
        "max_len"
      ],
      "metadata": {
        "execution": {
          "iopub.status.busy": "2021-07-22T07:19:38.196818Z",
          "iopub.execute_input": "2021-07-22T07:19:38.197147Z",
          "iopub.status.idle": "2021-07-22T07:19:38.210155Z",
          "shell.execute_reply.started": "2021-07-22T07:19:38.197113Z",
          "shell.execute_reply": "2021-07-22T07:19:38.209330Z"
        },
        "trusted": true,
        "id": "BnSQtL-WbTzr"
      },
      "execution_count": null,
      "outputs": []
    },
    {
      "cell_type": "code",
      "source": [
        "text"
      ],
      "metadata": {
        "execution": {
          "iopub.status.busy": "2021-07-22T07:19:38.211588Z",
          "iopub.execute_input": "2021-07-22T07:19:38.212169Z",
          "iopub.status.idle": "2021-07-22T07:19:38.220511Z",
          "shell.execute_reply.started": "2021-07-22T07:19:38.212134Z",
          "shell.execute_reply": "2021-07-22T07:19:38.219573Z"
        },
        "trusted": true,
        "id": "gaCkx6MxbTzr"
      },
      "execution_count": null,
      "outputs": []
    },
    {
      "cell_type": "code",
      "source": [
        "def embedding(text):\n",
        "    return tk.texts_to_sequences(text)\n",
        "\n",
        "train_padded = pad_sequences(embedding(text), 80, padding='post')\n",
        "train_padded"
      ],
      "metadata": {
        "execution": {
          "iopub.status.busy": "2021-07-22T07:19:38.221743Z",
          "iopub.execute_input": "2021-07-22T07:19:38.222143Z",
          "iopub.status.idle": "2021-07-22T07:19:38.328154Z",
          "shell.execute_reply.started": "2021-07-22T07:19:38.222109Z",
          "shell.execute_reply": "2021-07-22T07:19:38.327262Z"
        },
        "trusted": true,
        "id": "5TT47dLwbTzr"
      },
      "execution_count": null,
      "outputs": []
    },
    {
      "cell_type": "markdown",
      "source": [
        "<h2>GloVe Embeddings</h2>\n",
        "\n",
        "These embeddings are based on the principle that we can derive sematic relationships between words from their co-occurence matrix. This embedding focuses on words co-occurrences over the whole corpus. \n",
        "\n",
        "They are a form of word representation that try to merge human understanding of languages into their structure. They have a learned representation in an n-dimension space, where words with similar meanings have similar embeddings. Two similar words are represented by almost similar vectors that are at a small distance in the vector space.\n",
        "\n",
        "When using a vector space, all the words are represented as vectors in a predefined N-dimension vector space. Each word is mapped to a vector and the vector values are learned in a way that resembles a neural network."
      ],
      "metadata": {
        "id": "7rthEL5XbTzs"
      }
    },
    {
      "cell_type": "code",
      "source": [
        "# Using our helper functions for GloVe\n",
        "\n",
        "embedding_dict = dict()\n",
        "embedding_dim = 100\n",
        "\n",
        "# Each word is represented in one line in the text file\n",
        "# Format - Word val1 val2 val3......val-n for n-dimension vector space\n",
        "\n",
        "with open('../input/glove6b100dtxt/glove.6B.100d.txt') as fp:\n",
        "    for line in fp.readlines():\n",
        "        records = line.split()\n",
        "        word = records[0]\n",
        "        vector = np.asarray(records[1:], dtype='float32')\n",
        "        embedding_dict[word] = vector"
      ],
      "metadata": {
        "execution": {
          "iopub.status.busy": "2021-07-22T07:19:38.329341Z",
          "iopub.execute_input": "2021-07-22T07:19:38.329674Z",
          "iopub.status.idle": "2021-07-22T07:20:00.156789Z",
          "shell.execute_reply.started": "2021-07-22T07:19:38.329641Z",
          "shell.execute_reply": "2021-07-22T07:20:00.152615Z"
        },
        "trusted": true,
        "id": "DN6dVnDebTzs"
      },
      "execution_count": null,
      "outputs": []
    },
    {
      "cell_type": "code",
      "source": [
        "# Creating a matrix for each word as index (word numerical value extracted from tokenizer\n",
        "# with N-features (corresponding to GloVe)\n",
        "# We will replace the matrix elements by the words and their embeddings\n",
        "\n",
        "# Our embeddings will also consist embeddings for padding\n",
        "embedding_matrix = np.zeros((vocab, embedding_dim))\n",
        "\n",
        "for word, index in tk.word_index.items():\n",
        "    embed_vector = embedding_dict.get(word)\n",
        "    if embed_vector is not None:\n",
        "        embedding_matrix[index] = embed_vector\n",
        "        \n",
        "embedding_matrix"
      ],
      "metadata": {
        "execution": {
          "iopub.status.busy": "2021-07-22T07:20:00.166719Z",
          "iopub.execute_input": "2021-07-22T07:20:00.166993Z",
          "iopub.status.idle": "2021-07-22T07:20:00.188442Z",
          "shell.execute_reply.started": "2021-07-22T07:20:00.166967Z",
          "shell.execute_reply": "2021-07-22T07:20:00.187286Z"
        },
        "trusted": true,
        "id": "lCbG_BxLbTzs"
      },
      "execution_count": null,
      "outputs": []
    },
    {
      "cell_type": "code",
      "source": [
        "# We will be creating seaborn and plotly confusion matrices\n",
        "import plotly.figure_factory as ff\n",
        "x_axes = ['Safe','Spam']\n",
        "y_axes = ['Spam', 'Safe']\n",
        "\n",
        "def conf_matrix(z, x=x_axes, y=y_axes):\n",
        "    z = np.flip(z, 0)\n",
        "    # Change each element of z to string \n",
        "    # This allows them to be used as annotations\n",
        "    z_str = [[str(y) for y in x] for x in z]\n",
        "    fig = ff.create_annotated_heatmap(z, x=x, y=y, annotation_text=z_str)\n",
        "    \n",
        "    fig.update_layout(title_text='Confusion matrix', xaxis=dict(title='Predicted Value'),\n",
        "                     yaxis=dict(title='Real value'))\n",
        "    \n",
        "    fig['data'][0]['showscale'] = True\n",
        "    return fig"
      ],
      "metadata": {
        "execution": {
          "iopub.status.busy": "2021-07-22T07:20:00.189958Z",
          "iopub.execute_input": "2021-07-22T07:20:00.190354Z",
          "iopub.status.idle": "2021-07-22T07:20:00.196997Z",
          "shell.execute_reply.started": "2021-07-22T07:20:00.190315Z",
          "shell.execute_reply": "2021-07-22T07:20:00.196178Z"
        },
        "trusted": true,
        "id": "jzkSV1dxbTzs"
      },
      "execution_count": null,
      "outputs": []
    },
    {
      "cell_type": "code",
      "source": [
        "from sklearn.metrics import confusion_matrix\n",
        "categories=['Safe', 'Spam']\n",
        "def seaborn_conf(y, ypred):\n",
        "    y_true = [\"Safe\", \"Spam\"]\n",
        "    y_pred = [\"Safe\", \"Spam\"]\n",
        "    cf = confusion_matrix(y, ypred)\n",
        "    df_cm = pd.DataFrame(cf, columns=np.unique(y_true), index = np.unique(y_true))\n",
        "    plt.figure(figsize=(8,6))\n",
        "    sns.heatmap(df_cm, annot=True, fmt='g')\n",
        "    plt.title('Confusion matrix')\n",
        "    plt.xlabel('Predicted value')\n",
        "    plt.ylabel('Real value')\n",
        "    plt.show()"
      ],
      "metadata": {
        "execution": {
          "iopub.status.busy": "2021-07-22T07:20:00.198350Z",
          "iopub.execute_input": "2021-07-22T07:20:00.198932Z",
          "iopub.status.idle": "2021-07-22T07:20:00.210097Z",
          "shell.execute_reply.started": "2021-07-22T07:20:00.198892Z",
          "shell.execute_reply": "2021-07-22T07:20:00.209122Z"
        },
        "trusted": true,
        "id": "Vrx_tFXIbTzs"
      },
      "execution_count": null,
      "outputs": []
    },
    {
      "cell_type": "markdown",
      "source": [
        "<h2>Model creation and prediction</h2>\n",
        "\n",
        "We will first start with the **naive bayes classifier** which comes from a family of simple \"probabilistic classifiers\" based on application of Bayes theroem with strong independent assumptions between features.\n",
        "\n",
        "The model is highly scalable, with number of parameters being linear with number of variables. "
      ],
      "metadata": {
        "id": "jCJ0ZULybTzs"
      }
    },
    {
      "cell_type": "code",
      "source": [
        "from sklearn.naive_bayes import MultinomialNB\n",
        "nb = MultinomialNB()\n",
        "\n",
        "# Train the model - CountVectorizer model\n",
        "nb.fit(x_train_num, y_train)"
      ],
      "metadata": {
        "execution": {
          "iopub.status.busy": "2021-07-22T07:20:00.211386Z",
          "iopub.execute_input": "2021-07-22T07:20:00.211958Z",
          "iopub.status.idle": "2021-07-22T07:20:00.228441Z",
          "shell.execute_reply.started": "2021-07-22T07:20:00.211923Z",
          "shell.execute_reply": "2021-07-22T07:20:00.227282Z"
        },
        "trusted": true,
        "id": "SzBNsBkFbTzs"
      },
      "execution_count": null,
      "outputs": []
    },
    {
      "cell_type": "code",
      "source": [
        "# Class and probability predictions\n",
        "yp_class = nb.predict(x_test_num)\n",
        "yp_prob = nb.predict_proba(x_test_num)[:, 1]"
      ],
      "metadata": {
        "execution": {
          "iopub.status.busy": "2021-07-22T07:20:00.229928Z",
          "iopub.execute_input": "2021-07-22T07:20:00.230366Z",
          "iopub.status.idle": "2021-07-22T07:20:00.237137Z",
          "shell.execute_reply.started": "2021-07-22T07:20:00.230320Z",
          "shell.execute_reply": "2021-07-22T07:20:00.235692Z"
        },
        "trusted": true,
        "id": "FGhn_HVSbTzs"
      },
      "execution_count": null,
      "outputs": []
    },
    {
      "cell_type": "code",
      "source": [
        "from sklearn import metrics\n",
        "print(metrics.accuracy_score(y_test, yp_class))\n",
        "seaborn_conf(y_test, yp_class)"
      ],
      "metadata": {
        "execution": {
          "iopub.status.busy": "2021-07-22T07:20:00.239017Z",
          "iopub.execute_input": "2021-07-22T07:20:00.239531Z",
          "iopub.status.idle": "2021-07-22T07:20:00.483798Z",
          "shell.execute_reply.started": "2021-07-22T07:20:00.239487Z",
          "shell.execute_reply": "2021-07-22T07:20:00.483032Z"
        },
        "trusted": true,
        "id": "ClNtr8a4bTzs"
      },
      "execution_count": null,
      "outputs": []
    },
    {
      "cell_type": "code",
      "source": [
        "metrics.roc_auc_score(y_test, yp_prob)"
      ],
      "metadata": {
        "execution": {
          "iopub.status.busy": "2021-07-22T07:20:00.485101Z",
          "iopub.execute_input": "2021-07-22T07:20:00.485464Z",
          "iopub.status.idle": "2021-07-22T07:20:00.495357Z",
          "shell.execute_reply.started": "2021-07-22T07:20:00.485425Z",
          "shell.execute_reply": "2021-07-22T07:20:00.494425Z"
        },
        "trusted": true,
        "id": "ikZX1rnObTzs"
      },
      "execution_count": null,
      "outputs": []
    },
    {
      "cell_type": "markdown",
      "source": [
        "<h2>Working with Naive Bayes + TF-IDF</h2>"
      ],
      "metadata": {
        "id": "bl6Fl4dnbTzs"
      }
    },
    {
      "cell_type": "code",
      "source": [
        "from sklearn.feature_extraction.text import TfidfTransformer\n",
        "from sklearn.pipeline import Pipeline\n",
        "\n",
        "pipe = Pipeline([('bow', CountVectorizer()), \n",
        "                 ('tfid', TfidfTransformer()),  \n",
        "                 ('model', MultinomialNB())])"
      ],
      "metadata": {
        "execution": {
          "iopub.status.busy": "2021-07-22T07:20:00.496992Z",
          "iopub.execute_input": "2021-07-22T07:20:00.497337Z",
          "iopub.status.idle": "2021-07-22T07:20:00.504554Z",
          "shell.execute_reply.started": "2021-07-22T07:20:00.497300Z",
          "shell.execute_reply": "2021-07-22T07:20:00.503574Z"
        },
        "trusted": true,
        "id": "RvYYbgVcbTzs"
      },
      "execution_count": null,
      "outputs": []
    },
    {
      "cell_type": "code",
      "source": [
        "pipe.fit(x_train, y_train)\n",
        "yp_class = pipe.predict(x_test)\n",
        "print(metrics.accuracy_score(y_test, yp_class))\n",
        "seaborn_conf(y_test, yp_class)"
      ],
      "metadata": {
        "execution": {
          "iopub.status.busy": "2021-07-22T07:20:00.506127Z",
          "iopub.execute_input": "2021-07-22T07:20:00.506660Z",
          "iopub.status.idle": "2021-07-22T07:20:00.828525Z",
          "shell.execute_reply.started": "2021-07-22T07:20:00.506604Z",
          "shell.execute_reply": "2021-07-22T07:20:00.827655Z"
        },
        "trusted": true,
        "id": "8qADl2TTbTzs"
      },
      "execution_count": null,
      "outputs": []
    },
    {
      "cell_type": "markdown",
      "source": [
        "<h2>XGBoost</h2>"
      ],
      "metadata": {
        "id": "4XI7iV7bbTzt"
      }
    },
    {
      "cell_type": "code",
      "source": [
        "import xgboost as xgb\n",
        "pipe = Pipeline([\n",
        "    ('bow', CountVectorizer()), \n",
        "    ('tfid', TfidfTransformer()),  \n",
        "    ('model', xgb.XGBClassifier(\n",
        "        learning_rate=0.1,\n",
        "        max_depth=6,\n",
        "        n_estimators=90,\n",
        "        use_label_encoder=False,\n",
        "        eval_metric='auc'\n",
        "    ))\n",
        "    ]\n",
        ")"
      ],
      "metadata": {
        "execution": {
          "iopub.status.busy": "2021-07-22T07:20:00.829836Z",
          "iopub.execute_input": "2021-07-22T07:20:00.830266Z",
          "iopub.status.idle": "2021-07-22T07:20:00.901031Z",
          "shell.execute_reply.started": "2021-07-22T07:20:00.830200Z",
          "shell.execute_reply": "2021-07-22T07:20:00.900163Z"
        },
        "trusted": true,
        "id": "uPISmiZsbTzt"
      },
      "execution_count": null,
      "outputs": []
    },
    {
      "cell_type": "code",
      "source": [
        "pipe.fit(x_train, y_train)\n",
        "yp_class_test = pipe.predict(x_test)\n",
        "yp_class_train = pipe.predict(x_train)\n",
        "\n",
        "print('Training accuracy score: {}'.format(metrics.accuracy_score(y_train, yp_class_train)))\n",
        "print('Testing accuracy score: {}'.format(metrics.accuracy_score(y_test, yp_class_test)))\n",
        "\n",
        "seaborn_conf(y_test, yp_class_test)"
      ],
      "metadata": {
        "execution": {
          "iopub.status.busy": "2021-07-22T07:20:00.902448Z",
          "iopub.execute_input": "2021-07-22T07:20:00.902812Z",
          "iopub.status.idle": "2021-07-22T07:20:03.667218Z",
          "shell.execute_reply.started": "2021-07-22T07:20:00.902774Z",
          "shell.execute_reply": "2021-07-22T07:20:03.666339Z"
        },
        "trusted": true,
        "id": "UDCumywBbTzt"
      },
      "execution_count": null,
      "outputs": []
    },
    {
      "cell_type": "markdown",
      "source": [
        "<h2>LSTMs and GloVE embeddings</h2>"
      ],
      "metadata": {
        "id": "nLVWMr-bbTzt"
      }
    },
    {
      "cell_type": "code",
      "source": [
        "train_padded.shape"
      ],
      "metadata": {
        "execution": {
          "iopub.status.busy": "2021-07-22T07:20:03.668530Z",
          "iopub.execute_input": "2021-07-22T07:20:03.668864Z",
          "iopub.status.idle": "2021-07-22T07:20:03.674253Z",
          "shell.execute_reply.started": "2021-07-22T07:20:03.668832Z",
          "shell.execute_reply": "2021-07-22T07:20:03.673368Z"
        },
        "trusted": true,
        "id": "mMroy8EwbTzt"
      },
      "execution_count": null,
      "outputs": []
    },
    {
      "cell_type": "code",
      "source": [
        "x_train, x_test, y_train, y_test = train_test_split(train_padded, label, test_size=0.2)"
      ],
      "metadata": {
        "execution": {
          "iopub.status.busy": "2021-07-22T07:20:03.675570Z",
          "iopub.execute_input": "2021-07-22T07:20:03.676099Z",
          "iopub.status.idle": "2021-07-22T07:20:03.687626Z",
          "shell.execute_reply.started": "2021-07-22T07:20:03.676060Z",
          "shell.execute_reply": "2021-07-22T07:20:03.686636Z"
        },
        "trusted": true,
        "id": "eg7rW6vQbTzt"
      },
      "execution_count": null,
      "outputs": []
    },
    {
      "cell_type": "code",
      "source": [
        "model = Sequential()\n",
        "model.add(Embedding(input_dim=embedding_matrix.shape[0], \n",
        "                   output_dim=embedding_matrix.shape[1],\n",
        "                   weights=[embedding_matrix],\n",
        "                   input_length=max_len\n",
        "                   )\n",
        "         )\n",
        "model.add(Bidirectional(LSTM(max_len, return_sequences=True, recurrent_dropout=0.15)))\n",
        "model.add(GlobalMaxPool1D())\n",
        "model.add(BatchNormalization())\n",
        "model.add(Dropout(0.3))\n",
        "model.add(Dense(max_len, activation='relu'))\n",
        "model.add(Dropout(0.3))\n",
        "model.add(Dense(max_len, activation='relu'))\n",
        "model.add(Dropout(0.3))\n",
        "model.add(Dense(1, activation='sigmoid'))\n",
        "\n",
        "\n",
        "model.compile(optimizer='adam', loss='binary_crossentropy', metrics=['accuracy'])\n",
        "model.summary()"
      ],
      "metadata": {
        "execution": {
          "iopub.status.busy": "2021-07-22T07:20:03.689063Z",
          "iopub.execute_input": "2021-07-22T07:20:03.689612Z",
          "iopub.status.idle": "2021-07-22T07:20:07.463910Z",
          "shell.execute_reply.started": "2021-07-22T07:20:03.689569Z",
          "shell.execute_reply": "2021-07-22T07:20:07.462965Z"
        },
        "trusted": true,
        "id": "_zSu_ACsbTzt"
      },
      "execution_count": null,
      "outputs": []
    },
    {
      "cell_type": "code",
      "source": [
        "# Defining Callbacks\n",
        "# Checkpoints in case our model stops training due to some circumstance - saving progress\n",
        "checkpoints = ModelCheckpoint('ck_model.h5', monitor='val_loss', verbose=1, save_best_only=True)\n",
        "# Reducing the learning rate if no improvement in validation loss over 5 epochs\n",
        "# This is to train the model better\n",
        "reduce_lr = ReduceLROnPlateau(monitor='val_loss', vactor=0.1, verbose=1, patience=5, min_lr=0.0001)"
      ],
      "metadata": {
        "execution": {
          "iopub.status.busy": "2021-07-22T07:20:07.465379Z",
          "iopub.execute_input": "2021-07-22T07:20:07.465768Z",
          "iopub.status.idle": "2021-07-22T07:20:07.474024Z",
          "shell.execute_reply.started": "2021-07-22T07:20:07.465725Z",
          "shell.execute_reply": "2021-07-22T07:20:07.472986Z"
        },
        "trusted": true,
        "id": "2WgO2yjxbTzt"
      },
      "execution_count": null,
      "outputs": []
    },
    {
      "cell_type": "code",
      "source": [
        "history = model.fit(x_train, y_train, epochs=10, batch_size=32, validation_data=(x_test, y_test), verbose=1, callbacks=[reduce_lr, checkpoints])"
      ],
      "metadata": {
        "execution": {
          "iopub.status.busy": "2021-07-22T07:20:07.475355Z",
          "iopub.execute_input": "2021-07-22T07:20:07.475896Z",
          "iopub.status.idle": "2021-07-22T07:32:02.819815Z",
          "shell.execute_reply.started": "2021-07-22T07:20:07.475852Z",
          "shell.execute_reply": "2021-07-22T07:32:02.819034Z"
        },
        "trusted": true,
        "id": "2yPzfX0ubTzt"
      },
      "execution_count": null,
      "outputs": []
    },
    {
      "cell_type": "code",
      "source": [
        "# Plotting the results\n",
        "def learning_curve(history, arr):\n",
        "    fig, ax=plt.subplots(1, 2, figsize=(20, 5))\n",
        "    for idx in range(2):\n",
        "        ax[idx].plot(history.history[arr[idx][0]])\n",
        "        ax[idx].plot(history.history[arr[idx][1]])\n",
        "        ax[idx].legend([arr[idx][0], arr[idx][1]])\n",
        "        ax[idx].set_xlabel('Epochs')\n",
        "        ax[idx].set_ylabel('Value')\n",
        "        ax[idx].set_title(arr[idx][0]+' X '+ arr[idx][1])"
      ],
      "metadata": {
        "execution": {
          "iopub.status.busy": "2021-07-22T07:32:02.822770Z",
          "iopub.execute_input": "2021-07-22T07:32:02.823021Z",
          "iopub.status.idle": "2021-07-22T07:32:02.828890Z",
          "shell.execute_reply.started": "2021-07-22T07:32:02.822995Z",
          "shell.execute_reply": "2021-07-22T07:32:02.828114Z"
        },
        "trusted": true,
        "id": "KanoH59zbTzt"
      },
      "execution_count": null,
      "outputs": []
    },
    {
      "cell_type": "code",
      "source": [
        "learning_curve(history, [['loss', 'val_loss'], ['accuracy', 'val_accuracy']])"
      ],
      "metadata": {
        "execution": {
          "iopub.status.busy": "2021-07-22T07:32:02.829970Z",
          "iopub.execute_input": "2021-07-22T07:32:02.830463Z",
          "iopub.status.idle": "2021-07-22T07:32:03.155787Z",
          "shell.execute_reply.started": "2021-07-22T07:32:02.830429Z",
          "shell.execute_reply": "2021-07-22T07:32:03.155008Z"
        },
        "trusted": true,
        "id": "OCM5efEGbTzt"
      },
      "execution_count": null,
      "outputs": []
    },
    {
      "cell_type": "code",
      "source": [
        "yp = model.predict(x_test)\n",
        "yp"
      ],
      "metadata": {
        "execution": {
          "iopub.status.busy": "2021-07-22T07:32:03.157039Z",
          "iopub.execute_input": "2021-07-22T07:32:03.157385Z",
          "iopub.status.idle": "2021-07-22T07:32:04.638234Z",
          "shell.execute_reply.started": "2021-07-22T07:32:03.157349Z",
          "shell.execute_reply": "2021-07-22T07:32:04.637400Z"
        },
        "trusted": true,
        "id": "D1URS30kbTzt"
      },
      "execution_count": null,
      "outputs": []
    },
    {
      "cell_type": "code",
      "source": [
        "yp = (model.predict(x_test)>0.5).astype('int32')\n",
        "yp"
      ],
      "metadata": {
        "execution": {
          "iopub.status.busy": "2021-07-22T07:32:04.641281Z",
          "iopub.execute_input": "2021-07-22T07:32:04.641533Z",
          "iopub.status.idle": "2021-07-22T07:32:05.802851Z",
          "shell.execute_reply.started": "2021-07-22T07:32:04.641508Z",
          "shell.execute_reply": "2021-07-22T07:32:05.802044Z"
        },
        "trusted": true,
        "id": "jBdGjLRHbTzt"
      },
      "execution_count": null,
      "outputs": []
    },
    {
      "cell_type": "code",
      "source": [
        "seaborn_conf(y_test, yp)"
      ],
      "metadata": {
        "execution": {
          "iopub.status.busy": "2021-07-22T07:32:05.804054Z",
          "iopub.execute_input": "2021-07-22T07:32:05.804401Z",
          "iopub.status.idle": "2021-07-22T07:32:06.028856Z",
          "shell.execute_reply.started": "2021-07-22T07:32:05.804374Z",
          "shell.execute_reply": "2021-07-22T07:32:06.028114Z"
        },
        "trusted": true,
        "id": "r4FwSEr4bTzu"
      },
      "execution_count": null,
      "outputs": []
    },
    {
      "cell_type": "markdown",
      "source": [
        "<h2>Transformers - BERT</h2>"
      ],
      "metadata": {
        "id": "8rIqqPvcbTzu"
      }
    },
    {
      "cell_type": "markdown",
      "source": [
        "BERT has revolutionized the world of NLP by providing state-of-the-art results on many NLP tasks. BERT stands for Bidirectional Encoder Representation from Transformer. It is the state-of-the-art embedding model published by Google. It has created a major breakthrough in the field of NLP by providing greater results in many NLP tasks, such as question answering, text generation, sentence classification, and many more besides. One of the major reasons for the success of BERT is that it is a context-based embedding model, unlike other popular embedding models, such as word2vec, which are context-free."
      ],
      "metadata": {
        "id": "aLT-LVM2bTzu"
      }
    },
    {
      "cell_type": "code",
      "source": [
        "!pip install transformers"
      ],
      "metadata": {
        "execution": {
          "iopub.status.busy": "2021-07-22T07:32:06.030170Z",
          "iopub.execute_input": "2021-07-22T07:32:06.030435Z",
          "iopub.status.idle": "2021-07-22T07:32:14.226641Z",
          "shell.execute_reply.started": "2021-07-22T07:32:06.030409Z",
          "shell.execute_reply": "2021-07-22T07:32:14.225666Z"
        },
        "trusted": true,
        "id": "Uf4vgWgjbTzu"
      },
      "execution_count": null,
      "outputs": []
    },
    {
      "cell_type": "code",
      "source": [
        "import tensorflow as tf\n",
        "from tensorflow.keras.layers import Dense, Input\n",
        "from tensorflow.keras.optimizers import Adam\n",
        "from tensorflow.keras.models import Model\n",
        "from tensorflow.keras.callbacks import ModelCheckpoint\n",
        "\n",
        "import transformers\n",
        "from tqdm.notebook import tqdm\n",
        "from tokenizers import BertWordPieceTokenizer"
      ],
      "metadata": {
        "execution": {
          "iopub.status.busy": "2021-07-22T07:32:14.228328Z",
          "iopub.execute_input": "2021-07-22T07:32:14.228703Z",
          "iopub.status.idle": "2021-07-22T07:32:15.483724Z",
          "shell.execute_reply.started": "2021-07-22T07:32:14.228653Z",
          "shell.execute_reply": "2021-07-22T07:32:15.482686Z"
        },
        "trusted": true,
        "id": "znGH9meZbTzu"
      },
      "execution_count": null,
      "outputs": []
    },
    {
      "cell_type": "code",
      "source": [
        "from transformers import BertTokenizer\n",
        "tokenizer = BertTokenizer.from_pretrained('bert-large-uncased')\n",
        "\n",
        "def bert_encode(data, maximum_length):\n",
        "    input_ids=[]\n",
        "    attention_masks=[]\n",
        "    for text in data:\n",
        "        encoded = tokenizer.encode_plus(text, add_special_tokens=True, max_length = maximum_length, pad_to_max_length=True, return_attention_mask=True)\n",
        "        input_ids.append(encoded['input_ids'])\n",
        "        attention_masks.append(encoded['attention_mask'])\n",
        "    return np.array(input_ids), np.array(attention_masks)"
      ],
      "metadata": {
        "execution": {
          "iopub.status.busy": "2021-07-22T07:54:32.391075Z",
          "iopub.execute_input": "2021-07-22T07:54:32.391417Z",
          "iopub.status.idle": "2021-07-22T07:54:33.257988Z",
          "shell.execute_reply.started": "2021-07-22T07:54:32.391387Z",
          "shell.execute_reply": "2021-07-22T07:54:33.257144Z"
        },
        "trusted": true,
        "id": "aGokzdJ9bTzu"
      },
      "execution_count": null,
      "outputs": []
    },
    {
      "cell_type": "code",
      "source": [
        "np.max(df['text'].apply(lambda x: len(x.split())).values)"
      ],
      "metadata": {
        "execution": {
          "iopub.status.busy": "2021-07-22T07:54:33.259349Z",
          "iopub.execute_input": "2021-07-22T07:54:33.259685Z",
          "iopub.status.idle": "2021-07-22T07:54:33.273524Z",
          "shell.execute_reply.started": "2021-07-22T07:54:33.259650Z",
          "shell.execute_reply": "2021-07-22T07:54:33.272394Z"
        },
        "trusted": true,
        "id": "EU2JCaKIbTzu"
      },
      "execution_count": null,
      "outputs": []
    },
    {
      "cell_type": "code",
      "source": [
        "bt_text = df['text']\n",
        "bt_label = df['label_num']\n",
        "\n",
        "bt_ids, bt_masks = bert_encode(bt_text, 80)"
      ],
      "metadata": {
        "execution": {
          "iopub.status.busy": "2021-07-22T07:54:33.275614Z",
          "iopub.execute_input": "2021-07-22T07:54:33.276340Z",
          "iopub.status.idle": "2021-07-22T07:54:35.551130Z",
          "shell.execute_reply.started": "2021-07-22T07:54:33.276302Z",
          "shell.execute_reply": "2021-07-22T07:54:35.550271Z"
        },
        "trusted": true,
        "id": "5gVUFY2TbTzu"
      },
      "execution_count": null,
      "outputs": []
    },
    {
      "cell_type": "code",
      "source": [
        "from transformers import TFBertModel\n",
        "def create_model(bert_model):\n",
        "    \n",
        "    input_ids = tf.keras.Input(shape=(80,),dtype='int32')\n",
        "    attention_masks = tf.keras.Input(shape=(80,),dtype='int32')\n",
        "\n",
        "    output = bert_model([input_ids,attention_masks])\n",
        "    output = output[1]\n",
        "    output = tf.keras.layers.Dense(32,activation='relu')(output)\n",
        "    output = tf.keras.layers.Dropout(0.2)(output)\n",
        "    output = tf.keras.layers.Dense(1,activation='sigmoid')(output)\n",
        "    \n",
        "    model = tf.keras.models.Model(inputs = [input_ids,attention_masks],outputs = output)\n",
        "    model.compile(Adam(lr=1e-5), loss='binary_crossentropy', metrics=['accuracy'])\n",
        "    return model"
      ],
      "metadata": {
        "execution": {
          "iopub.status.busy": "2021-07-22T07:55:00.388843Z",
          "iopub.execute_input": "2021-07-22T07:55:00.389165Z",
          "iopub.status.idle": "2021-07-22T07:55:00.395860Z",
          "shell.execute_reply.started": "2021-07-22T07:55:00.389134Z",
          "shell.execute_reply": "2021-07-22T07:55:00.394876Z"
        },
        "trusted": true,
        "id": "nv9Vcr15bTzu"
      },
      "execution_count": null,
      "outputs": []
    },
    {
      "cell_type": "code",
      "source": [
        "bert_model = TFBertModel.from_pretrained('bert-base-uncased')"
      ],
      "metadata": {
        "execution": {
          "iopub.status.busy": "2021-07-22T07:55:00.839248Z",
          "iopub.execute_input": "2021-07-22T07:55:00.839558Z",
          "iopub.status.idle": "2021-07-22T07:55:02.088081Z",
          "shell.execute_reply.started": "2021-07-22T07:55:00.839529Z",
          "shell.execute_reply": "2021-07-22T07:55:02.087204Z"
        },
        "trusted": true,
        "id": "lFBNx-OnbTzu"
      },
      "execution_count": null,
      "outputs": []
    },
    {
      "cell_type": "code",
      "source": [
        "model = create_model(bert_model)\n",
        "model.summary()"
      ],
      "metadata": {
        "execution": {
          "iopub.status.busy": "2021-07-22T07:55:02.089653Z",
          "iopub.execute_input": "2021-07-22T07:55:02.089989Z",
          "iopub.status.idle": "2021-07-22T07:55:03.710168Z",
          "shell.execute_reply.started": "2021-07-22T07:55:02.089952Z",
          "shell.execute_reply": "2021-07-22T07:55:03.709421Z"
        },
        "trusted": true,
        "id": "oUQ0B9JDbTzu"
      },
      "execution_count": null,
      "outputs": []
    },
    {
      "cell_type": "code",
      "source": [
        "history = model.fit([bt_ids, bt_masks], bt_label, validation_split=0.25, epochs=3, batch_size=10)"
      ],
      "metadata": {
        "execution": {
          "iopub.status.busy": "2021-07-22T07:55:04.646683Z",
          "iopub.execute_input": "2021-07-22T07:55:04.647001Z",
          "iopub.status.idle": "2021-07-22T07:58:31.201495Z",
          "shell.execute_reply.started": "2021-07-22T07:55:04.646971Z",
          "shell.execute_reply": "2021-07-22T07:58:31.200677Z"
        },
        "trusted": true,
        "id": "2hr4E8LrbTzu"
      },
      "execution_count": null,
      "outputs": []
    },
    {
      "cell_type": "code",
      "source": [
        "learning_curve(history, [['loss', 'val_loss'],['accuracy', 'val_accuracy']])"
      ],
      "metadata": {
        "execution": {
          "iopub.status.busy": "2021-07-22T07:59:57.943102Z",
          "iopub.execute_input": "2021-07-22T07:59:57.943497Z",
          "iopub.status.idle": "2021-07-22T07:59:58.310835Z",
          "shell.execute_reply.started": "2021-07-22T07:59:57.943461Z",
          "shell.execute_reply": "2021-07-22T07:59:58.310017Z"
        },
        "trusted": true,
        "id": "Jwi_PISCbTzu"
      },
      "execution_count": null,
      "outputs": []
    },
    {
      "cell_type": "markdown",
      "source": [
        "<h2>Working with disaster tweets - Dataset</h2>"
      ],
      "metadata": {
        "id": "uNyb4y6sbTzv"
      }
    },
    {
      "cell_type": "code",
      "source": [
        "df = pd.read_csv('../input/nlp-getting-started/train.csv')\n",
        "df_test = pd.read_csv('../input/nlp-getting-started/test.csv')\n",
        "\n",
        "df_train = df_train.dropna(axis=1)\n",
        "df_train.head()"
      ],
      "metadata": {
        "execution": {
          "iopub.status.busy": "2021-07-22T08:09:24.532752Z",
          "iopub.execute_input": "2021-07-22T08:09:24.533079Z",
          "iopub.status.idle": "2021-07-22T08:09:24.577964Z",
          "shell.execute_reply.started": "2021-07-22T08:09:24.533048Z",
          "shell.execute_reply": "2021-07-22T08:09:24.577233Z"
        },
        "trusted": true,
        "id": "v3uw3v5bbTzv"
      },
      "execution_count": null,
      "outputs": []
    },
    {
      "cell_type": "code",
      "source": [
        "df.groupby('target').count()"
      ],
      "metadata": {
        "execution": {
          "iopub.status.busy": "2021-07-22T08:09:25.075829Z",
          "iopub.execute_input": "2021-07-22T08:09:25.076135Z",
          "iopub.status.idle": "2021-07-22T08:09:25.091756Z",
          "shell.execute_reply.started": "2021-07-22T08:09:25.076099Z",
          "shell.execute_reply": "2021-07-22T08:09:25.090742Z"
        },
        "trusted": true,
        "id": "JJcC1IWgbTzv"
      },
      "execution_count": null,
      "outputs": []
    },
    {
      "cell_type": "code",
      "source": [
        "# We can use .agg('count').values also\n",
        "class_counts = df.groupby('target').id.count().values\n",
        "class_counts"
      ],
      "metadata": {
        "execution": {
          "iopub.status.busy": "2021-07-22T08:09:25.622041Z",
          "iopub.execute_input": "2021-07-22T08:09:25.622436Z",
          "iopub.status.idle": "2021-07-22T08:09:25.632282Z",
          "shell.execute_reply.started": "2021-07-22T08:09:25.622401Z",
          "shell.execute_reply": "2021-07-22T08:09:25.631320Z"
        },
        "trusted": true,
        "id": "uc1p_iP7bTzv"
      },
      "execution_count": null,
      "outputs": []
    },
    {
      "cell_type": "code",
      "source": [
        "fig = go.Figure()\n",
        "\n",
        "fig.add_trace(go.Bar(\n",
        "        x=['Fake disaster'],\n",
        "        y=[class_counts[0]],\n",
        "        name='Fake',\n",
        "        text=[class_counts[0]],\n",
        "        textposition='auto',\n",
        "        marker_color=pblue\n",
        ")\n",
        "             )\n",
        "fig.add_trace(go.Bar(\n",
        "        x=['Real disaster'],\n",
        "        y=[class_counts[1]],\n",
        "        name='Real',\n",
        "        text=[class_counts[1]],\n",
        "        textposition='auto',\n",
        "        marker_color=pg\n",
        "))\n",
        "\n",
        "fig.update_layout(\n",
        "    title='Class distribution in the dataset')\n",
        "\n",
        "fig.show()"
      ],
      "metadata": {
        "execution": {
          "iopub.status.busy": "2021-07-22T08:09:26.242758Z",
          "iopub.execute_input": "2021-07-22T08:09:26.243209Z",
          "iopub.status.idle": "2021-07-22T08:09:26.271044Z",
          "shell.execute_reply.started": "2021-07-22T08:09:26.243168Z",
          "shell.execute_reply": "2021-07-22T08:09:26.270321Z"
        },
        "trusted": true,
        "id": "SBrm21-6bTzv"
      },
      "execution_count": null,
      "outputs": []
    },
    {
      "cell_type": "code",
      "source": [
        "len_real = df[df['target']==1].text.apply(lambda x: len(x.split())).value_counts().sort_index()\n",
        "len_fake = df[df['target']==0].text.apply(lambda x: len(x.split())).value_counts().sort_index()"
      ],
      "metadata": {
        "execution": {
          "iopub.status.busy": "2021-07-22T08:11:11.062048Z",
          "iopub.execute_input": "2021-07-22T08:11:11.062423Z",
          "iopub.status.idle": "2021-07-22T08:11:11.086729Z",
          "shell.execute_reply.started": "2021-07-22T08:11:11.062388Z",
          "shell.execute_reply": "2021-07-22T08:11:11.085981Z"
        },
        "trusted": true,
        "id": "r4e5184YbTzv"
      },
      "execution_count": null,
      "outputs": []
    },
    {
      "cell_type": "code",
      "source": [
        "fig = go.Figure()\n",
        "fig.add_trace(go.Scatter(\n",
        "    x=len_real.index,\n",
        "    y=len_real.values,\n",
        "    name='Real disaster',\n",
        "    fill='tozeroy',\n",
        "    marker_color=pblue,\n",
        "))\n",
        "fig.add_trace(go.Scatter(\n",
        "    x=len_fake.index,\n",
        "    y=len_fake.values,\n",
        "    name='Fake disaster',\n",
        "    fill='tozeroy',\n",
        "    marker_color=pg,\n",
        "))\n",
        "fig.update_layout(\n",
        "    title='<span style=\"font-size:32px; font-family:Times New Roman\">Data Roles in Different Fields</span>'\n",
        ")\n",
        "fig.show()"
      ],
      "metadata": {
        "execution": {
          "iopub.status.busy": "2021-07-22T08:11:11.819681Z",
          "iopub.execute_input": "2021-07-22T08:11:11.819983Z",
          "iopub.status.idle": "2021-07-22T08:11:11.834761Z",
          "shell.execute_reply.started": "2021-07-22T08:11:11.819955Z",
          "shell.execute_reply": "2021-07-22T08:11:11.833757Z"
        },
        "trusted": true,
        "id": "4Kj8G-pvbTzv"
      },
      "execution_count": null,
      "outputs": []
    },
    {
      "cell_type": "markdown",
      "source": [
        "<h2>Data pre-processing and cleaning</h2>"
      ],
      "metadata": {
        "id": "UasL5kOibTzv"
      }
    },
    {
      "cell_type": "code",
      "source": [
        "def remove_url(text):\n",
        "    url = re.compile(r'https?://\\S+|www\\.\\S+')\n",
        "    return url.sub(r'', text)\n",
        "\n",
        "\n",
        "def remove_emoji(text):\n",
        "    emoji_pattern = re.compile(\n",
        "        '['\n",
        "        u'\\U0001F600-\\U0001F64F'  # emoticons\n",
        "        u'\\U0001F300-\\U0001F5FF'  # symbols & pictographs\n",
        "        u'\\U0001F680-\\U0001F6FF'  # transport & map symbols\n",
        "        u'\\U0001F1E0-\\U0001F1FF'  # flags (iOS)\n",
        "        u'\\U00002702-\\U000027B0'\n",
        "        u'\\U000024C2-\\U0001F251'\n",
        "        ']+',\n",
        "        flags=re.UNICODE)\n",
        "    return emoji_pattern.sub(r'', text)\n",
        "\n",
        "\n",
        "def remove_html(text):\n",
        "    html = re.compile(r'<.*?>|&([a-z0-9]+|#[0-9]{1,6}|#x[0-9a-f]{1,6});')\n",
        "    return re.sub(html, '', text)\n",
        "\n",
        "def clean_text(text):\n",
        "    '''Make text lowercase, remove text in square brackets,remove links,remove punctuation\n",
        "    and remove words containing numbers.'''\n",
        "    text = str(text).lower()\n",
        "    text = re.sub('\\[.*?\\]', '', text)\n",
        "    text = re.sub(\n",
        "        'http[s]?://(?:[a-zA-Z]|[0-9]|[$-_@.&+]|[!*\\(\\),]|(?:%[0-9a-fA-F][0-9a-fA-F]))+', \n",
        "        '', \n",
        "        text\n",
        "    )\n",
        "    text = re.sub('https?://\\S+|www\\.\\S+', '', text)\n",
        "    text = re.sub('<.*?>+', '', text)\n",
        "    text = re.sub('[%s]' % re.escape(string.punctuation), '', text)\n",
        "    text = re.sub('\\n', '', text)\n",
        "    text = re.sub('\\w*\\d\\w*', '', text)\n",
        "    \n",
        "    text = remove_url(text)\n",
        "    text = remove_emoji(text)\n",
        "    text = remove_html(text)\n",
        "    \n",
        "    return text"
      ],
      "metadata": {
        "execution": {
          "iopub.status.busy": "2021-07-22T08:12:08.714596Z",
          "iopub.execute_input": "2021-07-22T08:12:08.714962Z",
          "iopub.status.idle": "2021-07-22T08:12:08.725597Z",
          "shell.execute_reply.started": "2021-07-22T08:12:08.714928Z",
          "shell.execute_reply": "2021-07-22T08:12:08.724306Z"
        },
        "trusted": true,
        "id": "DIzgUwnebTzv"
      },
      "execution_count": null,
      "outputs": []
    },
    {
      "cell_type": "code",
      "source": [
        "# Testing the function\n",
        "remove_emoji(\"Omg another Earthquake 😔😔\")"
      ],
      "metadata": {
        "execution": {
          "iopub.status.busy": "2021-07-22T08:12:24.244518Z",
          "iopub.execute_input": "2021-07-22T08:12:24.244854Z",
          "iopub.status.idle": "2021-07-22T08:12:24.251086Z",
          "shell.execute_reply.started": "2021-07-22T08:12:24.244824Z",
          "shell.execute_reply": "2021-07-22T08:12:24.249861Z"
        },
        "trusted": true,
        "id": "0SCQj4C0bTzv"
      },
      "execution_count": null,
      "outputs": []
    },
    {
      "cell_type": "code",
      "source": [
        "stopw = stopwords.words('english')\n",
        "more = ['u', 'im', 'c']\n",
        "stopw = stopw + more\n",
        "\n",
        "stemmer = nltk.SnowballStemmer('english')\n",
        "\n",
        "def data_cleaning(text):\n",
        "    text = clean_text(text)\n",
        "    text = ' '.join(stemmer.stem(word) for word in text.split(' ') if word not in stopw)\n",
        "    return text"
      ],
      "metadata": {
        "execution": {
          "iopub.status.busy": "2021-07-22T08:13:43.322927Z",
          "iopub.execute_input": "2021-07-22T08:13:43.323292Z",
          "iopub.status.idle": "2021-07-22T08:13:43.331652Z",
          "shell.execute_reply.started": "2021-07-22T08:13:43.323257Z",
          "shell.execute_reply": "2021-07-22T08:13:43.330843Z"
        },
        "trusted": true,
        "id": "J8tD8IjLbTzv"
      },
      "execution_count": null,
      "outputs": []
    },
    {
      "cell_type": "code",
      "source": [
        "df['cleaned_text'] = df['text'].apply(data_cleaning)\n",
        "df_test['cleaned_text'] = df_test['text'].apply(data_cleaning)"
      ],
      "metadata": {
        "execution": {
          "iopub.status.busy": "2021-07-22T08:14:26.512265Z",
          "iopub.execute_input": "2021-07-22T08:14:26.512590Z",
          "iopub.status.idle": "2021-07-22T08:14:29.156752Z",
          "shell.execute_reply.started": "2021-07-22T08:14:26.512562Z",
          "shell.execute_reply": "2021-07-22T08:14:29.155884Z"
        },
        "trusted": true,
        "id": "BMvdTaUqbTzw"
      },
      "execution_count": null,
      "outputs": []
    },
    {
      "cell_type": "code",
      "source": [
        "df.head()"
      ],
      "metadata": {
        "execution": {
          "iopub.status.busy": "2021-07-22T08:14:35.290934Z",
          "iopub.execute_input": "2021-07-22T08:14:35.291289Z",
          "iopub.status.idle": "2021-07-22T08:14:35.303483Z",
          "shell.execute_reply.started": "2021-07-22T08:14:35.291258Z",
          "shell.execute_reply": "2021-07-22T08:14:35.302675Z"
        },
        "trusted": true,
        "id": "evHQRSjubTzw"
      },
      "execution_count": null,
      "outputs": []
    },
    {
      "cell_type": "markdown",
      "source": [
        "<h2>WordCloud analysis</h2>"
      ],
      "metadata": {
        "id": "YImcqD1ebTzw"
      }
    },
    {
      "cell_type": "code",
      "source": [
        "def corpus(df, label):\n",
        "    corpus=[]\n",
        "    for x in df[df['target']==label]['cleaned_text'].str.split():\n",
        "        for i in x:\n",
        "            corpus.append(i)\n",
        "    return corpus"
      ],
      "metadata": {
        "execution": {
          "iopub.status.busy": "2021-07-22T08:16:41.701410Z",
          "iopub.execute_input": "2021-07-22T08:16:41.701747Z",
          "iopub.status.idle": "2021-07-22T08:16:41.708942Z",
          "shell.execute_reply.started": "2021-07-22T08:16:41.701717Z",
          "shell.execute_reply": "2021-07-22T08:16:41.708124Z"
        },
        "trusted": true,
        "id": "UlTNh6cibTzw"
      },
      "execution_count": null,
      "outputs": []
    },
    {
      "cell_type": "code",
      "source": [
        "corpus_reald = corpus(df, 1)\n",
        "dic = defaultdict(int)\n",
        "\n",
        "# Creating a dictionary with frequency of words\n",
        "for word in corpus_reald:\n",
        "    dic[word]+=1\n",
        "    \n",
        "# Sorting words by descending frequency\n",
        "top = sorted(dic.items(), key=lambda x: x[1], reverse=True)[:10]\n",
        "top"
      ],
      "metadata": {
        "execution": {
          "iopub.status.busy": "2021-07-22T08:17:30.189246Z",
          "iopub.execute_input": "2021-07-22T08:17:30.189612Z",
          "iopub.status.idle": "2021-07-22T08:17:30.223007Z",
          "shell.execute_reply.started": "2021-07-22T08:17:30.189580Z",
          "shell.execute_reply": "2021-07-22T08:17:30.222055Z"
        },
        "trusted": true,
        "id": "TAvzb2_WbTzw"
      },
      "execution_count": null,
      "outputs": []
    },
    {
      "cell_type": "code",
      "source": [
        "twitter_mask = np.array(Image.open('/kaggle/input/masksforwordclouds/twitter_mask3.jpg'))\n",
        "\n",
        "wc = WordCloud(\n",
        "    background_color='white', \n",
        "    max_words=200, \n",
        "    mask=twitter_mask,\n",
        ")\n",
        "wc.generate(' '.join(text for text in df.loc[df['target'] == 1, 'cleaned_text']))\n",
        "plt.figure(figsize=(18,10))\n",
        "plt.title('Wordcloud for real disasters', \n",
        "          fontdict={'size': 22,  'verticalalignment': 'bottom'})\n",
        "plt.imshow(wc)\n",
        "plt.axis(\"off\")\n",
        "plt.show()"
      ],
      "metadata": {
        "execution": {
          "iopub.status.busy": "2021-07-22T08:18:14.553780Z",
          "iopub.execute_input": "2021-07-22T08:18:14.554111Z",
          "iopub.status.idle": "2021-07-22T08:18:15.491798Z",
          "shell.execute_reply.started": "2021-07-22T08:18:14.554078Z",
          "shell.execute_reply": "2021-07-22T08:18:15.490977Z"
        },
        "trusted": true,
        "id": "aO1RqmmRbTzw"
      },
      "execution_count": null,
      "outputs": []
    },
    {
      "cell_type": "code",
      "source": [
        "corpus_faked = corpus(df, 0)\n",
        "dic = defaultdict(int)\n",
        "\n",
        "# Creating a dictionary with frequency of words\n",
        "for word in corpus_faked:\n",
        "    dic[word]+=1\n",
        "    \n",
        "# Sorting words by descending frequency\n",
        "top = sorted(dic.items(), key=lambda x: x[1], reverse=True)[:10]\n",
        "top"
      ],
      "metadata": {
        "execution": {
          "iopub.status.busy": "2021-07-22T08:18:51.125740Z",
          "iopub.execute_input": "2021-07-22T08:18:51.126053Z",
          "iopub.status.idle": "2021-07-22T08:18:51.160411Z",
          "shell.execute_reply.started": "2021-07-22T08:18:51.126022Z",
          "shell.execute_reply": "2021-07-22T08:18:51.159386Z"
        },
        "trusted": true,
        "id": "OM1U6i4ubTzw"
      },
      "execution_count": null,
      "outputs": []
    },
    {
      "cell_type": "code",
      "source": [
        "twitter_mask = np.array(Image.open('/kaggle/input/masksforwordclouds/twitter_mask3.jpg'))\n",
        "\n",
        "wc = WordCloud(\n",
        "    background_color='white', \n",
        "    max_words=200, \n",
        "    mask=twitter_mask,\n",
        ")\n",
        "wc.generate(' '.join(text for text in df.loc[df['target'] == 0, 'cleaned_text']))\n",
        "plt.figure(figsize=(18,10))\n",
        "plt.title('Wordcloud for fake disasters', \n",
        "          fontdict={'size': 22,  'verticalalignment': 'bottom'})\n",
        "plt.imshow(wc)\n",
        "plt.axis(\"off\")\n",
        "plt.show()"
      ],
      "metadata": {
        "execution": {
          "iopub.status.busy": "2021-07-22T08:19:01.672958Z",
          "iopub.execute_input": "2021-07-22T08:19:01.673311Z",
          "iopub.status.idle": "2021-07-22T08:19:02.702570Z",
          "shell.execute_reply.started": "2021-07-22T08:19:01.673280Z",
          "shell.execute_reply": "2021-07-22T08:19:02.701583Z"
        },
        "trusted": true,
        "id": "B4xqFATubTzw"
      },
      "execution_count": null,
      "outputs": []
    },
    {
      "cell_type": "markdown",
      "source": [
        "<h2>Model creation and testing</h2>"
      ],
      "metadata": {
        "id": "93oumaJObTzw"
      }
    },
    {
      "cell_type": "code",
      "source": [
        "x = df['cleaned_text']\n",
        "y = df['target']\n",
        "\n",
        "from sklearn.model_selection import train_test_split\n",
        "\n",
        "x_train, x_test, y_train, y_test = train_test_split(x, y)\n",
        "len(x_train), len(y_train), len(x_test), len(y_test)"
      ],
      "metadata": {
        "execution": {
          "iopub.status.busy": "2021-07-22T09:06:28.922303Z",
          "iopub.execute_input": "2021-07-22T09:06:28.922720Z",
          "iopub.status.idle": "2021-07-22T09:06:28.936338Z",
          "shell.execute_reply.started": "2021-07-22T09:06:28.922682Z",
          "shell.execute_reply": "2021-07-22T09:06:28.935206Z"
        },
        "trusted": true,
        "id": "tG0vorribTzw"
      },
      "execution_count": null,
      "outputs": []
    },
    {
      "cell_type": "code",
      "source": [
        "pipe = Pipeline([\n",
        "    ('bow', CountVectorizer()), \n",
        "    ('tfid', TfidfTransformer()),  \n",
        "    ('model', xgb.XGBClassifier(\n",
        "        use_label_encoder=False,\n",
        "        eval_metric='auc',\n",
        "    ))\n",
        "])\n",
        "\n",
        "pipe.fit(x_train, y_train)\n",
        "yp_test = pipe.predict(x_test)\n",
        "yp_train = pipe.predict(x_train)\n",
        "\n",
        "print('Training accuracy: {}'.format(metrics.accuracy_score(y_train, yp_train)))\n",
        "print('Testing accuracy: {}'.format(metrics.accuracy_score(y_test, yp_test)))\n",
        "\n",
        "seaborn_conf(y_test, yp_test)"
      ],
      "metadata": {
        "execution": {
          "iopub.status.busy": "2021-07-22T09:07:22.520961Z",
          "iopub.execute_input": "2021-07-22T09:07:22.521309Z",
          "iopub.status.idle": "2021-07-22T09:07:24.778392Z",
          "shell.execute_reply.started": "2021-07-22T09:07:22.521278Z",
          "shell.execute_reply": "2021-07-22T09:07:24.777059Z"
        },
        "trusted": true,
        "id": "dkdZoJYVbTzw"
      },
      "execution_count": null,
      "outputs": []
    },
    {
      "cell_type": "markdown",
      "source": [
        "<h3>GloVE - LSTM</h2>"
      ],
      "metadata": {
        "id": "TercnODvbTzw"
      }
    },
    {
      "cell_type": "code",
      "source": [
        "training = df['cleaned_text'].values\n",
        "testing = df_test['cleaned_text'].values\n",
        "# Target labels\n",
        "labels = df['target'].values"
      ],
      "metadata": {
        "execution": {
          "iopub.status.busy": "2021-07-22T09:08:40.940455Z",
          "iopub.execute_input": "2021-07-22T09:08:40.940821Z",
          "iopub.status.idle": "2021-07-22T09:08:40.946303Z",
          "shell.execute_reply.started": "2021-07-22T09:08:40.940788Z",
          "shell.execute_reply": "2021-07-22T09:08:40.944986Z"
        },
        "trusted": true,
        "id": "rh-1scsQbTzw"
      },
      "execution_count": null,
      "outputs": []
    },
    {
      "cell_type": "code",
      "source": [
        "# Word tokenizer\n",
        "tk = Tokenizer()\n",
        "tk.fit_on_texts(training)\n",
        "\n",
        "vocab = len(tk.word_index)+1\n",
        "vocab"
      ],
      "metadata": {
        "execution": {
          "iopub.status.busy": "2021-07-22T09:09:13.217808Z",
          "iopub.execute_input": "2021-07-22T09:09:13.218136Z",
          "iopub.status.idle": "2021-07-22T09:09:13.353145Z",
          "shell.execute_reply.started": "2021-07-22T09:09:13.218098Z",
          "shell.execute_reply": "2021-07-22T09:09:13.352071Z"
        },
        "trusted": true,
        "id": "EC42lAPWbTzw"
      },
      "execution_count": null,
      "outputs": []
    },
    {
      "cell_type": "code",
      "source": [
        "def metric_calculation(y_test, y_pred):\n",
        "    print(\"F1-score: \", f1_score(y_pred, y_test))\n",
        "    print(\"Precision: \", precision_score(y_pred, y_test))\n",
        "    print(\"Recall: \", recall_score(y_pred, y_test))\n",
        "    print(\"Acuracy: \", accuracy_score(y_pred, y_test))\n",
        "    print(\"-\"*50)\n",
        "    print(classification_report(y_pred, y_test))\n",
        "    \n",
        "def embeddings(corpus): \n",
        "    return tk.texts_to_sequences(corpus)"
      ],
      "metadata": {
        "execution": {
          "iopub.status.busy": "2021-07-22T09:11:06.544779Z",
          "iopub.execute_input": "2021-07-22T09:11:06.545098Z",
          "iopub.status.idle": "2021-07-22T09:11:06.550958Z",
          "shell.execute_reply.started": "2021-07-22T09:11:06.545068Z",
          "shell.execute_reply": "2021-07-22T09:11:06.549711Z"
        },
        "trusted": true,
        "id": "Lf1gQo1mbTzx"
      },
      "execution_count": null,
      "outputs": []
    },
    {
      "cell_type": "code",
      "source": [
        "len_train = np.max(df['cleaned_text'].apply(lambda x: len(x)))\n",
        "len_train"
      ],
      "metadata": {
        "execution": {
          "iopub.status.busy": "2021-07-22T09:11:07.372048Z",
          "iopub.execute_input": "2021-07-22T09:11:07.372422Z",
          "iopub.status.idle": "2021-07-22T09:11:07.385962Z",
          "shell.execute_reply.started": "2021-07-22T09:11:07.372389Z",
          "shell.execute_reply": "2021-07-22T09:11:07.384997Z"
        },
        "trusted": true,
        "id": "2IutjFRjbTzx"
      },
      "execution_count": null,
      "outputs": []
    },
    {
      "cell_type": "code",
      "source": [
        "train_padded_sentences = pad_sequences(\n",
        "    embeddings(training), \n",
        "    len_train, \n",
        "    padding='post'\n",
        ")\n",
        "test_padded_sentences = pad_sequences(\n",
        "    embeddings(testing), \n",
        "    len_train,\n",
        "    padding='post'\n",
        ")\n",
        "\n",
        "train_padded_sentences"
      ],
      "metadata": {
        "execution": {
          "iopub.status.busy": "2021-07-22T09:11:08.417989Z",
          "iopub.execute_input": "2021-07-22T09:11:08.418325Z",
          "iopub.status.idle": "2021-07-22T09:11:08.622115Z",
          "shell.execute_reply.started": "2021-07-22T09:11:08.418293Z",
          "shell.execute_reply": "2021-07-22T09:11:08.621113Z"
        },
        "trusted": true,
        "id": "_bkBioLcbTzx"
      },
      "execution_count": null,
      "outputs": []
    },
    {
      "cell_type": "code",
      "source": [
        "# As we've already created a GloVe dictionary in the SMS-dataset, we will start with the matrix\n",
        "\n",
        "embedding_matrix = np.zeros((vocab, embedding_dim))\n",
        "\n",
        "for word, index in tk.word_index.items():\n",
        "    embedding_vector = embedding_dict.get(word)\n",
        "    if embedding_vector is not None:\n",
        "        embedding_matrix[index] = embedding_vector\n",
        "        \n",
        "embedding_matrix"
      ],
      "metadata": {
        "execution": {
          "iopub.status.busy": "2021-07-22T09:12:13.261741Z",
          "iopub.execute_input": "2021-07-22T09:12:13.262079Z",
          "iopub.status.idle": "2021-07-22T09:12:13.297256Z",
          "shell.execute_reply.started": "2021-07-22T09:12:13.262030Z",
          "shell.execute_reply": "2021-07-22T09:12:13.296243Z"
        },
        "trusted": true,
        "id": "5SIJE5ZkbTzx"
      },
      "execution_count": null,
      "outputs": []
    },
    {
      "cell_type": "code",
      "source": [
        "x_train, x_test, y_train, y_test = train_test_split(train_padded_sentences, labels, test_size=0.20)"
      ],
      "metadata": {
        "execution": {
          "iopub.status.busy": "2021-07-22T09:12:53.878599Z",
          "iopub.execute_input": "2021-07-22T09:12:53.878915Z",
          "iopub.status.idle": "2021-07-22T09:12:53.886133Z",
          "shell.execute_reply.started": "2021-07-22T09:12:53.878887Z",
          "shell.execute_reply": "2021-07-22T09:12:53.885136Z"
        },
        "trusted": true,
        "id": "iRNmJYFDbTzx"
      },
      "execution_count": null,
      "outputs": []
    },
    {
      "cell_type": "code",
      "source": [
        "model = Sequential()\n",
        "model.add(Embedding(input_dim=embedding_matrix.shape[0], \n",
        "                   output_dim=embedding_matrix.shape[1],\n",
        "                   weights=[embedding_matrix],\n",
        "                   input_length=max_len\n",
        "                   )\n",
        "         )\n",
        "model.add(Bidirectional(LSTM(max_len, return_sequences=True, recurrent_dropout=0.15)))\n",
        "model.add(GlobalMaxPool1D())\n",
        "model.add(BatchNormalization())\n",
        "model.add(Dropout(0.3))\n",
        "model.add(Dense(max_len, activation='relu'))\n",
        "model.add(Dropout(0.3))\n",
        "model.add(Dense(max_len, activation='relu'))\n",
        "model.add(Dropout(0.3))\n",
        "model.add(Dense(1, activation='sigmoid'))\n",
        "\n",
        "\n",
        "model.compile(optimizer='adam', loss='binary_crossentropy', metrics=['accuracy'])\n",
        "model.summary()"
      ],
      "metadata": {
        "execution": {
          "iopub.status.busy": "2021-07-22T09:13:49.242913Z",
          "iopub.execute_input": "2021-07-22T09:13:49.243248Z",
          "iopub.status.idle": "2021-07-22T09:13:49.517684Z",
          "shell.execute_reply.started": "2021-07-22T09:13:49.243201Z",
          "shell.execute_reply": "2021-07-22T09:13:49.516890Z"
        },
        "trusted": true,
        "id": "BcdIDlzXbTzx"
      },
      "execution_count": null,
      "outputs": []
    },
    {
      "cell_type": "code",
      "source": [
        "# Callbacks\n",
        "checkpoint = ModelCheckpoint('model.h5', monitor = 'val_loss', verbose = 1, save_best_only = True)\n",
        "reduce_lr = ReduceLROnPlateau(monitor = 'val_loss', factor = 0.2, verbose = 1, patience = 5,                        min_lr = 0.001)\n",
        "\n",
        "history = model.fit(x_train, y_train, epochs = 7,batch_size = 32,validation_data = (x_test, y_test),verbose = 1,callbacks = [reduce_lr, checkpoint])"
      ],
      "metadata": {
        "execution": {
          "iopub.status.busy": "2021-07-22T09:14:06.394663Z",
          "iopub.execute_input": "2021-07-22T09:14:06.394978Z",
          "iopub.status.idle": "2021-07-22T09:31:58.564618Z",
          "shell.execute_reply.started": "2021-07-22T09:14:06.394949Z",
          "shell.execute_reply": "2021-07-22T09:31:58.563697Z"
        },
        "trusted": true,
        "id": "pgBblxl8bTzx"
      },
      "execution_count": null,
      "outputs": []
    },
    {
      "cell_type": "code",
      "source": [
        "learning_curve(history, [['loss', 'val_loss'],['accuracy', 'val_accuracy']])"
      ],
      "metadata": {
        "execution": {
          "iopub.status.busy": "2021-07-22T09:31:58.566518Z",
          "iopub.execute_input": "2021-07-22T09:31:58.566858Z",
          "iopub.status.idle": "2021-07-22T09:31:58.881684Z",
          "shell.execute_reply.started": "2021-07-22T09:31:58.566819Z",
          "shell.execute_reply": "2021-07-22T09:31:58.880892Z"
        },
        "trusted": true,
        "id": "iNj_eU4lbTzx"
      },
      "execution_count": null,
      "outputs": []
    },
    {
      "cell_type": "code",
      "source": [
        "preds = model.predict_classes(x_test)\n",
        "metric_calculation(preds, y_test)"
      ],
      "metadata": {
        "execution": {
          "iopub.status.busy": "2021-07-22T09:32:01.848661Z",
          "iopub.status.idle": "2021-07-22T09:32:01.849464Z"
        },
        "trusted": true,
        "id": "CeYSI2M0bTzx"
      },
      "execution_count": null,
      "outputs": []
    },
    {
      "cell_type": "code",
      "source": [],
      "metadata": {
        "id": "c0PVci8NbTzx"
      },
      "execution_count": null,
      "outputs": []
    }
  ]
}
