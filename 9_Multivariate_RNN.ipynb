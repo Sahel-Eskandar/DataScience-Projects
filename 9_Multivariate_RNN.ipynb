{
  "nbformat": 4,
  "nbformat_minor": 0,
  "metadata": {
    "kernelspec": {
      "display_name": "Python 3",
      "language": "python",
      "name": "python3"
    },
    "language_info": {
      "codemirror_mode": {
        "name": "ipython",
        "version": 3
      },
      "file_extension": ".py",
      "mimetype": "text/x-python",
      "name": "python",
      "nbconvert_exporter": "python",
      "pygments_lexer": "ipython3",
      "version": "3.6.8"
    },
    "colab": {
      "provenance": [],
      "toc_visible": true,
      "include_colab_link": true
    }
  },
  "cells": [
    {
      "cell_type": "markdown",
      "metadata": {
        "id": "view-in-github",
        "colab_type": "text"
      },
      "source": [
        "<a href=\"https://colab.research.google.com/github/Sahel-Eskandar/DataScience-Projects/blob/main/9_Multivariate_RNN.ipynb\" target=\"_parent\"><img src=\"https://colab.research.google.com/assets/colab-badge.svg\" alt=\"Open In Colab\"/></a>"
      ]
    },
    {
      "cell_type": "markdown",
      "metadata": {
        "id": "3WDAkyD9Z193"
      },
      "source": [
        "\n",
        "\n",
        "----\n",
        "# PLEASE READ THE FOLLOWING BEFORE GOING THROUGH THIS NOTEBOOK!\n",
        "\n",
        "## NOTE: In general, it is very difficult to get good performance from an LSTM based RNN model for multivariate series. We highly recommend using SARIMAX based methods if you have a real-world situation requiring multi-variate time series data. You can learn more about this in my [time series course](https://www.udemy.com/python-for-time-series-data-analysis/?couponCode=TIME_SERIES_PYTHON).\n",
        "\n",
        "## Please do not post questions to the QA forums about your own time series data sets, the QA forums are for course related notebooks and datasets only. Post to discord for your own datasets.\n",
        "---\n",
        "---\n",
        "Appliance Energy Usage: A Multivariate Time Series Forecasting Example\n",
        "\n",
        "\n",
        "Experimental data used to create regression models of appliances energy use in a low energy building.\n",
        "Data Set Information:\n",
        "\n",
        "The data set is at 10 min for about 4.5 months. The house temperature and humidity conditions were monitored with a ZigBee wireless sensor network. Each wireless node transmitted the temperature and humidity conditions around 3.3 min. Then, the wireless data was averaged for 10 minutes periods. The energy data was logged every 10 minutes with m-bus energy meters. Weather from the nearest airport weather station (Chievres Airport, Belgium) was downloaded from a public data set from Reliable Prognosis (rp5.ru), and merged together with the experimental data sets using the date and time column. Two random variables have been included in the data set for testing the regression models and to filter out non predictive attributes (parameters).\n",
        "Original source of the dataset:\n",
        "\n",
        "http://archive.ics.uci.edu/ml/datasets/Appliances+energy+prediction\n",
        "___\n",
        "___"
      ]
    },
    {
      "cell_type": "code",
      "metadata": {
        "id": "gThdIYtnZ4G3",
        "outputId": "8c131b95-891f-4b3b-eb18-79cf3c305864",
        "colab": {
          "base_uri": "https://localhost:8080/"
        }
      },
      "source": [
        "!git clone https://github.com/Sinisha12/ML_DL.git"
      ],
      "execution_count": null,
      "outputs": [
        {
          "output_type": "stream",
          "text": [
            "Cloning into 'ML_DL'...\n",
            "remote: Enumerating objects: 99, done.\u001b[K\n",
            "remote: Counting objects: 100% (99/99), done.\u001b[K\n",
            "remote: Compressing objects: 100% (66/66), done.\u001b[K\n",
            "remote: Total 4791 (delta 43), reused 75 (delta 30), pack-reused 4692\u001b[K\n",
            "Receiving objects: 100% (4791/4791), 35.71 MiB | 22.49 MiB/s, done.\n",
            "Resolving deltas: 100% (1418/1418), done.\n"
          ],
          "name": "stdout"
        }
      ]
    },
    {
      "cell_type": "code",
      "metadata": {
        "id": "bqM3nFozZ198"
      },
      "source": [
        "import pandas as pd\n",
        "import numpy as np\n",
        "%matplotlib inline\n",
        "import matplotlib.pyplot as plt\n",
        "from sklearn.preprocessing import MinMaxScaler\n",
        "from tensorflow.keras.preprocessing.sequence import TimeseriesGenerator\n",
        "from tensorflow.keras.models import Sequential\n",
        "from tensorflow.keras.layers import Dense,LSTM\n",
        "from tensorflow.keras.callbacks import EarlyStopping\n",
        "from tensorflow.keras.models import load_model"
      ],
      "execution_count": null,
      "outputs": []
    },
    {
      "cell_type": "code",
      "metadata": {
        "id": "Jx87h1tAZ199"
      },
      "source": [
        "# IGNORE THE CONTENT OF THIS CELL\n",
        "# import tensorflow as tf\n",
        "# tf.compat.v1.disable_eager_execution()"
      ],
      "execution_count": null,
      "outputs": []
    },
    {
      "cell_type": "markdown",
      "metadata": {
        "id": "jWnss-1ZZ199"
      },
      "source": [
        "## Data\n",
        "\n",
        "Let's read in the data set:"
      ]
    },
    {
      "cell_type": "code",
      "metadata": {
        "id": "MXA-IyxPZ19-"
      },
      "source": [
        "df = pd.read_csv('energydata_complete.csv',index_col='date',\n",
        "                infer_datetime_format=True)"
      ],
      "execution_count": null,
      "outputs": []
    },
    {
      "cell_type": "code",
      "metadata": {
        "id": "p9dasKAXZ19-",
        "outputId": "57c3f496-434f-47f1-8241-2ff3decdba63"
      },
      "source": [
        "df.head()"
      ],
      "execution_count": null,
      "outputs": [
        {
          "output_type": "execute_result",
          "data": {
            "text/html": [
              "<div>\n",
              "<style scoped>\n",
              "    .dataframe tbody tr th:only-of-type {\n",
              "        vertical-align: middle;\n",
              "    }\n",
              "\n",
              "    .dataframe tbody tr th {\n",
              "        vertical-align: top;\n",
              "    }\n",
              "\n",
              "    .dataframe thead th {\n",
              "        text-align: right;\n",
              "    }\n",
              "</style>\n",
              "<table border=\"1\" class=\"dataframe\">\n",
              "  <thead>\n",
              "    <tr style=\"text-align: right;\">\n",
              "      <th></th>\n",
              "      <th>Appliances</th>\n",
              "      <th>lights</th>\n",
              "      <th>T1</th>\n",
              "      <th>RH_1</th>\n",
              "      <th>T2</th>\n",
              "      <th>RH_2</th>\n",
              "      <th>T3</th>\n",
              "      <th>RH_3</th>\n",
              "      <th>T4</th>\n",
              "      <th>RH_4</th>\n",
              "      <th>...</th>\n",
              "      <th>T9</th>\n",
              "      <th>RH_9</th>\n",
              "      <th>T_out</th>\n",
              "      <th>Press_mm_hg</th>\n",
              "      <th>RH_out</th>\n",
              "      <th>Windspeed</th>\n",
              "      <th>Visibility</th>\n",
              "      <th>Tdewpoint</th>\n",
              "      <th>rv1</th>\n",
              "      <th>rv2</th>\n",
              "    </tr>\n",
              "    <tr>\n",
              "      <th>date</th>\n",
              "      <th></th>\n",
              "      <th></th>\n",
              "      <th></th>\n",
              "      <th></th>\n",
              "      <th></th>\n",
              "      <th></th>\n",
              "      <th></th>\n",
              "      <th></th>\n",
              "      <th></th>\n",
              "      <th></th>\n",
              "      <th></th>\n",
              "      <th></th>\n",
              "      <th></th>\n",
              "      <th></th>\n",
              "      <th></th>\n",
              "      <th></th>\n",
              "      <th></th>\n",
              "      <th></th>\n",
              "      <th></th>\n",
              "      <th></th>\n",
              "      <th></th>\n",
              "    </tr>\n",
              "  </thead>\n",
              "  <tbody>\n",
              "    <tr>\n",
              "      <th>2016-01-11 17:00:00</th>\n",
              "      <td>60</td>\n",
              "      <td>30</td>\n",
              "      <td>19.89</td>\n",
              "      <td>47.596667</td>\n",
              "      <td>19.2</td>\n",
              "      <td>44.790000</td>\n",
              "      <td>19.79</td>\n",
              "      <td>44.730000</td>\n",
              "      <td>19.000000</td>\n",
              "      <td>45.566667</td>\n",
              "      <td>...</td>\n",
              "      <td>17.033333</td>\n",
              "      <td>45.53</td>\n",
              "      <td>6.600000</td>\n",
              "      <td>733.5</td>\n",
              "      <td>92.0</td>\n",
              "      <td>7.000000</td>\n",
              "      <td>63.000000</td>\n",
              "      <td>5.3</td>\n",
              "      <td>13.275433</td>\n",
              "      <td>13.275433</td>\n",
              "    </tr>\n",
              "    <tr>\n",
              "      <th>2016-01-11 17:10:00</th>\n",
              "      <td>60</td>\n",
              "      <td>30</td>\n",
              "      <td>19.89</td>\n",
              "      <td>46.693333</td>\n",
              "      <td>19.2</td>\n",
              "      <td>44.722500</td>\n",
              "      <td>19.79</td>\n",
              "      <td>44.790000</td>\n",
              "      <td>19.000000</td>\n",
              "      <td>45.992500</td>\n",
              "      <td>...</td>\n",
              "      <td>17.066667</td>\n",
              "      <td>45.56</td>\n",
              "      <td>6.483333</td>\n",
              "      <td>733.6</td>\n",
              "      <td>92.0</td>\n",
              "      <td>6.666667</td>\n",
              "      <td>59.166667</td>\n",
              "      <td>5.2</td>\n",
              "      <td>18.606195</td>\n",
              "      <td>18.606195</td>\n",
              "    </tr>\n",
              "    <tr>\n",
              "      <th>2016-01-11 17:20:00</th>\n",
              "      <td>50</td>\n",
              "      <td>30</td>\n",
              "      <td>19.89</td>\n",
              "      <td>46.300000</td>\n",
              "      <td>19.2</td>\n",
              "      <td>44.626667</td>\n",
              "      <td>19.79</td>\n",
              "      <td>44.933333</td>\n",
              "      <td>18.926667</td>\n",
              "      <td>45.890000</td>\n",
              "      <td>...</td>\n",
              "      <td>17.000000</td>\n",
              "      <td>45.50</td>\n",
              "      <td>6.366667</td>\n",
              "      <td>733.7</td>\n",
              "      <td>92.0</td>\n",
              "      <td>6.333333</td>\n",
              "      <td>55.333333</td>\n",
              "      <td>5.1</td>\n",
              "      <td>28.642668</td>\n",
              "      <td>28.642668</td>\n",
              "    </tr>\n",
              "    <tr>\n",
              "      <th>2016-01-11 17:30:00</th>\n",
              "      <td>50</td>\n",
              "      <td>40</td>\n",
              "      <td>19.89</td>\n",
              "      <td>46.066667</td>\n",
              "      <td>19.2</td>\n",
              "      <td>44.590000</td>\n",
              "      <td>19.79</td>\n",
              "      <td>45.000000</td>\n",
              "      <td>18.890000</td>\n",
              "      <td>45.723333</td>\n",
              "      <td>...</td>\n",
              "      <td>17.000000</td>\n",
              "      <td>45.40</td>\n",
              "      <td>6.250000</td>\n",
              "      <td>733.8</td>\n",
              "      <td>92.0</td>\n",
              "      <td>6.000000</td>\n",
              "      <td>51.500000</td>\n",
              "      <td>5.0</td>\n",
              "      <td>45.410389</td>\n",
              "      <td>45.410389</td>\n",
              "    </tr>\n",
              "    <tr>\n",
              "      <th>2016-01-11 17:40:00</th>\n",
              "      <td>60</td>\n",
              "      <td>40</td>\n",
              "      <td>19.89</td>\n",
              "      <td>46.333333</td>\n",
              "      <td>19.2</td>\n",
              "      <td>44.530000</td>\n",
              "      <td>19.79</td>\n",
              "      <td>45.000000</td>\n",
              "      <td>18.890000</td>\n",
              "      <td>45.530000</td>\n",
              "      <td>...</td>\n",
              "      <td>17.000000</td>\n",
              "      <td>45.40</td>\n",
              "      <td>6.133333</td>\n",
              "      <td>733.9</td>\n",
              "      <td>92.0</td>\n",
              "      <td>5.666667</td>\n",
              "      <td>47.666667</td>\n",
              "      <td>4.9</td>\n",
              "      <td>10.084097</td>\n",
              "      <td>10.084097</td>\n",
              "    </tr>\n",
              "  </tbody>\n",
              "</table>\n",
              "<p>5 rows × 28 columns</p>\n",
              "</div>"
            ],
            "text/plain": [
              "                     Appliances  lights     T1       RH_1    T2       RH_2  \\\n",
              "date                                                                         \n",
              "2016-01-11 17:00:00          60      30  19.89  47.596667  19.2  44.790000   \n",
              "2016-01-11 17:10:00          60      30  19.89  46.693333  19.2  44.722500   \n",
              "2016-01-11 17:20:00          50      30  19.89  46.300000  19.2  44.626667   \n",
              "2016-01-11 17:30:00          50      40  19.89  46.066667  19.2  44.590000   \n",
              "2016-01-11 17:40:00          60      40  19.89  46.333333  19.2  44.530000   \n",
              "\n",
              "                        T3       RH_3         T4       RH_4  ...         T9  \\\n",
              "date                                                         ...              \n",
              "2016-01-11 17:00:00  19.79  44.730000  19.000000  45.566667  ...  17.033333   \n",
              "2016-01-11 17:10:00  19.79  44.790000  19.000000  45.992500  ...  17.066667   \n",
              "2016-01-11 17:20:00  19.79  44.933333  18.926667  45.890000  ...  17.000000   \n",
              "2016-01-11 17:30:00  19.79  45.000000  18.890000  45.723333  ...  17.000000   \n",
              "2016-01-11 17:40:00  19.79  45.000000  18.890000  45.530000  ...  17.000000   \n",
              "\n",
              "                      RH_9     T_out  Press_mm_hg  RH_out  Windspeed  \\\n",
              "date                                                                   \n",
              "2016-01-11 17:00:00  45.53  6.600000        733.5    92.0   7.000000   \n",
              "2016-01-11 17:10:00  45.56  6.483333        733.6    92.0   6.666667   \n",
              "2016-01-11 17:20:00  45.50  6.366667        733.7    92.0   6.333333   \n",
              "2016-01-11 17:30:00  45.40  6.250000        733.8    92.0   6.000000   \n",
              "2016-01-11 17:40:00  45.40  6.133333        733.9    92.0   5.666667   \n",
              "\n",
              "                     Visibility  Tdewpoint        rv1        rv2  \n",
              "date                                                              \n",
              "2016-01-11 17:00:00   63.000000        5.3  13.275433  13.275433  \n",
              "2016-01-11 17:10:00   59.166667        5.2  18.606195  18.606195  \n",
              "2016-01-11 17:20:00   55.333333        5.1  28.642668  28.642668  \n",
              "2016-01-11 17:30:00   51.500000        5.0  45.410389  45.410389  \n",
              "2016-01-11 17:40:00   47.666667        4.9  10.084097  10.084097  \n",
              "\n",
              "[5 rows x 28 columns]"
            ]
          },
          "metadata": {
            "tags": []
          },
          "execution_count": 4
        }
      ]
    },
    {
      "cell_type": "code",
      "metadata": {
        "id": "kUnaJqWUZ19_",
        "outputId": "a10f5078-1f27-4695-c505-df8c71fa75e8"
      },
      "source": [
        "df.info()"
      ],
      "execution_count": null,
      "outputs": [
        {
          "output_type": "stream",
          "text": [
            "<class 'pandas.core.frame.DataFrame'>\n",
            "Index: 19735 entries, 2016-01-11 17:00:00 to 2016-05-27 18:00:00\n",
            "Data columns (total 28 columns):\n",
            " #   Column       Non-Null Count  Dtype  \n",
            "---  ------       --------------  -----  \n",
            " 0   Appliances   19735 non-null  int64  \n",
            " 1   lights       19735 non-null  int64  \n",
            " 2   T1           19735 non-null  float64\n",
            " 3   RH_1         19735 non-null  float64\n",
            " 4   T2           19735 non-null  float64\n",
            " 5   RH_2         19735 non-null  float64\n",
            " 6   T3           19735 non-null  float64\n",
            " 7   RH_3         19735 non-null  float64\n",
            " 8   T4           19735 non-null  float64\n",
            " 9   RH_4         19735 non-null  float64\n",
            " 10  T5           19735 non-null  float64\n",
            " 11  RH_5         19735 non-null  float64\n",
            " 12  T6           19735 non-null  float64\n",
            " 13  RH_6         19735 non-null  float64\n",
            " 14  T7           19735 non-null  float64\n",
            " 15  RH_7         19735 non-null  float64\n",
            " 16  T8           19735 non-null  float64\n",
            " 17  RH_8         19735 non-null  float64\n",
            " 18  T9           19735 non-null  float64\n",
            " 19  RH_9         19735 non-null  float64\n",
            " 20  T_out        19735 non-null  float64\n",
            " 21  Press_mm_hg  19735 non-null  float64\n",
            " 22  RH_out       19735 non-null  float64\n",
            " 23  Windspeed    19735 non-null  float64\n",
            " 24  Visibility   19735 non-null  float64\n",
            " 25  Tdewpoint    19735 non-null  float64\n",
            " 26  rv1          19735 non-null  float64\n",
            " 27  rv2          19735 non-null  float64\n",
            "dtypes: float64(26), int64(2)\n",
            "memory usage: 4.4+ MB\n"
          ],
          "name": "stdout"
        }
      ]
    },
    {
      "cell_type": "code",
      "metadata": {
        "id": "MIKp1_t8Z19_"
      },
      "source": [
        "df['Windspeed'].plot(figsize=(12,8))"
      ],
      "execution_count": null,
      "outputs": []
    },
    {
      "cell_type": "code",
      "metadata": {
        "id": "6d1I6CcjZ19_"
      },
      "source": [
        "df['Appliances'].plot(figsize=(12,8))"
      ],
      "execution_count": null,
      "outputs": []
    },
    {
      "cell_type": "markdown",
      "metadata": {
        "id": "ETjzhkP0Z1-A"
      },
      "source": [
        "## Train Test Split"
      ]
    },
    {
      "cell_type": "code",
      "metadata": {
        "id": "ehrY5xx2Z1-A",
        "outputId": "2dbcda96-bd09-4d01-d4e1-582445319227"
      },
      "source": [
        "len(df)"
      ],
      "execution_count": null,
      "outputs": [
        {
          "output_type": "execute_result",
          "data": {
            "text/plain": [
              "19735"
            ]
          },
          "metadata": {
            "tags": []
          },
          "execution_count": 6
        }
      ]
    },
    {
      "cell_type": "code",
      "metadata": {
        "id": "1NUZtiEXZ1-A",
        "outputId": "25a9c9a4-f349-4d69-e353-47e0a4922cff"
      },
      "source": [
        "df.head(3)"
      ],
      "execution_count": null,
      "outputs": [
        {
          "output_type": "execute_result",
          "data": {
            "text/html": [
              "<div>\n",
              "<style scoped>\n",
              "    .dataframe tbody tr th:only-of-type {\n",
              "        vertical-align: middle;\n",
              "    }\n",
              "\n",
              "    .dataframe tbody tr th {\n",
              "        vertical-align: top;\n",
              "    }\n",
              "\n",
              "    .dataframe thead th {\n",
              "        text-align: right;\n",
              "    }\n",
              "</style>\n",
              "<table border=\"1\" class=\"dataframe\">\n",
              "  <thead>\n",
              "    <tr style=\"text-align: right;\">\n",
              "      <th></th>\n",
              "      <th>Appliances</th>\n",
              "      <th>lights</th>\n",
              "      <th>T1</th>\n",
              "      <th>RH_1</th>\n",
              "      <th>T2</th>\n",
              "      <th>RH_2</th>\n",
              "      <th>T3</th>\n",
              "      <th>RH_3</th>\n",
              "      <th>T4</th>\n",
              "      <th>RH_4</th>\n",
              "      <th>...</th>\n",
              "      <th>T9</th>\n",
              "      <th>RH_9</th>\n",
              "      <th>T_out</th>\n",
              "      <th>Press_mm_hg</th>\n",
              "      <th>RH_out</th>\n",
              "      <th>Windspeed</th>\n",
              "      <th>Visibility</th>\n",
              "      <th>Tdewpoint</th>\n",
              "      <th>rv1</th>\n",
              "      <th>rv2</th>\n",
              "    </tr>\n",
              "    <tr>\n",
              "      <th>date</th>\n",
              "      <th></th>\n",
              "      <th></th>\n",
              "      <th></th>\n",
              "      <th></th>\n",
              "      <th></th>\n",
              "      <th></th>\n",
              "      <th></th>\n",
              "      <th></th>\n",
              "      <th></th>\n",
              "      <th></th>\n",
              "      <th></th>\n",
              "      <th></th>\n",
              "      <th></th>\n",
              "      <th></th>\n",
              "      <th></th>\n",
              "      <th></th>\n",
              "      <th></th>\n",
              "      <th></th>\n",
              "      <th></th>\n",
              "      <th></th>\n",
              "      <th></th>\n",
              "    </tr>\n",
              "  </thead>\n",
              "  <tbody>\n",
              "    <tr>\n",
              "      <th>2016-01-11 17:00:00</th>\n",
              "      <td>60</td>\n",
              "      <td>30</td>\n",
              "      <td>19.89</td>\n",
              "      <td>47.596667</td>\n",
              "      <td>19.2</td>\n",
              "      <td>44.790000</td>\n",
              "      <td>19.79</td>\n",
              "      <td>44.730000</td>\n",
              "      <td>19.000000</td>\n",
              "      <td>45.566667</td>\n",
              "      <td>...</td>\n",
              "      <td>17.033333</td>\n",
              "      <td>45.53</td>\n",
              "      <td>6.600000</td>\n",
              "      <td>733.5</td>\n",
              "      <td>92.0</td>\n",
              "      <td>7.000000</td>\n",
              "      <td>63.000000</td>\n",
              "      <td>5.3</td>\n",
              "      <td>13.275433</td>\n",
              "      <td>13.275433</td>\n",
              "    </tr>\n",
              "    <tr>\n",
              "      <th>2016-01-11 17:10:00</th>\n",
              "      <td>60</td>\n",
              "      <td>30</td>\n",
              "      <td>19.89</td>\n",
              "      <td>46.693333</td>\n",
              "      <td>19.2</td>\n",
              "      <td>44.722500</td>\n",
              "      <td>19.79</td>\n",
              "      <td>44.790000</td>\n",
              "      <td>19.000000</td>\n",
              "      <td>45.992500</td>\n",
              "      <td>...</td>\n",
              "      <td>17.066667</td>\n",
              "      <td>45.56</td>\n",
              "      <td>6.483333</td>\n",
              "      <td>733.6</td>\n",
              "      <td>92.0</td>\n",
              "      <td>6.666667</td>\n",
              "      <td>59.166667</td>\n",
              "      <td>5.2</td>\n",
              "      <td>18.606195</td>\n",
              "      <td>18.606195</td>\n",
              "    </tr>\n",
              "    <tr>\n",
              "      <th>2016-01-11 17:20:00</th>\n",
              "      <td>50</td>\n",
              "      <td>30</td>\n",
              "      <td>19.89</td>\n",
              "      <td>46.300000</td>\n",
              "      <td>19.2</td>\n",
              "      <td>44.626667</td>\n",
              "      <td>19.79</td>\n",
              "      <td>44.933333</td>\n",
              "      <td>18.926667</td>\n",
              "      <td>45.890000</td>\n",
              "      <td>...</td>\n",
              "      <td>17.000000</td>\n",
              "      <td>45.50</td>\n",
              "      <td>6.366667</td>\n",
              "      <td>733.7</td>\n",
              "      <td>92.0</td>\n",
              "      <td>6.333333</td>\n",
              "      <td>55.333333</td>\n",
              "      <td>5.1</td>\n",
              "      <td>28.642668</td>\n",
              "      <td>28.642668</td>\n",
              "    </tr>\n",
              "  </tbody>\n",
              "</table>\n",
              "<p>3 rows × 28 columns</p>\n",
              "</div>"
            ],
            "text/plain": [
              "                     Appliances  lights     T1       RH_1    T2       RH_2  \\\n",
              "date                                                                         \n",
              "2016-01-11 17:00:00          60      30  19.89  47.596667  19.2  44.790000   \n",
              "2016-01-11 17:10:00          60      30  19.89  46.693333  19.2  44.722500   \n",
              "2016-01-11 17:20:00          50      30  19.89  46.300000  19.2  44.626667   \n",
              "\n",
              "                        T3       RH_3         T4       RH_4  ...         T9  \\\n",
              "date                                                         ...              \n",
              "2016-01-11 17:00:00  19.79  44.730000  19.000000  45.566667  ...  17.033333   \n",
              "2016-01-11 17:10:00  19.79  44.790000  19.000000  45.992500  ...  17.066667   \n",
              "2016-01-11 17:20:00  19.79  44.933333  18.926667  45.890000  ...  17.000000   \n",
              "\n",
              "                      RH_9     T_out  Press_mm_hg  RH_out  Windspeed  \\\n",
              "date                                                                   \n",
              "2016-01-11 17:00:00  45.53  6.600000        733.5    92.0   7.000000   \n",
              "2016-01-11 17:10:00  45.56  6.483333        733.6    92.0   6.666667   \n",
              "2016-01-11 17:20:00  45.50  6.366667        733.7    92.0   6.333333   \n",
              "\n",
              "                     Visibility  Tdewpoint        rv1        rv2  \n",
              "date                                                              \n",
              "2016-01-11 17:00:00   63.000000        5.3  13.275433  13.275433  \n",
              "2016-01-11 17:10:00   59.166667        5.2  18.606195  18.606195  \n",
              "2016-01-11 17:20:00   55.333333        5.1  28.642668  28.642668  \n",
              "\n",
              "[3 rows x 28 columns]"
            ]
          },
          "metadata": {
            "tags": []
          },
          "execution_count": 7
        }
      ]
    },
    {
      "cell_type": "code",
      "metadata": {
        "id": "_ZxkfOTcZ1-A",
        "outputId": "011714f9-8860-4283-8be2-c85ffd2d9730"
      },
      "source": [
        "df.tail(5)"
      ],
      "execution_count": null,
      "outputs": [
        {
          "output_type": "execute_result",
          "data": {
            "text/html": [
              "<div>\n",
              "<style scoped>\n",
              "    .dataframe tbody tr th:only-of-type {\n",
              "        vertical-align: middle;\n",
              "    }\n",
              "\n",
              "    .dataframe tbody tr th {\n",
              "        vertical-align: top;\n",
              "    }\n",
              "\n",
              "    .dataframe thead th {\n",
              "        text-align: right;\n",
              "    }\n",
              "</style>\n",
              "<table border=\"1\" class=\"dataframe\">\n",
              "  <thead>\n",
              "    <tr style=\"text-align: right;\">\n",
              "      <th></th>\n",
              "      <th>Appliances</th>\n",
              "      <th>lights</th>\n",
              "      <th>T1</th>\n",
              "      <th>RH_1</th>\n",
              "      <th>T2</th>\n",
              "      <th>RH_2</th>\n",
              "      <th>T3</th>\n",
              "      <th>RH_3</th>\n",
              "      <th>T4</th>\n",
              "      <th>RH_4</th>\n",
              "      <th>...</th>\n",
              "      <th>T9</th>\n",
              "      <th>RH_9</th>\n",
              "      <th>T_out</th>\n",
              "      <th>Press_mm_hg</th>\n",
              "      <th>RH_out</th>\n",
              "      <th>Windspeed</th>\n",
              "      <th>Visibility</th>\n",
              "      <th>Tdewpoint</th>\n",
              "      <th>rv1</th>\n",
              "      <th>rv2</th>\n",
              "    </tr>\n",
              "    <tr>\n",
              "      <th>date</th>\n",
              "      <th></th>\n",
              "      <th></th>\n",
              "      <th></th>\n",
              "      <th></th>\n",
              "      <th></th>\n",
              "      <th></th>\n",
              "      <th></th>\n",
              "      <th></th>\n",
              "      <th></th>\n",
              "      <th></th>\n",
              "      <th></th>\n",
              "      <th></th>\n",
              "      <th></th>\n",
              "      <th></th>\n",
              "      <th></th>\n",
              "      <th></th>\n",
              "      <th></th>\n",
              "      <th></th>\n",
              "      <th></th>\n",
              "      <th></th>\n",
              "      <th></th>\n",
              "    </tr>\n",
              "  </thead>\n",
              "  <tbody>\n",
              "    <tr>\n",
              "      <th>2016-05-27 17:20:00</th>\n",
              "      <td>100</td>\n",
              "      <td>0</td>\n",
              "      <td>25.566667</td>\n",
              "      <td>46.560000</td>\n",
              "      <td>25.890000</td>\n",
              "      <td>42.025714</td>\n",
              "      <td>27.200000</td>\n",
              "      <td>41.163333</td>\n",
              "      <td>24.7</td>\n",
              "      <td>45.590000</td>\n",
              "      <td>...</td>\n",
              "      <td>23.2</td>\n",
              "      <td>46.7900</td>\n",
              "      <td>22.733333</td>\n",
              "      <td>755.2</td>\n",
              "      <td>55.666667</td>\n",
              "      <td>3.333333</td>\n",
              "      <td>23.666667</td>\n",
              "      <td>13.333333</td>\n",
              "      <td>43.096812</td>\n",
              "      <td>43.096812</td>\n",
              "    </tr>\n",
              "    <tr>\n",
              "      <th>2016-05-27 17:30:00</th>\n",
              "      <td>90</td>\n",
              "      <td>0</td>\n",
              "      <td>25.500000</td>\n",
              "      <td>46.500000</td>\n",
              "      <td>25.754000</td>\n",
              "      <td>42.080000</td>\n",
              "      <td>27.133333</td>\n",
              "      <td>41.223333</td>\n",
              "      <td>24.7</td>\n",
              "      <td>45.590000</td>\n",
              "      <td>...</td>\n",
              "      <td>23.2</td>\n",
              "      <td>46.7900</td>\n",
              "      <td>22.600000</td>\n",
              "      <td>755.2</td>\n",
              "      <td>56.000000</td>\n",
              "      <td>3.500000</td>\n",
              "      <td>24.500000</td>\n",
              "      <td>13.300000</td>\n",
              "      <td>49.282940</td>\n",
              "      <td>49.282940</td>\n",
              "    </tr>\n",
              "    <tr>\n",
              "      <th>2016-05-27 17:40:00</th>\n",
              "      <td>270</td>\n",
              "      <td>10</td>\n",
              "      <td>25.500000</td>\n",
              "      <td>46.596667</td>\n",
              "      <td>25.628571</td>\n",
              "      <td>42.768571</td>\n",
              "      <td>27.050000</td>\n",
              "      <td>41.690000</td>\n",
              "      <td>24.7</td>\n",
              "      <td>45.730000</td>\n",
              "      <td>...</td>\n",
              "      <td>23.2</td>\n",
              "      <td>46.7900</td>\n",
              "      <td>22.466667</td>\n",
              "      <td>755.2</td>\n",
              "      <td>56.333333</td>\n",
              "      <td>3.666667</td>\n",
              "      <td>25.333333</td>\n",
              "      <td>13.266667</td>\n",
              "      <td>29.199117</td>\n",
              "      <td>29.199117</td>\n",
              "    </tr>\n",
              "    <tr>\n",
              "      <th>2016-05-27 17:50:00</th>\n",
              "      <td>420</td>\n",
              "      <td>10</td>\n",
              "      <td>25.500000</td>\n",
              "      <td>46.990000</td>\n",
              "      <td>25.414000</td>\n",
              "      <td>43.036000</td>\n",
              "      <td>26.890000</td>\n",
              "      <td>41.290000</td>\n",
              "      <td>24.7</td>\n",
              "      <td>45.790000</td>\n",
              "      <td>...</td>\n",
              "      <td>23.2</td>\n",
              "      <td>46.8175</td>\n",
              "      <td>22.333333</td>\n",
              "      <td>755.2</td>\n",
              "      <td>56.666667</td>\n",
              "      <td>3.833333</td>\n",
              "      <td>26.166667</td>\n",
              "      <td>13.233333</td>\n",
              "      <td>6.322784</td>\n",
              "      <td>6.322784</td>\n",
              "    </tr>\n",
              "    <tr>\n",
              "      <th>2016-05-27 18:00:00</th>\n",
              "      <td>430</td>\n",
              "      <td>10</td>\n",
              "      <td>25.500000</td>\n",
              "      <td>46.600000</td>\n",
              "      <td>25.264286</td>\n",
              "      <td>42.971429</td>\n",
              "      <td>26.823333</td>\n",
              "      <td>41.156667</td>\n",
              "      <td>24.7</td>\n",
              "      <td>45.963333</td>\n",
              "      <td>...</td>\n",
              "      <td>23.2</td>\n",
              "      <td>46.8450</td>\n",
              "      <td>22.200000</td>\n",
              "      <td>755.2</td>\n",
              "      <td>57.000000</td>\n",
              "      <td>4.000000</td>\n",
              "      <td>27.000000</td>\n",
              "      <td>13.200000</td>\n",
              "      <td>34.118851</td>\n",
              "      <td>34.118851</td>\n",
              "    </tr>\n",
              "  </tbody>\n",
              "</table>\n",
              "<p>5 rows × 28 columns</p>\n",
              "</div>"
            ],
            "text/plain": [
              "                     Appliances  lights         T1       RH_1         T2  \\\n",
              "date                                                                       \n",
              "2016-05-27 17:20:00         100       0  25.566667  46.560000  25.890000   \n",
              "2016-05-27 17:30:00          90       0  25.500000  46.500000  25.754000   \n",
              "2016-05-27 17:40:00         270      10  25.500000  46.596667  25.628571   \n",
              "2016-05-27 17:50:00         420      10  25.500000  46.990000  25.414000   \n",
              "2016-05-27 18:00:00         430      10  25.500000  46.600000  25.264286   \n",
              "\n",
              "                          RH_2         T3       RH_3    T4       RH_4  ...  \\\n",
              "date                                                                   ...   \n",
              "2016-05-27 17:20:00  42.025714  27.200000  41.163333  24.7  45.590000  ...   \n",
              "2016-05-27 17:30:00  42.080000  27.133333  41.223333  24.7  45.590000  ...   \n",
              "2016-05-27 17:40:00  42.768571  27.050000  41.690000  24.7  45.730000  ...   \n",
              "2016-05-27 17:50:00  43.036000  26.890000  41.290000  24.7  45.790000  ...   \n",
              "2016-05-27 18:00:00  42.971429  26.823333  41.156667  24.7  45.963333  ...   \n",
              "\n",
              "                       T9     RH_9      T_out  Press_mm_hg     RH_out  \\\n",
              "date                                                                    \n",
              "2016-05-27 17:20:00  23.2  46.7900  22.733333        755.2  55.666667   \n",
              "2016-05-27 17:30:00  23.2  46.7900  22.600000        755.2  56.000000   \n",
              "2016-05-27 17:40:00  23.2  46.7900  22.466667        755.2  56.333333   \n",
              "2016-05-27 17:50:00  23.2  46.8175  22.333333        755.2  56.666667   \n",
              "2016-05-27 18:00:00  23.2  46.8450  22.200000        755.2  57.000000   \n",
              "\n",
              "                     Windspeed  Visibility  Tdewpoint        rv1        rv2  \n",
              "date                                                                         \n",
              "2016-05-27 17:20:00   3.333333   23.666667  13.333333  43.096812  43.096812  \n",
              "2016-05-27 17:30:00   3.500000   24.500000  13.300000  49.282940  49.282940  \n",
              "2016-05-27 17:40:00   3.666667   25.333333  13.266667  29.199117  29.199117  \n",
              "2016-05-27 17:50:00   3.833333   26.166667  13.233333   6.322784   6.322784  \n",
              "2016-05-27 18:00:00   4.000000   27.000000  13.200000  34.118851  34.118851  \n",
              "\n",
              "[5 rows x 28 columns]"
            ]
          },
          "metadata": {
            "tags": []
          },
          "execution_count": 8
        }
      ]
    },
    {
      "cell_type": "markdown",
      "metadata": {
        "id": "Wu4e0qKwZ1-A"
      },
      "source": [
        "Let's imagine we want to predict just 24 hours into the future, we don't need 3 months of data for that, so let's save some training time and only select the last months data."
      ]
    },
    {
      "cell_type": "code",
      "metadata": {
        "id": "vv33kiI4Z1-B",
        "outputId": "8f2413f9-90f5-4233-a10f-b6eaec3ecbaf"
      },
      "source": [
        "df.loc['2016-05-01':]"
      ],
      "execution_count": null,
      "outputs": [
        {
          "output_type": "execute_result",
          "data": {
            "text/html": [
              "<div>\n",
              "<style scoped>\n",
              "    .dataframe tbody tr th:only-of-type {\n",
              "        vertical-align: middle;\n",
              "    }\n",
              "\n",
              "    .dataframe tbody tr th {\n",
              "        vertical-align: top;\n",
              "    }\n",
              "\n",
              "    .dataframe thead th {\n",
              "        text-align: right;\n",
              "    }\n",
              "</style>\n",
              "<table border=\"1\" class=\"dataframe\">\n",
              "  <thead>\n",
              "    <tr style=\"text-align: right;\">\n",
              "      <th></th>\n",
              "      <th>Appliances</th>\n",
              "      <th>lights</th>\n",
              "      <th>T1</th>\n",
              "      <th>RH_1</th>\n",
              "      <th>T2</th>\n",
              "      <th>RH_2</th>\n",
              "      <th>T3</th>\n",
              "      <th>RH_3</th>\n",
              "      <th>T4</th>\n",
              "      <th>RH_4</th>\n",
              "      <th>...</th>\n",
              "      <th>T9</th>\n",
              "      <th>RH_9</th>\n",
              "      <th>T_out</th>\n",
              "      <th>Press_mm_hg</th>\n",
              "      <th>RH_out</th>\n",
              "      <th>Windspeed</th>\n",
              "      <th>Visibility</th>\n",
              "      <th>Tdewpoint</th>\n",
              "      <th>rv1</th>\n",
              "      <th>rv2</th>\n",
              "    </tr>\n",
              "    <tr>\n",
              "      <th>date</th>\n",
              "      <th></th>\n",
              "      <th></th>\n",
              "      <th></th>\n",
              "      <th></th>\n",
              "      <th></th>\n",
              "      <th></th>\n",
              "      <th></th>\n",
              "      <th></th>\n",
              "      <th></th>\n",
              "      <th></th>\n",
              "      <th></th>\n",
              "      <th></th>\n",
              "      <th></th>\n",
              "      <th></th>\n",
              "      <th></th>\n",
              "      <th></th>\n",
              "      <th></th>\n",
              "      <th></th>\n",
              "      <th></th>\n",
              "      <th></th>\n",
              "      <th></th>\n",
              "    </tr>\n",
              "  </thead>\n",
              "  <tbody>\n",
              "    <tr>\n",
              "      <th>2016-05-01 00:00:00</th>\n",
              "      <td>50</td>\n",
              "      <td>0</td>\n",
              "      <td>21.200000</td>\n",
              "      <td>38.200000</td>\n",
              "      <td>18.390000</td>\n",
              "      <td>41.400000</td>\n",
              "      <td>23.200000</td>\n",
              "      <td>36.400000</td>\n",
              "      <td>19.73</td>\n",
              "      <td>37.730000</td>\n",
              "      <td>...</td>\n",
              "      <td>19.166667</td>\n",
              "      <td>38.200000</td>\n",
              "      <td>4.300000</td>\n",
              "      <td>763.700000</td>\n",
              "      <td>86.000000</td>\n",
              "      <td>2.000000</td>\n",
              "      <td>40.000000</td>\n",
              "      <td>2.200000</td>\n",
              "      <td>15.310003</td>\n",
              "      <td>15.310003</td>\n",
              "    </tr>\n",
              "    <tr>\n",
              "      <th>2016-05-01 00:10:00</th>\n",
              "      <td>60</td>\n",
              "      <td>0</td>\n",
              "      <td>21.150000</td>\n",
              "      <td>38.172500</td>\n",
              "      <td>18.390000</td>\n",
              "      <td>41.500000</td>\n",
              "      <td>23.133333</td>\n",
              "      <td>36.466667</td>\n",
              "      <td>19.70</td>\n",
              "      <td>37.663333</td>\n",
              "      <td>...</td>\n",
              "      <td>19.133333</td>\n",
              "      <td>38.290000</td>\n",
              "      <td>4.283333</td>\n",
              "      <td>763.716667</td>\n",
              "      <td>86.333333</td>\n",
              "      <td>2.166667</td>\n",
              "      <td>38.166667</td>\n",
              "      <td>2.216667</td>\n",
              "      <td>11.240067</td>\n",
              "      <td>11.240067</td>\n",
              "    </tr>\n",
              "    <tr>\n",
              "      <th>2016-05-01 00:20:00</th>\n",
              "      <td>50</td>\n",
              "      <td>0</td>\n",
              "      <td>21.133333</td>\n",
              "      <td>38.090000</td>\n",
              "      <td>18.323333</td>\n",
              "      <td>41.500000</td>\n",
              "      <td>23.200000</td>\n",
              "      <td>36.500000</td>\n",
              "      <td>19.70</td>\n",
              "      <td>37.590000</td>\n",
              "      <td>...</td>\n",
              "      <td>19.133333</td>\n",
              "      <td>38.363333</td>\n",
              "      <td>4.266667</td>\n",
              "      <td>763.733333</td>\n",
              "      <td>86.666667</td>\n",
              "      <td>2.333333</td>\n",
              "      <td>36.333333</td>\n",
              "      <td>2.233333</td>\n",
              "      <td>21.808814</td>\n",
              "      <td>21.808814</td>\n",
              "    </tr>\n",
              "    <tr>\n",
              "      <th>2016-05-01 00:30:00</th>\n",
              "      <td>50</td>\n",
              "      <td>0</td>\n",
              "      <td>21.100000</td>\n",
              "      <td>38.090000</td>\n",
              "      <td>18.290000</td>\n",
              "      <td>41.500000</td>\n",
              "      <td>23.200000</td>\n",
              "      <td>36.500000</td>\n",
              "      <td>19.70</td>\n",
              "      <td>37.500000</td>\n",
              "      <td>...</td>\n",
              "      <td>19.166667</td>\n",
              "      <td>38.500000</td>\n",
              "      <td>4.250000</td>\n",
              "      <td>763.750000</td>\n",
              "      <td>87.000000</td>\n",
              "      <td>2.500000</td>\n",
              "      <td>34.500000</td>\n",
              "      <td>2.250000</td>\n",
              "      <td>47.000534</td>\n",
              "      <td>47.000534</td>\n",
              "    </tr>\n",
              "    <tr>\n",
              "      <th>2016-05-01 00:40:00</th>\n",
              "      <td>60</td>\n",
              "      <td>0</td>\n",
              "      <td>21.100000</td>\n",
              "      <td>38.030000</td>\n",
              "      <td>18.290000</td>\n",
              "      <td>41.560000</td>\n",
              "      <td>23.200000</td>\n",
              "      <td>36.500000</td>\n",
              "      <td>19.70</td>\n",
              "      <td>37.500000</td>\n",
              "      <td>...</td>\n",
              "      <td>19.166667</td>\n",
              "      <td>38.633333</td>\n",
              "      <td>4.233333</td>\n",
              "      <td>763.766667</td>\n",
              "      <td>87.333333</td>\n",
              "      <td>2.666667</td>\n",
              "      <td>32.666667</td>\n",
              "      <td>2.266667</td>\n",
              "      <td>8.059441</td>\n",
              "      <td>8.059441</td>\n",
              "    </tr>\n",
              "    <tr>\n",
              "      <th>...</th>\n",
              "      <td>...</td>\n",
              "      <td>...</td>\n",
              "      <td>...</td>\n",
              "      <td>...</td>\n",
              "      <td>...</td>\n",
              "      <td>...</td>\n",
              "      <td>...</td>\n",
              "      <td>...</td>\n",
              "      <td>...</td>\n",
              "      <td>...</td>\n",
              "      <td>...</td>\n",
              "      <td>...</td>\n",
              "      <td>...</td>\n",
              "      <td>...</td>\n",
              "      <td>...</td>\n",
              "      <td>...</td>\n",
              "      <td>...</td>\n",
              "      <td>...</td>\n",
              "      <td>...</td>\n",
              "      <td>...</td>\n",
              "      <td>...</td>\n",
              "    </tr>\n",
              "    <tr>\n",
              "      <th>2016-05-27 17:20:00</th>\n",
              "      <td>100</td>\n",
              "      <td>0</td>\n",
              "      <td>25.566667</td>\n",
              "      <td>46.560000</td>\n",
              "      <td>25.890000</td>\n",
              "      <td>42.025714</td>\n",
              "      <td>27.200000</td>\n",
              "      <td>41.163333</td>\n",
              "      <td>24.70</td>\n",
              "      <td>45.590000</td>\n",
              "      <td>...</td>\n",
              "      <td>23.200000</td>\n",
              "      <td>46.790000</td>\n",
              "      <td>22.733333</td>\n",
              "      <td>755.200000</td>\n",
              "      <td>55.666667</td>\n",
              "      <td>3.333333</td>\n",
              "      <td>23.666667</td>\n",
              "      <td>13.333333</td>\n",
              "      <td>43.096812</td>\n",
              "      <td>43.096812</td>\n",
              "    </tr>\n",
              "    <tr>\n",
              "      <th>2016-05-27 17:30:00</th>\n",
              "      <td>90</td>\n",
              "      <td>0</td>\n",
              "      <td>25.500000</td>\n",
              "      <td>46.500000</td>\n",
              "      <td>25.754000</td>\n",
              "      <td>42.080000</td>\n",
              "      <td>27.133333</td>\n",
              "      <td>41.223333</td>\n",
              "      <td>24.70</td>\n",
              "      <td>45.590000</td>\n",
              "      <td>...</td>\n",
              "      <td>23.200000</td>\n",
              "      <td>46.790000</td>\n",
              "      <td>22.600000</td>\n",
              "      <td>755.200000</td>\n",
              "      <td>56.000000</td>\n",
              "      <td>3.500000</td>\n",
              "      <td>24.500000</td>\n",
              "      <td>13.300000</td>\n",
              "      <td>49.282940</td>\n",
              "      <td>49.282940</td>\n",
              "    </tr>\n",
              "    <tr>\n",
              "      <th>2016-05-27 17:40:00</th>\n",
              "      <td>270</td>\n",
              "      <td>10</td>\n",
              "      <td>25.500000</td>\n",
              "      <td>46.596667</td>\n",
              "      <td>25.628571</td>\n",
              "      <td>42.768571</td>\n",
              "      <td>27.050000</td>\n",
              "      <td>41.690000</td>\n",
              "      <td>24.70</td>\n",
              "      <td>45.730000</td>\n",
              "      <td>...</td>\n",
              "      <td>23.200000</td>\n",
              "      <td>46.790000</td>\n",
              "      <td>22.466667</td>\n",
              "      <td>755.200000</td>\n",
              "      <td>56.333333</td>\n",
              "      <td>3.666667</td>\n",
              "      <td>25.333333</td>\n",
              "      <td>13.266667</td>\n",
              "      <td>29.199117</td>\n",
              "      <td>29.199117</td>\n",
              "    </tr>\n",
              "    <tr>\n",
              "      <th>2016-05-27 17:50:00</th>\n",
              "      <td>420</td>\n",
              "      <td>10</td>\n",
              "      <td>25.500000</td>\n",
              "      <td>46.990000</td>\n",
              "      <td>25.414000</td>\n",
              "      <td>43.036000</td>\n",
              "      <td>26.890000</td>\n",
              "      <td>41.290000</td>\n",
              "      <td>24.70</td>\n",
              "      <td>45.790000</td>\n",
              "      <td>...</td>\n",
              "      <td>23.200000</td>\n",
              "      <td>46.817500</td>\n",
              "      <td>22.333333</td>\n",
              "      <td>755.200000</td>\n",
              "      <td>56.666667</td>\n",
              "      <td>3.833333</td>\n",
              "      <td>26.166667</td>\n",
              "      <td>13.233333</td>\n",
              "      <td>6.322784</td>\n",
              "      <td>6.322784</td>\n",
              "    </tr>\n",
              "    <tr>\n",
              "      <th>2016-05-27 18:00:00</th>\n",
              "      <td>430</td>\n",
              "      <td>10</td>\n",
              "      <td>25.500000</td>\n",
              "      <td>46.600000</td>\n",
              "      <td>25.264286</td>\n",
              "      <td>42.971429</td>\n",
              "      <td>26.823333</td>\n",
              "      <td>41.156667</td>\n",
              "      <td>24.70</td>\n",
              "      <td>45.963333</td>\n",
              "      <td>...</td>\n",
              "      <td>23.200000</td>\n",
              "      <td>46.845000</td>\n",
              "      <td>22.200000</td>\n",
              "      <td>755.200000</td>\n",
              "      <td>57.000000</td>\n",
              "      <td>4.000000</td>\n",
              "      <td>27.000000</td>\n",
              "      <td>13.200000</td>\n",
              "      <td>34.118851</td>\n",
              "      <td>34.118851</td>\n",
              "    </tr>\n",
              "  </tbody>\n",
              "</table>\n",
              "<p>3853 rows × 28 columns</p>\n",
              "</div>"
            ],
            "text/plain": [
              "                     Appliances  lights         T1       RH_1         T2  \\\n",
              "date                                                                       \n",
              "2016-05-01 00:00:00          50       0  21.200000  38.200000  18.390000   \n",
              "2016-05-01 00:10:00          60       0  21.150000  38.172500  18.390000   \n",
              "2016-05-01 00:20:00          50       0  21.133333  38.090000  18.323333   \n",
              "2016-05-01 00:30:00          50       0  21.100000  38.090000  18.290000   \n",
              "2016-05-01 00:40:00          60       0  21.100000  38.030000  18.290000   \n",
              "...                         ...     ...        ...        ...        ...   \n",
              "2016-05-27 17:20:00         100       0  25.566667  46.560000  25.890000   \n",
              "2016-05-27 17:30:00          90       0  25.500000  46.500000  25.754000   \n",
              "2016-05-27 17:40:00         270      10  25.500000  46.596667  25.628571   \n",
              "2016-05-27 17:50:00         420      10  25.500000  46.990000  25.414000   \n",
              "2016-05-27 18:00:00         430      10  25.500000  46.600000  25.264286   \n",
              "\n",
              "                          RH_2         T3       RH_3     T4       RH_4  ...  \\\n",
              "date                                                                    ...   \n",
              "2016-05-01 00:00:00  41.400000  23.200000  36.400000  19.73  37.730000  ...   \n",
              "2016-05-01 00:10:00  41.500000  23.133333  36.466667  19.70  37.663333  ...   \n",
              "2016-05-01 00:20:00  41.500000  23.200000  36.500000  19.70  37.590000  ...   \n",
              "2016-05-01 00:30:00  41.500000  23.200000  36.500000  19.70  37.500000  ...   \n",
              "2016-05-01 00:40:00  41.560000  23.200000  36.500000  19.70  37.500000  ...   \n",
              "...                        ...        ...        ...    ...        ...  ...   \n",
              "2016-05-27 17:20:00  42.025714  27.200000  41.163333  24.70  45.590000  ...   \n",
              "2016-05-27 17:30:00  42.080000  27.133333  41.223333  24.70  45.590000  ...   \n",
              "2016-05-27 17:40:00  42.768571  27.050000  41.690000  24.70  45.730000  ...   \n",
              "2016-05-27 17:50:00  43.036000  26.890000  41.290000  24.70  45.790000  ...   \n",
              "2016-05-27 18:00:00  42.971429  26.823333  41.156667  24.70  45.963333  ...   \n",
              "\n",
              "                            T9       RH_9      T_out  Press_mm_hg     RH_out  \\\n",
              "date                                                                           \n",
              "2016-05-01 00:00:00  19.166667  38.200000   4.300000   763.700000  86.000000   \n",
              "2016-05-01 00:10:00  19.133333  38.290000   4.283333   763.716667  86.333333   \n",
              "2016-05-01 00:20:00  19.133333  38.363333   4.266667   763.733333  86.666667   \n",
              "2016-05-01 00:30:00  19.166667  38.500000   4.250000   763.750000  87.000000   \n",
              "2016-05-01 00:40:00  19.166667  38.633333   4.233333   763.766667  87.333333   \n",
              "...                        ...        ...        ...          ...        ...   \n",
              "2016-05-27 17:20:00  23.200000  46.790000  22.733333   755.200000  55.666667   \n",
              "2016-05-27 17:30:00  23.200000  46.790000  22.600000   755.200000  56.000000   \n",
              "2016-05-27 17:40:00  23.200000  46.790000  22.466667   755.200000  56.333333   \n",
              "2016-05-27 17:50:00  23.200000  46.817500  22.333333   755.200000  56.666667   \n",
              "2016-05-27 18:00:00  23.200000  46.845000  22.200000   755.200000  57.000000   \n",
              "\n",
              "                     Windspeed  Visibility  Tdewpoint        rv1        rv2  \n",
              "date                                                                         \n",
              "2016-05-01 00:00:00   2.000000   40.000000   2.200000  15.310003  15.310003  \n",
              "2016-05-01 00:10:00   2.166667   38.166667   2.216667  11.240067  11.240067  \n",
              "2016-05-01 00:20:00   2.333333   36.333333   2.233333  21.808814  21.808814  \n",
              "2016-05-01 00:30:00   2.500000   34.500000   2.250000  47.000534  47.000534  \n",
              "2016-05-01 00:40:00   2.666667   32.666667   2.266667   8.059441   8.059441  \n",
              "...                        ...         ...        ...        ...        ...  \n",
              "2016-05-27 17:20:00   3.333333   23.666667  13.333333  43.096812  43.096812  \n",
              "2016-05-27 17:30:00   3.500000   24.500000  13.300000  49.282940  49.282940  \n",
              "2016-05-27 17:40:00   3.666667   25.333333  13.266667  29.199117  29.199117  \n",
              "2016-05-27 17:50:00   3.833333   26.166667  13.233333   6.322784   6.322784  \n",
              "2016-05-27 18:00:00   4.000000   27.000000  13.200000  34.118851  34.118851  \n",
              "\n",
              "[3853 rows x 28 columns]"
            ]
          },
          "metadata": {
            "tags": []
          },
          "execution_count": 9
        }
      ]
    },
    {
      "cell_type": "code",
      "metadata": {
        "id": "ewFiPphvZ1-B"
      },
      "source": [
        "df = df.loc['2016-05-01':]"
      ],
      "execution_count": null,
      "outputs": []
    },
    {
      "cell_type": "markdown",
      "metadata": {
        "id": "xEerb2AqZ1-B"
      },
      "source": [
        "Let's also round off the data, to one decimal point precision, otherwise this may cause issues with our network (we will also normalize the data anyways, so this level of precision isn't useful to us)"
      ]
    },
    {
      "cell_type": "code",
      "metadata": {
        "id": "5d9V3RWfZ1-B"
      },
      "source": [
        "df = df.round(2)"
      ],
      "execution_count": null,
      "outputs": []
    },
    {
      "cell_type": "code",
      "metadata": {
        "id": "5aJ4BW7RZ1-B",
        "outputId": "9387beef-d90f-43f1-aefc-26903588985c"
      },
      "source": [
        "len(df)"
      ],
      "execution_count": null,
      "outputs": [
        {
          "output_type": "execute_result",
          "data": {
            "text/plain": [
              "3853"
            ]
          },
          "metadata": {
            "tags": []
          },
          "execution_count": 12
        }
      ]
    },
    {
      "cell_type": "code",
      "metadata": {
        "id": "ODHXLEc2Z1-C",
        "outputId": "02bd4ed8-a5bc-4a4b-cfb6-58f293bdb2a5"
      },
      "source": [
        "# How many rows per day? We know its every 10 min\n",
        "24*60/10"
      ],
      "execution_count": null,
      "outputs": [
        {
          "output_type": "execute_result",
          "data": {
            "text/plain": [
              "144.0"
            ]
          },
          "metadata": {
            "tags": []
          },
          "execution_count": 13
        }
      ]
    },
    {
      "cell_type": "code",
      "metadata": {
        "id": "wyCjpziiZ1-C"
      },
      "source": [
        "test_days = 2"
      ],
      "execution_count": null,
      "outputs": []
    },
    {
      "cell_type": "code",
      "metadata": {
        "id": "ceadS3Q9Z1-C"
      },
      "source": [
        "test_ind = test_days*144"
      ],
      "execution_count": null,
      "outputs": []
    },
    {
      "cell_type": "code",
      "metadata": {
        "id": "iHPwbAXfZ1-C",
        "outputId": "97397812-e7ff-4a54-a412-5f3d9b084a0a"
      },
      "source": [
        "test_ind"
      ],
      "execution_count": null,
      "outputs": [
        {
          "output_type": "execute_result",
          "data": {
            "text/plain": [
              "288"
            ]
          },
          "metadata": {
            "tags": []
          },
          "execution_count": 16
        }
      ]
    },
    {
      "cell_type": "code",
      "metadata": {
        "id": "YpQ2sRFvZ1-C"
      },
      "source": [
        "# Notice the minus sign in our indexing\n",
        "\n",
        "train = df.iloc[:-test_ind]\n",
        "test = df.iloc[-test_ind:]"
      ],
      "execution_count": null,
      "outputs": []
    },
    {
      "cell_type": "code",
      "metadata": {
        "id": "8-TJ8rnFZ1-C",
        "outputId": "5651984d-b3ea-4de1-bcf6-ea73f8045dee"
      },
      "source": [
        "train"
      ],
      "execution_count": null,
      "outputs": [
        {
          "output_type": "execute_result",
          "data": {
            "text/html": [
              "<div>\n",
              "<style scoped>\n",
              "    .dataframe tbody tr th:only-of-type {\n",
              "        vertical-align: middle;\n",
              "    }\n",
              "\n",
              "    .dataframe tbody tr th {\n",
              "        vertical-align: top;\n",
              "    }\n",
              "\n",
              "    .dataframe thead th {\n",
              "        text-align: right;\n",
              "    }\n",
              "</style>\n",
              "<table border=\"1\" class=\"dataframe\">\n",
              "  <thead>\n",
              "    <tr style=\"text-align: right;\">\n",
              "      <th></th>\n",
              "      <th>Appliances</th>\n",
              "      <th>lights</th>\n",
              "      <th>T1</th>\n",
              "      <th>RH_1</th>\n",
              "      <th>T2</th>\n",
              "      <th>RH_2</th>\n",
              "      <th>T3</th>\n",
              "      <th>RH_3</th>\n",
              "      <th>T4</th>\n",
              "      <th>RH_4</th>\n",
              "      <th>...</th>\n",
              "      <th>T9</th>\n",
              "      <th>RH_9</th>\n",
              "      <th>T_out</th>\n",
              "      <th>Press_mm_hg</th>\n",
              "      <th>RH_out</th>\n",
              "      <th>Windspeed</th>\n",
              "      <th>Visibility</th>\n",
              "      <th>Tdewpoint</th>\n",
              "      <th>rv1</th>\n",
              "      <th>rv2</th>\n",
              "    </tr>\n",
              "    <tr>\n",
              "      <th>date</th>\n",
              "      <th></th>\n",
              "      <th></th>\n",
              "      <th></th>\n",
              "      <th></th>\n",
              "      <th></th>\n",
              "      <th></th>\n",
              "      <th></th>\n",
              "      <th></th>\n",
              "      <th></th>\n",
              "      <th></th>\n",
              "      <th></th>\n",
              "      <th></th>\n",
              "      <th></th>\n",
              "      <th></th>\n",
              "      <th></th>\n",
              "      <th></th>\n",
              "      <th></th>\n",
              "      <th></th>\n",
              "      <th></th>\n",
              "      <th></th>\n",
              "      <th></th>\n",
              "    </tr>\n",
              "  </thead>\n",
              "  <tbody>\n",
              "    <tr>\n",
              "      <th>2016-05-01 00:00:00</th>\n",
              "      <td>50</td>\n",
              "      <td>0</td>\n",
              "      <td>21.20</td>\n",
              "      <td>38.20</td>\n",
              "      <td>18.39</td>\n",
              "      <td>41.40</td>\n",
              "      <td>23.20</td>\n",
              "      <td>36.40</td>\n",
              "      <td>19.73</td>\n",
              "      <td>37.73</td>\n",
              "      <td>...</td>\n",
              "      <td>19.17</td>\n",
              "      <td>38.20</td>\n",
              "      <td>4.30</td>\n",
              "      <td>763.70</td>\n",
              "      <td>86.00</td>\n",
              "      <td>2.00</td>\n",
              "      <td>40.00</td>\n",
              "      <td>2.20</td>\n",
              "      <td>15.31</td>\n",
              "      <td>15.31</td>\n",
              "    </tr>\n",
              "    <tr>\n",
              "      <th>2016-05-01 00:10:00</th>\n",
              "      <td>60</td>\n",
              "      <td>0</td>\n",
              "      <td>21.15</td>\n",
              "      <td>38.17</td>\n",
              "      <td>18.39</td>\n",
              "      <td>41.50</td>\n",
              "      <td>23.13</td>\n",
              "      <td>36.47</td>\n",
              "      <td>19.70</td>\n",
              "      <td>37.66</td>\n",
              "      <td>...</td>\n",
              "      <td>19.13</td>\n",
              "      <td>38.29</td>\n",
              "      <td>4.28</td>\n",
              "      <td>763.72</td>\n",
              "      <td>86.33</td>\n",
              "      <td>2.17</td>\n",
              "      <td>38.17</td>\n",
              "      <td>2.22</td>\n",
              "      <td>11.24</td>\n",
              "      <td>11.24</td>\n",
              "    </tr>\n",
              "    <tr>\n",
              "      <th>2016-05-01 00:20:00</th>\n",
              "      <td>50</td>\n",
              "      <td>0</td>\n",
              "      <td>21.13</td>\n",
              "      <td>38.09</td>\n",
              "      <td>18.32</td>\n",
              "      <td>41.50</td>\n",
              "      <td>23.20</td>\n",
              "      <td>36.50</td>\n",
              "      <td>19.70</td>\n",
              "      <td>37.59</td>\n",
              "      <td>...</td>\n",
              "      <td>19.13</td>\n",
              "      <td>38.36</td>\n",
              "      <td>4.27</td>\n",
              "      <td>763.73</td>\n",
              "      <td>86.67</td>\n",
              "      <td>2.33</td>\n",
              "      <td>36.33</td>\n",
              "      <td>2.23</td>\n",
              "      <td>21.81</td>\n",
              "      <td>21.81</td>\n",
              "    </tr>\n",
              "    <tr>\n",
              "      <th>2016-05-01 00:30:00</th>\n",
              "      <td>50</td>\n",
              "      <td>0</td>\n",
              "      <td>21.10</td>\n",
              "      <td>38.09</td>\n",
              "      <td>18.29</td>\n",
              "      <td>41.50</td>\n",
              "      <td>23.20</td>\n",
              "      <td>36.50</td>\n",
              "      <td>19.70</td>\n",
              "      <td>37.50</td>\n",
              "      <td>...</td>\n",
              "      <td>19.17</td>\n",
              "      <td>38.50</td>\n",
              "      <td>4.25</td>\n",
              "      <td>763.75</td>\n",
              "      <td>87.00</td>\n",
              "      <td>2.50</td>\n",
              "      <td>34.50</td>\n",
              "      <td>2.25</td>\n",
              "      <td>47.00</td>\n",
              "      <td>47.00</td>\n",
              "    </tr>\n",
              "    <tr>\n",
              "      <th>2016-05-01 00:40:00</th>\n",
              "      <td>60</td>\n",
              "      <td>0</td>\n",
              "      <td>21.10</td>\n",
              "      <td>38.03</td>\n",
              "      <td>18.29</td>\n",
              "      <td>41.56</td>\n",
              "      <td>23.20</td>\n",
              "      <td>36.50</td>\n",
              "      <td>19.70</td>\n",
              "      <td>37.50</td>\n",
              "      <td>...</td>\n",
              "      <td>19.17</td>\n",
              "      <td>38.63</td>\n",
              "      <td>4.23</td>\n",
              "      <td>763.77</td>\n",
              "      <td>87.33</td>\n",
              "      <td>2.67</td>\n",
              "      <td>32.67</td>\n",
              "      <td>2.27</td>\n",
              "      <td>8.06</td>\n",
              "      <td>8.06</td>\n",
              "    </tr>\n",
              "    <tr>\n",
              "      <th>...</th>\n",
              "      <td>...</td>\n",
              "      <td>...</td>\n",
              "      <td>...</td>\n",
              "      <td>...</td>\n",
              "      <td>...</td>\n",
              "      <td>...</td>\n",
              "      <td>...</td>\n",
              "      <td>...</td>\n",
              "      <td>...</td>\n",
              "      <td>...</td>\n",
              "      <td>...</td>\n",
              "      <td>...</td>\n",
              "      <td>...</td>\n",
              "      <td>...</td>\n",
              "      <td>...</td>\n",
              "      <td>...</td>\n",
              "      <td>...</td>\n",
              "      <td>...</td>\n",
              "      <td>...</td>\n",
              "      <td>...</td>\n",
              "      <td>...</td>\n",
              "    </tr>\n",
              "    <tr>\n",
              "      <th>2016-05-25 17:20:00</th>\n",
              "      <td>120</td>\n",
              "      <td>0</td>\n",
              "      <td>24.50</td>\n",
              "      <td>37.22</td>\n",
              "      <td>24.13</td>\n",
              "      <td>34.30</td>\n",
              "      <td>25.20</td>\n",
              "      <td>37.64</td>\n",
              "      <td>24.36</td>\n",
              "      <td>38.29</td>\n",
              "      <td>...</td>\n",
              "      <td>21.89</td>\n",
              "      <td>37.03</td>\n",
              "      <td>16.17</td>\n",
              "      <td>756.17</td>\n",
              "      <td>52.67</td>\n",
              "      <td>1.33</td>\n",
              "      <td>31.33</td>\n",
              "      <td>6.43</td>\n",
              "      <td>33.46</td>\n",
              "      <td>33.46</td>\n",
              "    </tr>\n",
              "    <tr>\n",
              "      <th>2016-05-25 17:30:00</th>\n",
              "      <td>190</td>\n",
              "      <td>0</td>\n",
              "      <td>24.50</td>\n",
              "      <td>37.16</td>\n",
              "      <td>24.10</td>\n",
              "      <td>34.30</td>\n",
              "      <td>25.20</td>\n",
              "      <td>37.55</td>\n",
              "      <td>24.29</td>\n",
              "      <td>38.16</td>\n",
              "      <td>...</td>\n",
              "      <td>21.89</td>\n",
              "      <td>37.20</td>\n",
              "      <td>16.25</td>\n",
              "      <td>756.15</td>\n",
              "      <td>53.50</td>\n",
              "      <td>1.50</td>\n",
              "      <td>33.50</td>\n",
              "      <td>6.75</td>\n",
              "      <td>0.43</td>\n",
              "      <td>0.43</td>\n",
              "    </tr>\n",
              "    <tr>\n",
              "      <th>2016-05-25 17:40:00</th>\n",
              "      <td>160</td>\n",
              "      <td>0</td>\n",
              "      <td>24.50</td>\n",
              "      <td>37.43</td>\n",
              "      <td>24.10</td>\n",
              "      <td>34.43</td>\n",
              "      <td>25.14</td>\n",
              "      <td>37.28</td>\n",
              "      <td>24.29</td>\n",
              "      <td>38.00</td>\n",
              "      <td>...</td>\n",
              "      <td>21.89</td>\n",
              "      <td>37.33</td>\n",
              "      <td>16.33</td>\n",
              "      <td>756.13</td>\n",
              "      <td>54.33</td>\n",
              "      <td>1.67</td>\n",
              "      <td>35.67</td>\n",
              "      <td>7.07</td>\n",
              "      <td>16.67</td>\n",
              "      <td>16.67</td>\n",
              "    </tr>\n",
              "    <tr>\n",
              "      <th>2016-05-25 17:50:00</th>\n",
              "      <td>90</td>\n",
              "      <td>0</td>\n",
              "      <td>24.50</td>\n",
              "      <td>37.63</td>\n",
              "      <td>24.03</td>\n",
              "      <td>34.43</td>\n",
              "      <td>25.10</td>\n",
              "      <td>36.99</td>\n",
              "      <td>24.29</td>\n",
              "      <td>37.93</td>\n",
              "      <td>...</td>\n",
              "      <td>22.00</td>\n",
              "      <td>37.36</td>\n",
              "      <td>16.42</td>\n",
              "      <td>756.12</td>\n",
              "      <td>55.17</td>\n",
              "      <td>1.83</td>\n",
              "      <td>37.83</td>\n",
              "      <td>7.38</td>\n",
              "      <td>39.36</td>\n",
              "      <td>39.36</td>\n",
              "    </tr>\n",
              "    <tr>\n",
              "      <th>2016-05-25 18:00:00</th>\n",
              "      <td>100</td>\n",
              "      <td>0</td>\n",
              "      <td>24.50</td>\n",
              "      <td>38.00</td>\n",
              "      <td>24.00</td>\n",
              "      <td>34.40</td>\n",
              "      <td>25.10</td>\n",
              "      <td>36.73</td>\n",
              "      <td>24.29</td>\n",
              "      <td>37.86</td>\n",
              "      <td>...</td>\n",
              "      <td>22.00</td>\n",
              "      <td>37.36</td>\n",
              "      <td>16.50</td>\n",
              "      <td>756.10</td>\n",
              "      <td>56.00</td>\n",
              "      <td>2.00</td>\n",
              "      <td>40.00</td>\n",
              "      <td>7.70</td>\n",
              "      <td>38.63</td>\n",
              "      <td>38.63</td>\n",
              "    </tr>\n",
              "  </tbody>\n",
              "</table>\n",
              "<p>3565 rows × 28 columns</p>\n",
              "</div>"
            ],
            "text/plain": [
              "                     Appliances  lights     T1   RH_1     T2   RH_2     T3  \\\n",
              "date                                                                         \n",
              "2016-05-01 00:00:00          50       0  21.20  38.20  18.39  41.40  23.20   \n",
              "2016-05-01 00:10:00          60       0  21.15  38.17  18.39  41.50  23.13   \n",
              "2016-05-01 00:20:00          50       0  21.13  38.09  18.32  41.50  23.20   \n",
              "2016-05-01 00:30:00          50       0  21.10  38.09  18.29  41.50  23.20   \n",
              "2016-05-01 00:40:00          60       0  21.10  38.03  18.29  41.56  23.20   \n",
              "...                         ...     ...    ...    ...    ...    ...    ...   \n",
              "2016-05-25 17:20:00         120       0  24.50  37.22  24.13  34.30  25.20   \n",
              "2016-05-25 17:30:00         190       0  24.50  37.16  24.10  34.30  25.20   \n",
              "2016-05-25 17:40:00         160       0  24.50  37.43  24.10  34.43  25.14   \n",
              "2016-05-25 17:50:00          90       0  24.50  37.63  24.03  34.43  25.10   \n",
              "2016-05-25 18:00:00         100       0  24.50  38.00  24.00  34.40  25.10   \n",
              "\n",
              "                      RH_3     T4   RH_4  ...     T9   RH_9  T_out  \\\n",
              "date                                      ...                        \n",
              "2016-05-01 00:00:00  36.40  19.73  37.73  ...  19.17  38.20   4.30   \n",
              "2016-05-01 00:10:00  36.47  19.70  37.66  ...  19.13  38.29   4.28   \n",
              "2016-05-01 00:20:00  36.50  19.70  37.59  ...  19.13  38.36   4.27   \n",
              "2016-05-01 00:30:00  36.50  19.70  37.50  ...  19.17  38.50   4.25   \n",
              "2016-05-01 00:40:00  36.50  19.70  37.50  ...  19.17  38.63   4.23   \n",
              "...                    ...    ...    ...  ...    ...    ...    ...   \n",
              "2016-05-25 17:20:00  37.64  24.36  38.29  ...  21.89  37.03  16.17   \n",
              "2016-05-25 17:30:00  37.55  24.29  38.16  ...  21.89  37.20  16.25   \n",
              "2016-05-25 17:40:00  37.28  24.29  38.00  ...  21.89  37.33  16.33   \n",
              "2016-05-25 17:50:00  36.99  24.29  37.93  ...  22.00  37.36  16.42   \n",
              "2016-05-25 18:00:00  36.73  24.29  37.86  ...  22.00  37.36  16.50   \n",
              "\n",
              "                     Press_mm_hg  RH_out  Windspeed  Visibility  Tdewpoint  \\\n",
              "date                                                                         \n",
              "2016-05-01 00:00:00       763.70   86.00       2.00       40.00       2.20   \n",
              "2016-05-01 00:10:00       763.72   86.33       2.17       38.17       2.22   \n",
              "2016-05-01 00:20:00       763.73   86.67       2.33       36.33       2.23   \n",
              "2016-05-01 00:30:00       763.75   87.00       2.50       34.50       2.25   \n",
              "2016-05-01 00:40:00       763.77   87.33       2.67       32.67       2.27   \n",
              "...                          ...     ...        ...         ...        ...   \n",
              "2016-05-25 17:20:00       756.17   52.67       1.33       31.33       6.43   \n",
              "2016-05-25 17:30:00       756.15   53.50       1.50       33.50       6.75   \n",
              "2016-05-25 17:40:00       756.13   54.33       1.67       35.67       7.07   \n",
              "2016-05-25 17:50:00       756.12   55.17       1.83       37.83       7.38   \n",
              "2016-05-25 18:00:00       756.10   56.00       2.00       40.00       7.70   \n",
              "\n",
              "                       rv1    rv2  \n",
              "date                               \n",
              "2016-05-01 00:00:00  15.31  15.31  \n",
              "2016-05-01 00:10:00  11.24  11.24  \n",
              "2016-05-01 00:20:00  21.81  21.81  \n",
              "2016-05-01 00:30:00  47.00  47.00  \n",
              "2016-05-01 00:40:00   8.06   8.06  \n",
              "...                    ...    ...  \n",
              "2016-05-25 17:20:00  33.46  33.46  \n",
              "2016-05-25 17:30:00   0.43   0.43  \n",
              "2016-05-25 17:40:00  16.67  16.67  \n",
              "2016-05-25 17:50:00  39.36  39.36  \n",
              "2016-05-25 18:00:00  38.63  38.63  \n",
              "\n",
              "[3565 rows x 28 columns]"
            ]
          },
          "metadata": {
            "tags": []
          },
          "execution_count": 18
        }
      ]
    },
    {
      "cell_type": "code",
      "metadata": {
        "id": "tUkYZ5FqZ1-D",
        "outputId": "27df9d2f-78d0-4c22-ceef-bf61cafe093d"
      },
      "source": [
        "test"
      ],
      "execution_count": null,
      "outputs": [
        {
          "output_type": "execute_result",
          "data": {
            "text/html": [
              "<div>\n",
              "<style scoped>\n",
              "    .dataframe tbody tr th:only-of-type {\n",
              "        vertical-align: middle;\n",
              "    }\n",
              "\n",
              "    .dataframe tbody tr th {\n",
              "        vertical-align: top;\n",
              "    }\n",
              "\n",
              "    .dataframe thead th {\n",
              "        text-align: right;\n",
              "    }\n",
              "</style>\n",
              "<table border=\"1\" class=\"dataframe\">\n",
              "  <thead>\n",
              "    <tr style=\"text-align: right;\">\n",
              "      <th></th>\n",
              "      <th>Appliances</th>\n",
              "      <th>lights</th>\n",
              "      <th>T1</th>\n",
              "      <th>RH_1</th>\n",
              "      <th>T2</th>\n",
              "      <th>RH_2</th>\n",
              "      <th>T3</th>\n",
              "      <th>RH_3</th>\n",
              "      <th>T4</th>\n",
              "      <th>RH_4</th>\n",
              "      <th>...</th>\n",
              "      <th>T9</th>\n",
              "      <th>RH_9</th>\n",
              "      <th>T_out</th>\n",
              "      <th>Press_mm_hg</th>\n",
              "      <th>RH_out</th>\n",
              "      <th>Windspeed</th>\n",
              "      <th>Visibility</th>\n",
              "      <th>Tdewpoint</th>\n",
              "      <th>rv1</th>\n",
              "      <th>rv2</th>\n",
              "    </tr>\n",
              "    <tr>\n",
              "      <th>date</th>\n",
              "      <th></th>\n",
              "      <th></th>\n",
              "      <th></th>\n",
              "      <th></th>\n",
              "      <th></th>\n",
              "      <th></th>\n",
              "      <th></th>\n",
              "      <th></th>\n",
              "      <th></th>\n",
              "      <th></th>\n",
              "      <th></th>\n",
              "      <th></th>\n",
              "      <th></th>\n",
              "      <th></th>\n",
              "      <th></th>\n",
              "      <th></th>\n",
              "      <th></th>\n",
              "      <th></th>\n",
              "      <th></th>\n",
              "      <th></th>\n",
              "      <th></th>\n",
              "    </tr>\n",
              "  </thead>\n",
              "  <tbody>\n",
              "    <tr>\n",
              "      <th>2016-05-25 18:10:00</th>\n",
              "      <td>170</td>\n",
              "      <td>0</td>\n",
              "      <td>24.50</td>\n",
              "      <td>37.86</td>\n",
              "      <td>24.00</td>\n",
              "      <td>34.27</td>\n",
              "      <td>25.00</td>\n",
              "      <td>36.70</td>\n",
              "      <td>24.29</td>\n",
              "      <td>37.79</td>\n",
              "      <td>...</td>\n",
              "      <td>22.00</td>\n",
              "      <td>37.23</td>\n",
              "      <td>16.48</td>\n",
              "      <td>756.1</td>\n",
              "      <td>55.83</td>\n",
              "      <td>2.00</td>\n",
              "      <td>38.17</td>\n",
              "      <td>7.62</td>\n",
              "      <td>38.14</td>\n",
              "      <td>38.14</td>\n",
              "    </tr>\n",
              "    <tr>\n",
              "      <th>2016-05-25 18:20:00</th>\n",
              "      <td>310</td>\n",
              "      <td>0</td>\n",
              "      <td>24.50</td>\n",
              "      <td>37.30</td>\n",
              "      <td>23.86</td>\n",
              "      <td>34.33</td>\n",
              "      <td>24.94</td>\n",
              "      <td>36.67</td>\n",
              "      <td>24.29</td>\n",
              "      <td>37.79</td>\n",
              "      <td>...</td>\n",
              "      <td>22.00</td>\n",
              "      <td>37.36</td>\n",
              "      <td>16.47</td>\n",
              "      <td>756.1</td>\n",
              "      <td>55.67</td>\n",
              "      <td>2.00</td>\n",
              "      <td>36.33</td>\n",
              "      <td>7.53</td>\n",
              "      <td>31.16</td>\n",
              "      <td>31.16</td>\n",
              "    </tr>\n",
              "    <tr>\n",
              "      <th>2016-05-25 18:30:00</th>\n",
              "      <td>120</td>\n",
              "      <td>0</td>\n",
              "      <td>24.50</td>\n",
              "      <td>36.96</td>\n",
              "      <td>23.73</td>\n",
              "      <td>34.33</td>\n",
              "      <td>24.85</td>\n",
              "      <td>36.50</td>\n",
              "      <td>24.29</td>\n",
              "      <td>37.79</td>\n",
              "      <td>...</td>\n",
              "      <td>22.03</td>\n",
              "      <td>37.39</td>\n",
              "      <td>16.45</td>\n",
              "      <td>756.1</td>\n",
              "      <td>55.50</td>\n",
              "      <td>2.00</td>\n",
              "      <td>34.50</td>\n",
              "      <td>7.45</td>\n",
              "      <td>4.40</td>\n",
              "      <td>4.40</td>\n",
              "    </tr>\n",
              "    <tr>\n",
              "      <th>2016-05-25 18:40:00</th>\n",
              "      <td>120</td>\n",
              "      <td>0</td>\n",
              "      <td>24.50</td>\n",
              "      <td>37.00</td>\n",
              "      <td>23.70</td>\n",
              "      <td>34.40</td>\n",
              "      <td>24.84</td>\n",
              "      <td>36.45</td>\n",
              "      <td>24.29</td>\n",
              "      <td>37.90</td>\n",
              "      <td>...</td>\n",
              "      <td>22.10</td>\n",
              "      <td>37.72</td>\n",
              "      <td>16.43</td>\n",
              "      <td>756.1</td>\n",
              "      <td>55.33</td>\n",
              "      <td>2.00</td>\n",
              "      <td>32.67</td>\n",
              "      <td>7.37</td>\n",
              "      <td>27.12</td>\n",
              "      <td>27.12</td>\n",
              "    </tr>\n",
              "    <tr>\n",
              "      <th>2016-05-25 18:50:00</th>\n",
              "      <td>120</td>\n",
              "      <td>0</td>\n",
              "      <td>24.49</td>\n",
              "      <td>37.07</td>\n",
              "      <td>23.68</td>\n",
              "      <td>34.52</td>\n",
              "      <td>24.84</td>\n",
              "      <td>36.49</td>\n",
              "      <td>24.28</td>\n",
              "      <td>37.93</td>\n",
              "      <td>...</td>\n",
              "      <td>22.10</td>\n",
              "      <td>37.81</td>\n",
              "      <td>16.42</td>\n",
              "      <td>756.1</td>\n",
              "      <td>55.17</td>\n",
              "      <td>2.00</td>\n",
              "      <td>30.83</td>\n",
              "      <td>7.28</td>\n",
              "      <td>10.27</td>\n",
              "      <td>10.27</td>\n",
              "    </tr>\n",
              "    <tr>\n",
              "      <th>...</th>\n",
              "      <td>...</td>\n",
              "      <td>...</td>\n",
              "      <td>...</td>\n",
              "      <td>...</td>\n",
              "      <td>...</td>\n",
              "      <td>...</td>\n",
              "      <td>...</td>\n",
              "      <td>...</td>\n",
              "      <td>...</td>\n",
              "      <td>...</td>\n",
              "      <td>...</td>\n",
              "      <td>...</td>\n",
              "      <td>...</td>\n",
              "      <td>...</td>\n",
              "      <td>...</td>\n",
              "      <td>...</td>\n",
              "      <td>...</td>\n",
              "      <td>...</td>\n",
              "      <td>...</td>\n",
              "      <td>...</td>\n",
              "      <td>...</td>\n",
              "    </tr>\n",
              "    <tr>\n",
              "      <th>2016-05-27 17:20:00</th>\n",
              "      <td>100</td>\n",
              "      <td>0</td>\n",
              "      <td>25.57</td>\n",
              "      <td>46.56</td>\n",
              "      <td>25.89</td>\n",
              "      <td>42.03</td>\n",
              "      <td>27.20</td>\n",
              "      <td>41.16</td>\n",
              "      <td>24.70</td>\n",
              "      <td>45.59</td>\n",
              "      <td>...</td>\n",
              "      <td>23.20</td>\n",
              "      <td>46.79</td>\n",
              "      <td>22.73</td>\n",
              "      <td>755.2</td>\n",
              "      <td>55.67</td>\n",
              "      <td>3.33</td>\n",
              "      <td>23.67</td>\n",
              "      <td>13.33</td>\n",
              "      <td>43.10</td>\n",
              "      <td>43.10</td>\n",
              "    </tr>\n",
              "    <tr>\n",
              "      <th>2016-05-27 17:30:00</th>\n",
              "      <td>90</td>\n",
              "      <td>0</td>\n",
              "      <td>25.50</td>\n",
              "      <td>46.50</td>\n",
              "      <td>25.75</td>\n",
              "      <td>42.08</td>\n",
              "      <td>27.13</td>\n",
              "      <td>41.22</td>\n",
              "      <td>24.70</td>\n",
              "      <td>45.59</td>\n",
              "      <td>...</td>\n",
              "      <td>23.20</td>\n",
              "      <td>46.79</td>\n",
              "      <td>22.60</td>\n",
              "      <td>755.2</td>\n",
              "      <td>56.00</td>\n",
              "      <td>3.50</td>\n",
              "      <td>24.50</td>\n",
              "      <td>13.30</td>\n",
              "      <td>49.28</td>\n",
              "      <td>49.28</td>\n",
              "    </tr>\n",
              "    <tr>\n",
              "      <th>2016-05-27 17:40:00</th>\n",
              "      <td>270</td>\n",
              "      <td>10</td>\n",
              "      <td>25.50</td>\n",
              "      <td>46.60</td>\n",
              "      <td>25.63</td>\n",
              "      <td>42.77</td>\n",
              "      <td>27.05</td>\n",
              "      <td>41.69</td>\n",
              "      <td>24.70</td>\n",
              "      <td>45.73</td>\n",
              "      <td>...</td>\n",
              "      <td>23.20</td>\n",
              "      <td>46.79</td>\n",
              "      <td>22.47</td>\n",
              "      <td>755.2</td>\n",
              "      <td>56.33</td>\n",
              "      <td>3.67</td>\n",
              "      <td>25.33</td>\n",
              "      <td>13.27</td>\n",
              "      <td>29.20</td>\n",
              "      <td>29.20</td>\n",
              "    </tr>\n",
              "    <tr>\n",
              "      <th>2016-05-27 17:50:00</th>\n",
              "      <td>420</td>\n",
              "      <td>10</td>\n",
              "      <td>25.50</td>\n",
              "      <td>46.99</td>\n",
              "      <td>25.41</td>\n",
              "      <td>43.04</td>\n",
              "      <td>26.89</td>\n",
              "      <td>41.29</td>\n",
              "      <td>24.70</td>\n",
              "      <td>45.79</td>\n",
              "      <td>...</td>\n",
              "      <td>23.20</td>\n",
              "      <td>46.82</td>\n",
              "      <td>22.33</td>\n",
              "      <td>755.2</td>\n",
              "      <td>56.67</td>\n",
              "      <td>3.83</td>\n",
              "      <td>26.17</td>\n",
              "      <td>13.23</td>\n",
              "      <td>6.32</td>\n",
              "      <td>6.32</td>\n",
              "    </tr>\n",
              "    <tr>\n",
              "      <th>2016-05-27 18:00:00</th>\n",
              "      <td>430</td>\n",
              "      <td>10</td>\n",
              "      <td>25.50</td>\n",
              "      <td>46.60</td>\n",
              "      <td>25.26</td>\n",
              "      <td>42.97</td>\n",
              "      <td>26.82</td>\n",
              "      <td>41.16</td>\n",
              "      <td>24.70</td>\n",
              "      <td>45.96</td>\n",
              "      <td>...</td>\n",
              "      <td>23.20</td>\n",
              "      <td>46.84</td>\n",
              "      <td>22.20</td>\n",
              "      <td>755.2</td>\n",
              "      <td>57.00</td>\n",
              "      <td>4.00</td>\n",
              "      <td>27.00</td>\n",
              "      <td>13.20</td>\n",
              "      <td>34.12</td>\n",
              "      <td>34.12</td>\n",
              "    </tr>\n",
              "  </tbody>\n",
              "</table>\n",
              "<p>288 rows × 28 columns</p>\n",
              "</div>"
            ],
            "text/plain": [
              "                     Appliances  lights     T1   RH_1     T2   RH_2     T3  \\\n",
              "date                                                                         \n",
              "2016-05-25 18:10:00         170       0  24.50  37.86  24.00  34.27  25.00   \n",
              "2016-05-25 18:20:00         310       0  24.50  37.30  23.86  34.33  24.94   \n",
              "2016-05-25 18:30:00         120       0  24.50  36.96  23.73  34.33  24.85   \n",
              "2016-05-25 18:40:00         120       0  24.50  37.00  23.70  34.40  24.84   \n",
              "2016-05-25 18:50:00         120       0  24.49  37.07  23.68  34.52  24.84   \n",
              "...                         ...     ...    ...    ...    ...    ...    ...   \n",
              "2016-05-27 17:20:00         100       0  25.57  46.56  25.89  42.03  27.20   \n",
              "2016-05-27 17:30:00          90       0  25.50  46.50  25.75  42.08  27.13   \n",
              "2016-05-27 17:40:00         270      10  25.50  46.60  25.63  42.77  27.05   \n",
              "2016-05-27 17:50:00         420      10  25.50  46.99  25.41  43.04  26.89   \n",
              "2016-05-27 18:00:00         430      10  25.50  46.60  25.26  42.97  26.82   \n",
              "\n",
              "                      RH_3     T4   RH_4  ...     T9   RH_9  T_out  \\\n",
              "date                                      ...                        \n",
              "2016-05-25 18:10:00  36.70  24.29  37.79  ...  22.00  37.23  16.48   \n",
              "2016-05-25 18:20:00  36.67  24.29  37.79  ...  22.00  37.36  16.47   \n",
              "2016-05-25 18:30:00  36.50  24.29  37.79  ...  22.03  37.39  16.45   \n",
              "2016-05-25 18:40:00  36.45  24.29  37.90  ...  22.10  37.72  16.43   \n",
              "2016-05-25 18:50:00  36.49  24.28  37.93  ...  22.10  37.81  16.42   \n",
              "...                    ...    ...    ...  ...    ...    ...    ...   \n",
              "2016-05-27 17:20:00  41.16  24.70  45.59  ...  23.20  46.79  22.73   \n",
              "2016-05-27 17:30:00  41.22  24.70  45.59  ...  23.20  46.79  22.60   \n",
              "2016-05-27 17:40:00  41.69  24.70  45.73  ...  23.20  46.79  22.47   \n",
              "2016-05-27 17:50:00  41.29  24.70  45.79  ...  23.20  46.82  22.33   \n",
              "2016-05-27 18:00:00  41.16  24.70  45.96  ...  23.20  46.84  22.20   \n",
              "\n",
              "                     Press_mm_hg  RH_out  Windspeed  Visibility  Tdewpoint  \\\n",
              "date                                                                         \n",
              "2016-05-25 18:10:00        756.1   55.83       2.00       38.17       7.62   \n",
              "2016-05-25 18:20:00        756.1   55.67       2.00       36.33       7.53   \n",
              "2016-05-25 18:30:00        756.1   55.50       2.00       34.50       7.45   \n",
              "2016-05-25 18:40:00        756.1   55.33       2.00       32.67       7.37   \n",
              "2016-05-25 18:50:00        756.1   55.17       2.00       30.83       7.28   \n",
              "...                          ...     ...        ...         ...        ...   \n",
              "2016-05-27 17:20:00        755.2   55.67       3.33       23.67      13.33   \n",
              "2016-05-27 17:30:00        755.2   56.00       3.50       24.50      13.30   \n",
              "2016-05-27 17:40:00        755.2   56.33       3.67       25.33      13.27   \n",
              "2016-05-27 17:50:00        755.2   56.67       3.83       26.17      13.23   \n",
              "2016-05-27 18:00:00        755.2   57.00       4.00       27.00      13.20   \n",
              "\n",
              "                       rv1    rv2  \n",
              "date                               \n",
              "2016-05-25 18:10:00  38.14  38.14  \n",
              "2016-05-25 18:20:00  31.16  31.16  \n",
              "2016-05-25 18:30:00   4.40   4.40  \n",
              "2016-05-25 18:40:00  27.12  27.12  \n",
              "2016-05-25 18:50:00  10.27  10.27  \n",
              "...                    ...    ...  \n",
              "2016-05-27 17:20:00  43.10  43.10  \n",
              "2016-05-27 17:30:00  49.28  49.28  \n",
              "2016-05-27 17:40:00  29.20  29.20  \n",
              "2016-05-27 17:50:00   6.32   6.32  \n",
              "2016-05-27 18:00:00  34.12  34.12  \n",
              "\n",
              "[288 rows x 28 columns]"
            ]
          },
          "metadata": {
            "tags": []
          },
          "execution_count": 19
        }
      ]
    },
    {
      "cell_type": "markdown",
      "metadata": {
        "id": "dwT4ydkeZ1-D"
      },
      "source": [
        "## Scale Data"
      ]
    },
    {
      "cell_type": "code",
      "metadata": {
        "id": "2l9OSyWbZ1-D"
      },
      "source": [
        "scaler = MinMaxScaler()"
      ],
      "execution_count": null,
      "outputs": []
    },
    {
      "cell_type": "code",
      "metadata": {
        "id": "uBKbEcY6Z1-D",
        "outputId": "52cac19a-9c77-4fe6-9baa-f2e44e2f68b5"
      },
      "source": [
        "# IGNORE WARNING ITS JUST CONVERTING TO FLOATS\n",
        "# WE ONLY FIT TO TRAININ DATA, OTHERWISE WE ARE CHEATING ASSUMING INFO ABOUT TEST SET\n",
        "scaler.fit(train)"
      ],
      "execution_count": null,
      "outputs": [
        {
          "output_type": "execute_result",
          "data": {
            "text/plain": [
              "MinMaxScaler(copy=True, feature_range=(0, 1))"
            ]
          },
          "metadata": {
            "tags": []
          },
          "execution_count": 24
        }
      ]
    },
    {
      "cell_type": "code",
      "metadata": {
        "id": "5VwdNeKnZ1-D"
      },
      "source": [
        "scaled_train = scaler.transform(train)\n",
        "scaled_test = scaler.transform(test)"
      ],
      "execution_count": null,
      "outputs": []
    },
    {
      "cell_type": "markdown",
      "metadata": {
        "id": "hGeW85HVZ1-D"
      },
      "source": [
        "# Time Series Generator\n",
        "\n",
        "This class takes in a sequence of data-points gathered at\n",
        "equal intervals, along with time series parameters such as\n",
        "stride, length of history, etc., to produce batches for\n",
        "training/validation.\n",
        "\n",
        "#### Arguments\n",
        "    data: Indexable generator (such as list or Numpy array)\n",
        "        containing consecutive data points (timesteps).\n",
        "        The data should be at 2D, and axis 0 is expected\n",
        "        to be the time dimension.\n",
        "    targets: Targets corresponding to timesteps in `data`.\n",
        "        It should have same length as `data`.\n",
        "    length: Length of the output sequences (in number of timesteps).\n",
        "    sampling_rate: Period between successive individual timesteps\n",
        "        within sequences. For rate `r`, timesteps\n",
        "        `data[i]`, `data[i-r]`, ... `data[i - length]`\n",
        "        are used for create a sample sequence.\n",
        "    stride: Period between successive output sequences.\n",
        "        For stride `s`, consecutive output samples would\n",
        "        be centered around `data[i]`, `data[i+s]`, `data[i+2*s]`, etc.\n",
        "    start_index: Data points earlier than `start_index` will not be used\n",
        "        in the output sequences. This is useful to reserve part of the\n",
        "        data for test or validation.\n",
        "    end_index: Data points later than `end_index` will not be used\n",
        "        in the output sequences. This is useful to reserve part of the\n",
        "        data for test or validation.\n",
        "    shuffle: Whether to shuffle output samples,\n",
        "        or instead draw them in chronological order.\n",
        "    reverse: Boolean: if `true`, timesteps in each output sample will be\n",
        "        in reverse chronological order.\n",
        "    batch_size: Number of timeseries samples in each batch\n",
        "        (except maybe the last one)."
      ]
    },
    {
      "cell_type": "code",
      "metadata": {
        "id": "9WKf-4jkZ1-E"
      },
      "source": [
        "# scaled_train"
      ],
      "execution_count": null,
      "outputs": []
    },
    {
      "cell_type": "code",
      "metadata": {
        "id": "3abRiBmhZ1-E"
      },
      "source": [
        "# define generator\n",
        "length = 144 # Length of the output sequences (in number of timesteps)\n",
        "batch_size = 1 #Number of timeseries samples in each batch\n",
        "generator = TimeseriesGenerator(scaled_train, scaled_train, length=length, batch_size=batch_size)"
      ],
      "execution_count": null,
      "outputs": []
    },
    {
      "cell_type": "code",
      "metadata": {
        "id": "lBDkgTpSZ1-E",
        "outputId": "fa5bb858-f0ec-4558-a401-a6d50222150d"
      },
      "source": [
        "len(scaled_train)"
      ],
      "execution_count": null,
      "outputs": [
        {
          "output_type": "execute_result",
          "data": {
            "text/plain": [
              "3565"
            ]
          },
          "metadata": {
            "tags": []
          },
          "execution_count": 27
        }
      ]
    },
    {
      "cell_type": "code",
      "metadata": {
        "id": "SlSrbjc-Z1-E",
        "outputId": "f6057475-43ea-4f34-c2f2-228b585f3005"
      },
      "source": [
        "len(generator) "
      ],
      "execution_count": null,
      "outputs": [
        {
          "output_type": "execute_result",
          "data": {
            "text/plain": [
              "3421"
            ]
          },
          "metadata": {
            "tags": []
          },
          "execution_count": 28
        }
      ]
    },
    {
      "cell_type": "code",
      "metadata": {
        "id": "IO_Ej69SZ1-E"
      },
      "source": [
        "# scaled_train"
      ],
      "execution_count": null,
      "outputs": []
    },
    {
      "cell_type": "code",
      "metadata": {
        "id": "YBcMvFURZ1-F"
      },
      "source": [
        "# What does the first batch look like?\n",
        "X,y = generator[0]"
      ],
      "execution_count": null,
      "outputs": []
    },
    {
      "cell_type": "code",
      "metadata": {
        "id": "TN9LxJOVZ1-F",
        "outputId": "d1feeadc-99a4-4b1e-b9e7-472b737fc5d6"
      },
      "source": [
        "print(f'Given the Array: \\n{X.flatten()}')\n",
        "print(f'Predict this y: \\n {y}')"
      ],
      "execution_count": null,
      "outputs": [
        {
          "output_type": "stream",
          "text": [
            "Given the Array: \n",
            "[0.03896104 0.         0.13798978 ... 0.14319527 0.75185111 0.75185111]\n",
            "Predict this y: \n",
            " [[0.03896104 0.         0.30834753 0.29439421 0.16038492 0.49182278\n",
            "  0.0140056  0.36627907 0.24142857 0.24364791 0.12650602 0.36276002\n",
            "  0.12       0.28205572 0.06169297 0.15759185 0.34582624 0.39585974\n",
            "  0.09259259 0.39649608 0.18852459 0.96052632 0.59210526 0.1\n",
            "  0.58333333 0.13609467 0.4576746  0.4576746 ]]\n"
          ],
          "name": "stdout"
        }
      ]
    },
    {
      "cell_type": "markdown",
      "metadata": {
        "id": "Shbvoor_Z1-F"
      },
      "source": [
        "Now you will be able to edit the length so that it makes sense for your time series!"
      ]
    },
    {
      "cell_type": "markdown",
      "metadata": {
        "id": "_2UxWGh5Z1-F"
      },
      "source": [
        "### Create the Model"
      ]
    },
    {
      "cell_type": "code",
      "metadata": {
        "id": "y_IoyWKWZ1-F",
        "outputId": "e94d6c5d-fe5d-4ad4-ff83-f7d4123ae999"
      },
      "source": [
        "scaled_train.shape"
      ],
      "execution_count": null,
      "outputs": [
        {
          "output_type": "execute_result",
          "data": {
            "text/plain": [
              "(3565, 28)"
            ]
          },
          "metadata": {
            "tags": []
          },
          "execution_count": 31
        }
      ]
    },
    {
      "cell_type": "code",
      "metadata": {
        "id": "Tf1XOv1dZ1-F"
      },
      "source": [
        "# define model\n",
        "model = Sequential()\n",
        "\n",
        "# Simple RNN layer\n",
        "model.add(LSTM(100,input_shape=(length,scaled_train.shape[1])))\n",
        "\n",
        "# Final Prediction (one neuron per feature)\n",
        "model.add(Dense(scaled_train.shape[1]))\n",
        "\n",
        "model.compile(optimizer='adam', loss='mse')"
      ],
      "execution_count": null,
      "outputs": []
    },
    {
      "cell_type": "code",
      "metadata": {
        "id": "DV9jbedyZ1-F",
        "outputId": "da755a3c-bcc6-45ef-f926-b60703372318"
      },
      "source": [
        "model.summary()"
      ],
      "execution_count": null,
      "outputs": [
        {
          "output_type": "stream",
          "text": [
            "Model: \"sequential\"\n",
            "_________________________________________________________________\n",
            "Layer (type)                 Output Shape              Param #   \n",
            "=================================================================\n",
            "lstm (LSTM)                  (None, 100)               51600     \n",
            "_________________________________________________________________\n",
            "dense (Dense)                (None, 28)                2828      \n",
            "=================================================================\n",
            "Total params: 54,428\n",
            "Trainable params: 54,428\n",
            "Non-trainable params: 0\n",
            "_________________________________________________________________\n"
          ],
          "name": "stdout"
        }
      ]
    },
    {
      "cell_type": "markdown",
      "metadata": {
        "id": "YcGXYhwkZ1-G"
      },
      "source": [
        "## EarlyStopping"
      ]
    },
    {
      "cell_type": "code",
      "metadata": {
        "id": "Ts3Na3ljZ1-G"
      },
      "source": [
        "early_stop = EarlyStopping(monitor='val_loss',patience=1)\n",
        "validation_generator = TimeseriesGenerator(scaled_test,scaled_test, \n",
        "                                           length=length, batch_size=batch_size)"
      ],
      "execution_count": null,
      "outputs": []
    },
    {
      "cell_type": "code",
      "metadata": {
        "id": "wrcNln1bZ1-G",
        "outputId": "efda9231-d663-4312-d2dd-46cb1990ce57"
      },
      "source": [
        "model.fit_generator(generator,epochs=10,\n",
        "                    validation_data=validation_generator,\n",
        "                   callbacks=[early_stop])"
      ],
      "execution_count": null,
      "outputs": [
        {
          "output_type": "stream",
          "text": [
            "Epoch 1/10\n",
            " 252/3421 [=>............................] - ETA: 15:31 - loss: 0.0281"
          ],
          "name": "stdout"
        }
      ]
    },
    {
      "cell_type": "code",
      "metadata": {
        "id": "gCqPAI5FZ1-G"
      },
      "source": [
        "model.history.history.keys()"
      ],
      "execution_count": null,
      "outputs": []
    },
    {
      "cell_type": "code",
      "metadata": {
        "id": "hg-A4z9WZ1-G"
      },
      "source": [
        "losses = pd.DataFrame(model.history.history)\n",
        "losses.plot()"
      ],
      "execution_count": null,
      "outputs": []
    },
    {
      "cell_type": "markdown",
      "metadata": {
        "id": "s1PHkAq_Z1-G"
      },
      "source": [
        "## Evaluate on Test Data"
      ]
    },
    {
      "cell_type": "code",
      "metadata": {
        "id": "wXCNoSCeZ1-G"
      },
      "source": [
        "first_eval_batch = scaled_train[-length:]"
      ],
      "execution_count": null,
      "outputs": []
    },
    {
      "cell_type": "code",
      "metadata": {
        "id": "3HZg53-vZ1-H"
      },
      "source": [
        "first_eval_batch"
      ],
      "execution_count": null,
      "outputs": []
    },
    {
      "cell_type": "code",
      "metadata": {
        "id": "0wNbfQL6Z1-H"
      },
      "source": [
        "first_eval_batch = first_eval_batch.reshape((1, length, scaled_train.shape[1]))"
      ],
      "execution_count": null,
      "outputs": []
    },
    {
      "cell_type": "code",
      "metadata": {
        "id": "X1xBinj4Z1-H"
      },
      "source": [
        "model.predict(first_eval_batch)"
      ],
      "execution_count": null,
      "outputs": []
    },
    {
      "cell_type": "code",
      "metadata": {
        "id": "fJU6bx_NZ1-H"
      },
      "source": [
        "scaled_test[0]"
      ],
      "execution_count": null,
      "outputs": []
    },
    {
      "cell_type": "markdown",
      "metadata": {
        "id": "4DlORTbTZ1-H"
      },
      "source": [
        "Now let's put this logic in a for loop to predict into the future for the entire test range.\n",
        "\n",
        "----"
      ]
    },
    {
      "cell_type": "markdown",
      "metadata": {
        "id": "Q6Hm9OjUZ1-H"
      },
      "source": [
        "**NOTE: PAY CLOSE ATTENTION HERE TO WHAT IS BEING OUTPUTED AND IN WHAT DIMENSIONS. ADD YOUR OWN PRINT() STATEMENTS TO SEE WHAT IS TRULY GOING ON!!**"
      ]
    },
    {
      "cell_type": "code",
      "metadata": {
        "id": "hgkUZooMZ1-H"
      },
      "source": [
        "n_features = scaled_train.shape[1]\n",
        "test_predictions = []\n",
        "\n",
        "first_eval_batch = scaled_train[-length:]\n",
        "current_batch = first_eval_batch.reshape((1, length, n_features))\n",
        "\n",
        "for i in range(len(test)):\n",
        "    \n",
        "    # get prediction 1 time stamp ahead ([0] is for grabbing just the number instead of [array])\n",
        "    current_pred = model.predict(current_batch)[0]\n",
        "    \n",
        "    # store prediction\n",
        "    test_predictions.append(current_pred) \n",
        "    \n",
        "    # update batch to now include prediction and drop first value\n",
        "    current_batch = np.append(current_batch[:,1:,:],[[current_pred]],axis=1)"
      ],
      "execution_count": null,
      "outputs": []
    },
    {
      "cell_type": "code",
      "metadata": {
        "id": "6mQ1tnrRZ1-I"
      },
      "source": [
        "test_predictions"
      ],
      "execution_count": null,
      "outputs": []
    },
    {
      "cell_type": "code",
      "metadata": {
        "id": "qJdrCP4_Z1-I"
      },
      "source": [
        "scaled_test"
      ],
      "execution_count": null,
      "outputs": []
    },
    {
      "cell_type": "markdown",
      "metadata": {
        "id": "9N1csWemZ1-I"
      },
      "source": [
        "## Inverse Transformations and Compare"
      ]
    },
    {
      "cell_type": "code",
      "metadata": {
        "id": "dUVNAYQ0Z1-I"
      },
      "source": [
        "true_predictions = scaler.inverse_transform(test_predictions)"
      ],
      "execution_count": null,
      "outputs": []
    },
    {
      "cell_type": "code",
      "metadata": {
        "id": "KHccFatgZ1-I"
      },
      "source": [
        "true_predictions"
      ],
      "execution_count": null,
      "outputs": []
    },
    {
      "cell_type": "code",
      "metadata": {
        "id": "156tCmdDZ1-J"
      },
      "source": [
        "test"
      ],
      "execution_count": null,
      "outputs": []
    },
    {
      "cell_type": "code",
      "metadata": {
        "id": "iRbGLkuBZ1-J"
      },
      "source": [
        "true_predictions = pd.DataFrame(data=true_predictions,columns=test.columns)"
      ],
      "execution_count": null,
      "outputs": []
    },
    {
      "cell_type": "code",
      "metadata": {
        "id": "cTr7JZIZZ1-J"
      },
      "source": [
        "true_predictions"
      ],
      "execution_count": null,
      "outputs": []
    },
    {
      "cell_type": "markdown",
      "metadata": {
        "id": "LTTE3bdYZ1-J"
      },
      "source": [
        "## EXTRA:\n",
        "### Our Saved Model"
      ]
    },
    {
      "cell_type": "code",
      "metadata": {
        "id": "VhJlQB2wZ1-J"
      },
      "source": [],
      "execution_count": null,
      "outputs": []
    },
    {
      "cell_type": "code",
      "metadata": {
        "id": "I9geRD4sZ1-J"
      },
      "source": [
        "model.save(\"multivariate.h5\")"
      ],
      "execution_count": null,
      "outputs": []
    }
  ]
}