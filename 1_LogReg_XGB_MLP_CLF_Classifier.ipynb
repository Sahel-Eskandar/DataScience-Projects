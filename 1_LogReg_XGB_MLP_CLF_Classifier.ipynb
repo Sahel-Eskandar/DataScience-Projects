{
  "cells": [
    {
      "cell_type": "markdown",
      "metadata": {
        "id": "view-in-github",
        "colab_type": "text"
      },
      "source": [
        "<a href=\"https://colab.research.google.com/github/Sahel-Eskandar/DataScience-Projects/blob/main/1_LogReg_XGB_MLP_CLF_Classifier.ipynb\" target=\"_parent\"><img src=\"https://colab.research.google.com/assets/colab-badge.svg\" alt=\"Open In Colab\"/></a>"
      ]
    },
    {
      "cell_type": "code",
      "execution_count": 1,
      "metadata": {
        "id": "RfFtonm8VyQl"
      },
      "outputs": [],
      "source": [
        "import pandas as pd\n",
        "import numpy as np\n",
        "from sklearn.model_selection import KFold\n",
        "from sklearn.model_selection import StratifiedKFold\n",
        "from sklearn.model_selection import cross_val_score\n",
        "from sklearn.model_selection import GridSearchCV\n",
        "from sklearn.metrics import roc_auc_score\n",
        "from sklearn.metrics import roc_curve\n",
        "from sklearn.metrics import accuracy_score, confusion_matrix, precision_score, recall_score, classification_report\n",
        "from sklearn.dummy import DummyClassifier\n",
        "from sklearn import svm\n",
        "from sklearn.linear_model import LogisticRegression\n",
        "from xgboost import XGBClassifier\n",
        "from sklearn.neural_network import MLPClassifier\n",
        "from sklearn.metrics import roc_curve\n",
        "from sklearn.metrics import auc\n",
        "from sklearn.ensemble import IsolationForest\n",
        "import warnings\n",
        "warnings.filterwarnings(\"ignore\")\n",
        "import matplotlib.pyplot as plt\n",
        "\n",
        "%matplotlib inline"
      ]
    },
    {
      "cell_type": "markdown",
      "source": [
        "#Data Prepration"
      ],
      "metadata": {
        "id": "iVacmLdYkESs"
      }
    },
    {
      "cell_type": "code",
      "source": [
        "  from google.colab import drive\n",
        "  drive.mount('/content/drive')\n",
        "  !git clone https://github.com/Sahel-Eskandar/Term-Deposit.git"
      ],
      "metadata": {
        "id": "hAjxfsWCvaHy",
        "outputId": "0c969b30-5e4b-4f10-82ff-5f795801e0aa",
        "colab": {
          "base_uri": "https://localhost:8080/"
        }
      },
      "execution_count": 9,
      "outputs": [
        {
          "output_type": "stream",
          "name": "stdout",
          "text": [
            "Mounted at /content/drive\n",
            "/content/drive/MyDrive\n",
            "Cloning into 'Term-Deposit'...\n",
            "remote: Enumerating objects: 119, done.\u001b[K\n",
            "remote: Counting objects: 100% (119/119), done.\u001b[K\n",
            "remote: Compressing objects: 100% (107/107), done.\u001b[K\n",
            "remote: Total 119 (delta 41), reused 16 (delta 5), pack-reused 0 (from 0)\u001b[K\n",
            "Receiving objects: 100% (119/119), 32.55 MiB | 8.60 MiB/s, done.\n",
            "Resolving deltas: 100% (41/41), done.\n",
            "Updating files: 100% (12/12), done.\n"
          ]
        }
      ]
    },
    {
      "cell_type": "code",
      "source": [
        "%cd /content/drive/MyDrive/Term-Deposit"
      ],
      "metadata": {
        "id": "HwHkL4TCwjIE",
        "outputId": "b909dba5-0750-4410-de32-5eb56326b9f3",
        "colab": {
          "base_uri": "https://localhost:8080/"
        }
      },
      "execution_count": 10,
      "outputs": [
        {
          "output_type": "stream",
          "name": "stdout",
          "text": [
            "/content/drive/MyDrive/Term-Deposit\n"
          ]
        }
      ]
    },
    {
      "cell_type": "code",
      "source": [
        "Output = './Model/'"
      ],
      "metadata": {
        "id": "i8hV8hKbxDZ7"
      },
      "execution_count": 11,
      "outputs": []
    },
    {
      "cell_type": "code",
      "execution_count": 12,
      "metadata": {
        "id": "9CUsv11XVyQm"
      },
      "outputs": [],
      "source": [
        "path_y = Output + 'df_y.csv'\n",
        "path_X = Output + 'df_X.csv'"
      ]
    },
    {
      "cell_type": "code",
      "execution_count": 13,
      "metadata": {
        "id": "a1wVoG-HVyQn"
      },
      "outputs": [],
      "source": [
        "X = pd.read_csv(path_X)\n",
        "y = pd.read_csv(path_y)"
      ]
    },
    {
      "cell_type": "code",
      "execution_count": 14,
      "metadata": {
        "colab": {
          "base_uri": "https://localhost:8080/"
        },
        "id": "bMBYXfN_VyQn",
        "outputId": "afe0e90a-41c5-4ff0-f14a-293916c24927"
      },
      "outputs": [
        {
          "output_type": "stream",
          "name": "stdout",
          "text": [
            "(69790, 1)\n",
            "(69790, 10)\n"
          ]
        }
      ],
      "source": [
        "print(y.shape)\n",
        "print(X.shape)"
      ]
    },
    {
      "cell_type": "markdown",
      "metadata": {
        "id": "3Lupo4AcVyQo"
      },
      "source": [
        "##### KFold cross validation"
      ]
    },
    {
      "cell_type": "code",
      "execution_count": null,
      "metadata": {
        "id": "Mps4gU1MVyQp"
      },
      "outputs": [],
      "source": [
        "kf = KFold(n_splits = 10, shuffle = True, random_state = 4)\n",
        "skf = StratifiedKFold(n_splits = 10, shuffle = True, random_state = 4)"
      ]
    },
    {
      "cell_type": "code",
      "execution_count": null,
      "metadata": {
        "id": "E3BNo8FLVyQp"
      },
      "outputs": [],
      "source": [
        "for train_index,test_index in kf.split(X,y):\n",
        "    X_train,X_test = X.loc[train_index],X.loc[test_index]\n",
        "    y_train,y_test = y.loc[train_index],y.loc[test_index]"
      ]
    },
    {
      "cell_type": "markdown",
      "source": [
        "#Model Training & Evaluation"
      ],
      "metadata": {
        "id": "Ye6-TuLuj9mk"
      }
    },
    {
      "cell_type": "markdown",
      "metadata": {
        "id": "a06YxtiuVyQq"
      },
      "source": [
        "###### Logistic regression model"
      ]
    },
    {
      "cell_type": "code",
      "execution_count": null,
      "metadata": {
        "id": "QDBUd2U7VyQq"
      },
      "outputs": [],
      "source": [
        "logreg = LogisticRegression()\n",
        "grid={\"C\":np.logspace(-3,3,7), \"penalty\":[\"l1\",\"l2\"]}\n",
        "logreg_cv=GridSearchCV(logreg,grid,cv=10)\n",
        "model = logreg_cv.fit(X_train, y_train)\n",
        "y_pred = logreg_cv.predict(X_test)"
      ]
    },
    {
      "cell_type": "code",
      "execution_count": null,
      "metadata": {
        "id": "SvoeuL_UVyQq"
      },
      "outputs": [],
      "source": [
        "scores = logreg_cv.score(X_test,y_test)"
      ]
    },
    {
      "cell_type": "code",
      "execution_count": null,
      "metadata": {
        "id": "2s6HQFNrVyQr"
      },
      "outputs": [],
      "source": [
        "print('Accuracy of logistic regression classifier on test set: {:.2f}'.format(scores))"
      ]
    },
    {
      "cell_type": "code",
      "execution_count": null,
      "metadata": {
        "id": "BuGxikfWVyQr"
      },
      "outputs": [],
      "source": [
        "confusion_matrix = confusion_matrix(y_test, y_pred)\n",
        "confusion_matrix"
      ]
    },
    {
      "cell_type": "code",
      "execution_count": null,
      "metadata": {
        "id": "IYNJYQMXVyQr"
      },
      "outputs": [],
      "source": [
        "print(classification_report(y_test, y_pred))"
      ]
    },
    {
      "cell_type": "code",
      "execution_count": null,
      "metadata": {
        "id": "glvGgYxYVyQr"
      },
      "outputs": [],
      "source": [
        "logit_roc_auc = roc_auc_score(y_test, y_pred)\n",
        "\n",
        "fpr, tpr, thresholds = roc_curve(y_test, logreg_cv.predict_proba(X_test)[:,1])\n",
        "\n",
        "\n",
        "plt.figure()\n",
        "plt.plot(fpr, tpr, label='Logistic Regression (area = %0.2f)' % logit_roc_auc)\n",
        "plt.plot([0, 1], [0, 1],'r--')\n",
        "plt.xlim([0.0, 1.0])\n",
        "plt.ylim([0.0, 1.05])\n",
        "plt.xlabel('False Positive Rate')\n",
        "plt.ylabel('True Positive Rate')\n",
        "plt.title('Receiver operating characteristic')\n",
        "plt.legend(loc=\"lower right\")\n",
        "plt.savefig('Log_ROC')\n",
        "plt.show()"
      ]
    },
    {
      "cell_type": "code",
      "execution_count": null,
      "metadata": {
        "id": "afbLAD91VyQr"
      },
      "outputs": [],
      "source": [
        "def logreg(X, y, cv):\n",
        "    \"\"\"\n",
        "    Creates folds manually, perform\n",
        "    Returns an array of validation (recall) scores\n",
        "    \"\"\"\n",
        "    if cv == 'kf':\n",
        "        cv = KFold(n_splits = 10, shuffle = True, random_state = 4)\n",
        "    elif cv == 'skf':\n",
        "        cv = StratifiedKFold(n_splits = 10, shuffle = True, random_state = 4)\n",
        "    else:\n",
        "        cv == None\n",
        "\n",
        "    scores = []\n",
        "    logreg = LogisticRegression()\n",
        "    grid={\"C\":np.logspace(-3,3,7), \"penalty\":[\"l1\",\"l2\"]}\n",
        "    logreg_cv=GridSearchCV(logreg,grid,cv=10)\n",
        "    for train_index,test_index in cv.split(X,y):\n",
        "        X_train,X_test = X.loc[train_index],X.loc[test_index]\n",
        "        y_train,y_test = y.loc[train_index],y.loc[test_index]\n",
        "\n",
        "        # Fit the model on the training data\n",
        "        model_obj = logreg_cv.fit(X_train, y_train)\n",
        "        # Score the model on the validation data\n",
        "        score = recall_score(y_test, model_obj.predict(X_test))\n",
        "        scores.append(score)\n",
        "    return np.array(scores).mean()\n"
      ]
    },
    {
      "cell_type": "code",
      "execution_count": null,
      "metadata": {
        "id": "-LMeCxGVVyQs"
      },
      "outputs": [],
      "source": [
        "logreg(X, y, kf)"
      ]
    },
    {
      "cell_type": "code",
      "execution_count": null,
      "metadata": {
        "id": "u4x6sWVGVyQs"
      },
      "outputs": [],
      "source": [
        "logreg(X, y, skf)"
      ]
    },
    {
      "cell_type": "code",
      "execution_count": null,
      "metadata": {
        "id": "bfJH9QOXVyQs"
      },
      "outputs": [],
      "source": [
        "from sklearn.metrics import confusion_matrix\n",
        "def model_classifier(model, X, y, cv):\n",
        "    \"\"\"\n",
        "    Creates folds manually, perform\n",
        "    Returns an array of validation (recall) scores\n",
        "    \"\"\"\n",
        "    if cv == 'kf':\n",
        "        cv = KFold(n_splits = 10, shuffle = True, random_state = 4)\n",
        "    elif cv == 'skf':\n",
        "        cv = StratifiedKFold(n_splits = 10, shuffle = True, random_state = 4)\n",
        "    else:\n",
        "        cv == None\n",
        "\n",
        "    scores = []\n",
        "\n",
        "\n",
        "    for train_index,test_index in cv.split(X,y):\n",
        "        X_train,X_test = X.loc[train_index],X.loc[test_index]\n",
        "        y_train,y_test = y.loc[train_index],y.loc[test_index]\n",
        "\n",
        "        # Fit the model on the training data\n",
        "        model_obj = model.fit(X_train, y_train)\n",
        "        y_pred = model_obj.predict(X_test)\n",
        "        # Score the model on the validation data\n",
        "        score = accuracy_score(y_test, y_pred)\n",
        "        report = classification_report(y_test, y_pred)\n",
        "        conf_matrix = confusion_matrix(y_test, y_pred)\n",
        "\n",
        "        scores.append(score)\n",
        "        mean_score = np.array(scores).mean()\n",
        "    import seaborn as sns\n",
        "    array = conf_matrix\n",
        "    #df_cm = pd.DataFrame(array, index = ['No','Yes'], columns = ['No','Yes'])\n",
        "    plt.figure(figsize = (6,4))\n",
        "    #sns.heatmap(df_cm, annot=True,fmt='d')\n",
        "    group_names = ['True Neg','False Pos','False Neg','True Pos']\n",
        "    group_counts = ['{0:0.0f}'.format(value) for value in array.flatten()]\n",
        "    group_percentages = ['{0:.2%}'.format(value) for value in array.flatten()/np.sum(array)]\n",
        "    labels = [f\"{v1}\\n{v2}\\n{v3}\" for v1, v2, v3 in zip(group_names,group_counts,group_percentages)]\n",
        "    labels = np.asarray(labels).reshape(2,2)\n",
        "    sns.heatmap(array, annot=labels, fmt='', cmap='Blues')\n",
        "    print('\\n Accuracy scores of the model: {:.2f}'.format(mean_score))\n",
        "    print('\\n Classification report of the model')\n",
        "    print('--------------------------------------')\n",
        "    print(report)\n",
        "\n",
        "    print('\\n Confusion Matrix of the model')\n",
        "    print('--------------------------------------')\n",
        "    #print(conf_matrix)\n",
        "\n",
        "\n"
      ]
    },
    {
      "cell_type": "code",
      "execution_count": null,
      "metadata": {
        "id": "Bo15L8mGVyQs"
      },
      "outputs": [],
      "source": [
        "logreg = LogisticRegression()"
      ]
    },
    {
      "cell_type": "code",
      "execution_count": null,
      "metadata": {
        "id": "QxX7MUOlVyQt"
      },
      "outputs": [],
      "source": [
        "%%time\n",
        "model_classifier(logreg, X, y, kf)"
      ]
    },
    {
      "cell_type": "code",
      "execution_count": null,
      "metadata": {
        "id": "Lf8NrW56VyQt"
      },
      "outputs": [],
      "source": [
        "model_classifier(logreg, X, y, skf)"
      ]
    },
    {
      "cell_type": "code",
      "execution_count": null,
      "metadata": {
        "id": "AxWQay-EVyQt"
      },
      "outputs": [],
      "source": [
        "xgb = XGBClassifier()"
      ]
    },
    {
      "cell_type": "code",
      "execution_count": null,
      "metadata": {
        "id": "wIg9sO8iVyQt"
      },
      "outputs": [],
      "source": [
        "%%time\n",
        "model_classifier(xgb, X, y, kf)"
      ]
    },
    {
      "cell_type": "code",
      "execution_count": null,
      "metadata": {
        "id": "jHUxkjlCVyQt"
      },
      "outputs": [],
      "source": [
        "model_classifier(xgb, X, y, skf)"
      ]
    },
    {
      "cell_type": "code",
      "execution_count": null,
      "metadata": {
        "id": "gBhWnJuzVyQt"
      },
      "outputs": [],
      "source": [
        "mlp = MLPClassifier()"
      ]
    },
    {
      "cell_type": "code",
      "execution_count": null,
      "metadata": {
        "id": "3LXDx13PVyQt"
      },
      "outputs": [],
      "source": [
        "%%time\n",
        "model_classifier(mlp, X, y, kf)"
      ]
    },
    {
      "cell_type": "code",
      "execution_count": null,
      "metadata": {
        "id": "Lhe69_SdVyQt"
      },
      "outputs": [],
      "source": [
        "model_classifier(mlp, X, y, skf)"
      ]
    },
    {
      "cell_type": "code",
      "execution_count": null,
      "metadata": {
        "id": "CqC2zGmwVyQt"
      },
      "outputs": [],
      "source": [
        "clf = svm.SVC(kernel='linear')"
      ]
    },
    {
      "cell_type": "code",
      "execution_count": null,
      "metadata": {
        "id": "Bddc2gJEVyQu"
      },
      "outputs": [],
      "source": [
        "%%time\n",
        "model_classifier(clf, X, y, kf)"
      ]
    },
    {
      "cell_type": "markdown",
      "metadata": {
        "id": "QOFiCTy7VyQu"
      },
      "source": [
        "###### ROC plots"
      ]
    },
    {
      "cell_type": "code",
      "execution_count": null,
      "metadata": {
        "id": "Lpxgw08CVyQu"
      },
      "outputs": [],
      "source": [
        "def roc_plot(model, X, y, cv):\n",
        "    for train_index,test_index in cv.split(X,y):\n",
        "        X_train,X_test = X.loc[train_index],X.loc[test_index]\n",
        "        y_train,y_test = y.loc[train_index],y.loc[test_index]\n",
        "        model_obj = model.fit(X_train, y_train)\n",
        "        y_pred = model_obj.predict(X_test)\n",
        "        y_pred_prob = model_obj.predict_proba(X_test)[:,1]\n",
        "\n",
        "        logit_roc_auc = roc_auc_score(y_test, y_pred)\n",
        "        fpr, tpr, thresholds = roc_curve(y_test, y_pred_prob)\n",
        "    plt.figure()\n",
        "    val_model = input(\"Enter your model name: \")\n",
        "    plt.plot(fpr, tpr, label= val_model + ' (area = %0.2f)' % logit_roc_auc)\n",
        "    plt.plot([0, 1], [0, 1],'r--')\n",
        "    plt.xlim([0.0, 1.0])\n",
        "    plt.ylim([0.0, 1.05])\n",
        "    plt.xlabel('False Positive Rate')\n",
        "    plt.ylabel('True Positive Rate')\n",
        "    plt.title('Receiver operating characteristic')\n",
        "    plt.legend(loc=\"lower right\")\n",
        "    my_fig = val_model + '.png'\n",
        "    #plt.savefig(os.path.join(my_path, my_fig))\n",
        "    plt.show()"
      ]
    },
    {
      "cell_type": "code",
      "execution_count": null,
      "metadata": {
        "id": "PG_evzCQVyQu"
      },
      "outputs": [],
      "source": [
        "roc_plot(logreg, X, y, kf)"
      ]
    },
    {
      "cell_type": "code",
      "execution_count": null,
      "metadata": {
        "id": "tUB9YXe8VyQu"
      },
      "outputs": [],
      "source": [
        "roc_plot(logreg, X, y, skf)"
      ]
    },
    {
      "cell_type": "code",
      "execution_count": null,
      "metadata": {
        "id": "6RW8N6DJVyQu"
      },
      "outputs": [],
      "source": [
        "roc_plot(xgb, X, y, kf)"
      ]
    },
    {
      "cell_type": "code",
      "execution_count": null,
      "metadata": {
        "id": "iBzabbz7VyQu"
      },
      "outputs": [],
      "source": [
        "roc_plot(xgb, X, y, skf)"
      ]
    },
    {
      "cell_type": "code",
      "execution_count": null,
      "metadata": {
        "id": "v-32WMskVyQu"
      },
      "outputs": [],
      "source": [
        "roc_plot(mlp, X, y, kf)"
      ]
    },
    {
      "cell_type": "code",
      "source": [],
      "metadata": {
        "id": "0n3jEfmRarvr"
      },
      "execution_count": null,
      "outputs": []
    }
  ],
  "metadata": {
    "kernelspec": {
      "display_name": "Python 3",
      "language": "python",
      "name": "python3"
    },
    "language_info": {
      "codemirror_mode": {
        "name": "ipython",
        "version": 3
      },
      "file_extension": ".py",
      "mimetype": "text/x-python",
      "name": "python",
      "nbconvert_exporter": "python",
      "pygments_lexer": "ipython3",
      "version": "3.7.6"
    },
    "toc": {
      "base_numbering": 1,
      "nav_menu": {},
      "number_sections": true,
      "sideBar": true,
      "skip_h1_title": false,
      "title_cell": "Table of Contents",
      "title_sidebar": "Contents",
      "toc_cell": false,
      "toc_position": {},
      "toc_section_display": true,
      "toc_window_display": false
    },
    "colab": {
      "provenance": [],
      "include_colab_link": true
    }
  },
  "nbformat": 4,
  "nbformat_minor": 0
}