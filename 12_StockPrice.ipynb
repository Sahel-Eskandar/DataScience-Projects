{
  "nbformat": 4,
  "nbformat_minor": 0,
  "metadata": {
    "kernelspec": {
      "name": "python3",
      "display_name": "Python 3"
    },
    "language_info": {
      "codemirror_mode": {
        "name": "ipython",
        "version": 3
      },
      "file_extension": ".py",
      "mimetype": "text/x-python",
      "name": "python",
      "nbconvert_exporter": "python",
      "pygments_lexer": "ipython3",
      "version": "3.6.7"
    },
    "colab": {
      "provenance": [],
      "include_colab_link": true
    },
    "accelerator": "GPU"
  },
  "cells": [
    {
      "cell_type": "markdown",
      "metadata": {
        "id": "view-in-github",
        "colab_type": "text"
      },
      "source": [
        "<a href=\"https://colab.research.google.com/github/Sahel-Eskandar/DataScience-Projects/blob/main/12_StockPrice.ipynb\" target=\"_parent\"><img src=\"https://colab.research.google.com/assets/colab-badge.svg\" alt=\"Open In Colab\"/></a>"
      ]
    },
    {
      "cell_type": "markdown",
      "metadata": {
        "id": "FZ_KCD5lnU18"
      },
      "source": [
        "# Stock Price Prediction\n",
        "\n",
        "Sahel Eskandar\n",
        "\n",
        "Notes have been added before each section and explained the code.\n",
        "\n",
        "Another model created for tuning hyperparameters in the next notebook."
      ]
    },
    {
      "cell_type": "markdown",
      "metadata": {
        "id": "G_4g6uI2tZj4"
      },
      "source": [
        "Model in this notebook without hyperparameter tuning"
      ]
    },
    {
      "cell_type": "markdown",
      "metadata": {
        "id": "RVIf7RxrtX6U"
      },
      "source": [
        "Epoch 10/10\n",
        " - 18s - loss: 0.0104 - val_loss: 0.1616"
      ]
    },
    {
      "cell_type": "code",
      "metadata": {
        "id": "2E-KExc_WFTU",
        "outputId": "37474c12-359d-47b2-d9bf-bf1b4678d7c4",
        "colab": {
          "base_uri": "https://localhost:8080/",
          "height": 121
        }
      },
      "source": [
        "import os, sys\n",
        "from google.colab import drive\n",
        "drive.mount('/content/drive')\n",
        "nb_path = '/content/notebooks'\n",
        "#os.symlink('/content/drive/My Drive/Colab Notebooks', nb_path)\n",
        "sys.path.insert(0,nb_path)"
      ],
      "execution_count": null,
      "outputs": [
        {
          "output_type": "stream",
          "text": [
            "Go to this URL in a browser: https://accounts.google.com/o/oauth2/auth?client_id=947318989803-6bn6qk8qdgf4n4g3pfee6491hc0brc4i.apps.googleusercontent.com&redirect_uri=urn%3aietf%3awg%3aoauth%3a2.0%3aoob&response_type=code&scope=email%20https%3a%2f%2fwww.googleapis.com%2fauth%2fdocs.test%20https%3a%2f%2fwww.googleapis.com%2fauth%2fdrive%20https%3a%2f%2fwww.googleapis.com%2fauth%2fdrive.photos.readonly%20https%3a%2f%2fwww.googleapis.com%2fauth%2fpeopleapi.readonly\n",
            "\n",
            "Enter your authorization code:\n",
            "··········\n",
            "Mounted at /content/drive\n"
          ],
          "name": "stdout"
        }
      ]
    },
    {
      "cell_type": "markdown",
      "metadata": {
        "id": "QXF4pYObPrM5"
      },
      "source": [
        "## Importing libraries"
      ]
    },
    {
      "cell_type": "code",
      "metadata": {
        "id": "IJwzHGtwlJIC"
      },
      "source": [
        "import numpy as np  \n",
        "import matplotlib.pyplot as plt  \n",
        "import pandas as pd  \n",
        "import tqdm\n",
        "from sklearn.preprocessing import MinMaxScaler\n",
        "from sklearn.model_selection import train_test_split"
      ],
      "execution_count": null,
      "outputs": []
    },
    {
      "cell_type": "markdown",
      "metadata": {
        "id": "6ObKA2iuPcM8"
      },
      "source": [
        "## Reading and Visualising data"
      ]
    },
    {
      "cell_type": "code",
      "metadata": {
        "id": "27p8vT4FbCd6"
      },
      "source": [
        "OUTPUT_PATH='/content/drive/My Drive/App'\n",
        "INPUT_PATH='/content/drive/My Drive/App/inputs/AAPL.csv'"
      ],
      "execution_count": null,
      "outputs": []
    },
    {
      "cell_type": "code",
      "metadata": {
        "id": "BtmG1AzNlJIP"
      },
      "source": [
        "data=pd.read_csv(INPUT_PATH)"
      ],
      "execution_count": null,
      "outputs": []
    },
    {
      "cell_type": "code",
      "metadata": {
        "id": "2UBI3hOOlJIU",
        "outputId": "8d1b7f2f-fcd5-4f3c-dc4e-87155f5ac0d8",
        "colab": {
          "base_uri": "https://localhost:8080/",
          "height": 195
        }
      },
      "source": [
        "data.head()"
      ],
      "execution_count": null,
      "outputs": [
        {
          "output_type": "execute_result",
          "data": {
            "text/html": [
              "<div>\n",
              "<style scoped>\n",
              "    .dataframe tbody tr th:only-of-type {\n",
              "        vertical-align: middle;\n",
              "    }\n",
              "\n",
              "    .dataframe tbody tr th {\n",
              "        vertical-align: top;\n",
              "    }\n",
              "\n",
              "    .dataframe thead th {\n",
              "        text-align: right;\n",
              "    }\n",
              "</style>\n",
              "<table border=\"1\" class=\"dataframe\">\n",
              "  <thead>\n",
              "    <tr style=\"text-align: right;\">\n",
              "      <th></th>\n",
              "      <th>Date</th>\n",
              "      <th>Open</th>\n",
              "      <th>High</th>\n",
              "      <th>Low</th>\n",
              "      <th>Close</th>\n",
              "      <th>Adj Close</th>\n",
              "      <th>Volume</th>\n",
              "    </tr>\n",
              "  </thead>\n",
              "  <tbody>\n",
              "    <tr>\n",
              "      <th>0</th>\n",
              "      <td>2009-12-01</td>\n",
              "      <td>1.502857</td>\n",
              "      <td>1.560714</td>\n",
              "      <td>1.500000</td>\n",
              "      <td>1.550714</td>\n",
              "      <td>1.034021</td>\n",
              "      <td>90384000</td>\n",
              "    </tr>\n",
              "    <tr>\n",
              "      <th>1</th>\n",
              "      <td>2009-12-02</td>\n",
              "      <td>1.542857</td>\n",
              "      <td>1.564286</td>\n",
              "      <td>1.529286</td>\n",
              "      <td>1.538571</td>\n",
              "      <td>1.025924</td>\n",
              "      <td>51324000</td>\n",
              "    </tr>\n",
              "    <tr>\n",
              "      <th>2</th>\n",
              "      <td>2009-12-03</td>\n",
              "      <td>1.538571</td>\n",
              "      <td>1.560000</td>\n",
              "      <td>1.497143</td>\n",
              "      <td>1.502143</td>\n",
              "      <td>1.001633</td>\n",
              "      <td>47824000</td>\n",
              "    </tr>\n",
              "    <tr>\n",
              "      <th>3</th>\n",
              "      <td>2009-12-04</td>\n",
              "      <td>1.495714</td>\n",
              "      <td>1.512143</td>\n",
              "      <td>1.483571</td>\n",
              "      <td>1.510714</td>\n",
              "      <td>1.007349</td>\n",
              "      <td>44485000</td>\n",
              "    </tr>\n",
              "    <tr>\n",
              "      <th>4</th>\n",
              "      <td>2009-12-05</td>\n",
              "      <td>1.492857</td>\n",
              "      <td>1.510714</td>\n",
              "      <td>1.480714</td>\n",
              "      <td>1.489286</td>\n",
              "      <td>0.993060</td>\n",
              "      <td>46544400</td>\n",
              "    </tr>\n",
              "  </tbody>\n",
              "</table>\n",
              "</div>"
            ],
            "text/plain": [
              "         Date      Open      High       Low     Close  Adj Close    Volume\n",
              "0  2009-12-01  1.502857  1.560714  1.500000  1.550714   1.034021  90384000\n",
              "1  2009-12-02  1.542857  1.564286  1.529286  1.538571   1.025924  51324000\n",
              "2  2009-12-03  1.538571  1.560000  1.497143  1.502143   1.001633  47824000\n",
              "3  2009-12-04  1.495714  1.512143  1.483571  1.510714   1.007349  44485000\n",
              "4  2009-12-05  1.492857  1.510714  1.480714  1.489286   0.993060  46544400"
            ]
          },
          "metadata": {
            "tags": []
          },
          "execution_count": 5
        }
      ]
    },
    {
      "cell_type": "code",
      "metadata": {
        "id": "lFoQvGB-lJIb",
        "outputId": "fdd9f20d-31f3-4ab5-9f8e-4ff8987b322c",
        "colab": {
          "base_uri": "https://localhost:8080/",
          "height": 295
        }
      },
      "source": [
        "plt.figure()\n",
        "plt.plot(data[\"Open\"])\n",
        "plt.plot(data[\"High\"])\n",
        "plt.plot(data[\"Low\"])\n",
        "plt.plot(data[\"Close\"])\n",
        "plt.title('Stock price history')\n",
        "plt.ylabel('Price')\n",
        "plt.xlabel('Date')\n",
        "plt.legend(['Open','High','Low','Close'], loc='upper left')\n",
        "plt.show()"
      ],
      "execution_count": null,
      "outputs": [
        {
          "output_type": "display_data",
          "data": {
            "image/png": "[encoded data removed]",
            "text/plain": [
              "<Figure size 432x288 with 1 Axes>"
            ]
          },
          "metadata": {
            "tags": []
          }
        }
      ]
    },
    {
      "cell_type": "code",
      "metadata": {
        "id": "OBw6xKX-lJIl",
        "outputId": "e7325ded-9106-4b39-a935-1e82e6ac936c",
        "colab": {
          "base_uri": "https://localhost:8080/",
          "height": 295
        }
      },
      "source": [
        "plt.figure()\n",
        "plt.plot(data[\"Volume\"])\n",
        "plt.title('Stock volume history')\n",
        "plt.ylabel('Volume')\n",
        "plt.xlabel('Date')\n",
        "plt.show()"
      ],
      "execution_count": null,
      "outputs": [
        {
          "output_type": "display_data",
          "data": {
            "image/png": "[encoded data removed]",
            "text/plain": [
              "<Figure size 432x288 with 1 Axes>"
            ]
          },
          "metadata": {
            "tags": []
          }
        }
      ]
    },
    {
      "cell_type": "markdown",
      "metadata": {
        "id": "C8KJE-y9P1Pt"
      },
      "source": [
        "## Checking for null values"
      ]
    },
    {
      "cell_type": "code",
      "metadata": {
        "id": "DwpW5v0ylJIo",
        "outputId": "ff7d791d-e74e-429c-d09d-515e3f5521c1",
        "colab": {
          "base_uri": "https://localhost:8080/",
          "height": 168
        }
      },
      "source": [
        "print(\"checking if any null values are present\\n\", data.isna().sum())"
      ],
      "execution_count": null,
      "outputs": [
        {
          "output_type": "stream",
          "text": [
            "checking if any null values are present\n",
            " Date         0\n",
            "Open         0\n",
            "High         0\n",
            "Low          0\n",
            "Close        0\n",
            "Adj Close    0\n",
            "Volume       0\n",
            "dtype: int64\n"
          ],
          "name": "stdout"
        }
      ]
    },
    {
      "cell_type": "markdown",
      "metadata": {
        "id": "sjNrplb618ZP"
      },
      "source": [
        "Cutting dataset from the beginning for training and leaving the end for testing\n"
      ]
    },
    {
      "cell_type": "code",
      "metadata": {
        "id": "N719yoWQlJIy",
        "outputId": "f5bf1dea-00fb-4435-c5c0-8bfa9e017126",
        "colab": {
          "base_uri": "https://localhost:8080/",
          "height": 229
        }
      },
      "source": [
        "print(\"data base:\", len(data))\n",
        "db = data.iloc[:,1:2].values\n",
        "data_train=db[0:3083,:]\n",
        "print(\"data_train:\", len(data_train))\n",
        "data.head()"
      ],
      "execution_count": null,
      "outputs": [
        {
          "output_type": "stream",
          "text": [
            "data base: 3853\n",
            "data_train: 3083\n"
          ],
          "name": "stdout"
        },
        {
          "output_type": "execute_result",
          "data": {
            "text/html": [
              "<div>\n",
              "<style scoped>\n",
              "    .dataframe tbody tr th:only-of-type {\n",
              "        vertical-align: middle;\n",
              "    }\n",
              "\n",
              "    .dataframe tbody tr th {\n",
              "        vertical-align: top;\n",
              "    }\n",
              "\n",
              "    .dataframe thead th {\n",
              "        text-align: right;\n",
              "    }\n",
              "</style>\n",
              "<table border=\"1\" class=\"dataframe\">\n",
              "  <thead>\n",
              "    <tr style=\"text-align: right;\">\n",
              "      <th></th>\n",
              "      <th>Date</th>\n",
              "      <th>Open</th>\n",
              "      <th>High</th>\n",
              "      <th>Low</th>\n",
              "      <th>Close</th>\n",
              "      <th>Adj Close</th>\n",
              "      <th>Volume</th>\n",
              "    </tr>\n",
              "  </thead>\n",
              "  <tbody>\n",
              "    <tr>\n",
              "      <th>0</th>\n",
              "      <td>2009-12-01</td>\n",
              "      <td>1.502857</td>\n",
              "      <td>1.560714</td>\n",
              "      <td>1.500000</td>\n",
              "      <td>1.550714</td>\n",
              "      <td>1.034021</td>\n",
              "      <td>90384000</td>\n",
              "    </tr>\n",
              "    <tr>\n",
              "      <th>1</th>\n",
              "      <td>2009-12-02</td>\n",
              "      <td>1.542857</td>\n",
              "      <td>1.564286</td>\n",
              "      <td>1.529286</td>\n",
              "      <td>1.538571</td>\n",
              "      <td>1.025924</td>\n",
              "      <td>51324000</td>\n",
              "    </tr>\n",
              "    <tr>\n",
              "      <th>2</th>\n",
              "      <td>2009-12-03</td>\n",
              "      <td>1.538571</td>\n",
              "      <td>1.560000</td>\n",
              "      <td>1.497143</td>\n",
              "      <td>1.502143</td>\n",
              "      <td>1.001633</td>\n",
              "      <td>47824000</td>\n",
              "    </tr>\n",
              "    <tr>\n",
              "      <th>3</th>\n",
              "      <td>2009-12-04</td>\n",
              "      <td>1.495714</td>\n",
              "      <td>1.512143</td>\n",
              "      <td>1.483571</td>\n",
              "      <td>1.510714</td>\n",
              "      <td>1.007349</td>\n",
              "      <td>44485000</td>\n",
              "    </tr>\n",
              "    <tr>\n",
              "      <th>4</th>\n",
              "      <td>2009-12-05</td>\n",
              "      <td>1.492857</td>\n",
              "      <td>1.510714</td>\n",
              "      <td>1.480714</td>\n",
              "      <td>1.489286</td>\n",
              "      <td>0.993060</td>\n",
              "      <td>46544400</td>\n",
              "    </tr>\n",
              "  </tbody>\n",
              "</table>\n",
              "</div>"
            ],
            "text/plain": [
              "         Date      Open      High       Low     Close  Adj Close    Volume\n",
              "0  2009-12-01  1.502857  1.560714  1.500000  1.550714   1.034021  90384000\n",
              "1  2009-12-02  1.542857  1.564286  1.529286  1.538571   1.025924  51324000\n",
              "2  2009-12-03  1.538571  1.560000  1.497143  1.502143   1.001633  47824000\n",
              "3  2009-12-04  1.495714  1.512143  1.483571  1.510714   1.007349  44485000\n",
              "4  2009-12-05  1.492857  1.510714  1.480714  1.489286   0.993060  46544400"
            ]
          },
          "metadata": {
            "tags": []
          },
          "execution_count": 9
        }
      ]
    },
    {
      "cell_type": "markdown",
      "metadata": {
        "id": "EfPsqTakPQa5"
      },
      "source": [
        "## Normalizing and arranging data for time steps"
      ]
    },
    {
      "cell_type": "markdown",
      "metadata": {
        "id": "fCoh1tr6mlt9"
      },
      "source": [
        "Scale data to a range of 0 to 1 and then the scale has been kept for final prediction inverse"
      ]
    },
    {
      "cell_type": "code",
      "metadata": {
        "id": "Bo7DVhl803DW"
      },
      "source": [
        "from sklearn.preprocessing import MinMaxScaler\n",
        "\n",
        "scale= MinMaxScaler(feature_range=(0,1))\n",
        "\n",
        "data_train_scaled= scale.fit_transform(data_train)"
      ],
      "execution_count": null,
      "outputs": []
    },
    {
      "cell_type": "markdown",
      "metadata": {
        "id": "Ak1dPP86lJIx"
      },
      "source": [
        "\n",
        "Predict the opening stock price of the data based on the opening stock prices for the past 60 days. So, we set time steps to 60 days and cut each 60 days in one data and assume day of 60 as our output"
      ]
    },
    {
      "cell_type": "code",
      "metadata": {
        "id": "m4LVVsjeQTMs"
      },
      "source": [
        "X_train = []\n",
        "y_train = []\n",
        "for i in range(60, 2035):\n",
        "    X_train.append(data_train_scaled[i-60:i, 0])\n",
        "    y_train.append(data_train_scaled[i, 0])\n",
        "\n",
        "X_train, y_train = np.array(X_train), np.array(y_train)\n",
        "X_train = np.reshape(X_train, (X_train.shape[0], X_train.shape[1], 1))"
      ],
      "execution_count": null,
      "outputs": []
    },
    {
      "cell_type": "markdown",
      "metadata": {
        "id": "XHQgEz75nuj9"
      },
      "source": [
        "## Creating LSTM Model "
      ]
    },
    {
      "cell_type": "markdown",
      "metadata": {
        "id": "gQelmtPylJI3"
      },
      "source": [
        "Add 3 LSTM layer and a dense layer a last layer of the model"
      ]
    },
    {
      "cell_type": "code",
      "metadata": {
        "id": "hdbSHutXDiQv",
        "outputId": "60cdd889-6988-49cc-ee30-d0c03e0cc25d",
        "colab": {
          "base_uri": "https://localhost:8080/",
          "height": 79
        }
      },
      "source": [
        "from keras.models import Sequential\n",
        "from keras.layers import LSTM\n",
        "from keras.layers import Dropout\n",
        "from keras.layers import Dense "
      ],
      "execution_count": null,
      "outputs": [
        {
          "output_type": "stream",
          "text": [
            "Using TensorFlow backend.\n"
          ],
          "name": "stderr"
        },
        {
          "output_type": "display_data",
          "data": {
            "text/html": [
              "<p style=\"color: red;\">\n",
              "The default version of TensorFlow in Colab will soon switch to TensorFlow 2.x.<br>\n",
              "We recommend you <a href=\"https://www.tensorflow.org/guide/migrate\" target=\"_blank\">upgrade</a> now \n",
              "or ensure your notebook will continue to use TensorFlow 1.x via the <code>%tensorflow_version 1.x</code> magic:\n",
              "<a href=\"https://colab.research.google.com/notebooks/tensorflow_version.ipynb\" target=\"_blank\">more info</a>.</p>\n"
            ],
            "text/plain": [
              "<IPython.core.display.HTML object>"
            ]
          },
          "metadata": {
            "tags": []
          }
        }
      ]
    },
    {
      "cell_type": "code",
      "metadata": {
        "id": "pfkjMbXMlJI4",
        "outputId": "6e5a23ea-8610-4359-cdf4-81e2a50c1ba5",
        "colab": {
          "base_uri": "https://localhost:8080/",
          "height": 1000
        }
      },
      "source": [
        "model = Sequential()\n",
        "\n",
        "model.add(LSTM(units=50,return_sequences=True,input_shape=(X_train.shape[1], 1)))\n",
        "model.add(Dropout(0.2))\n",
        "\n",
        "model.add(LSTM(units=50,return_sequences=True))\n",
        "model.add(Dropout(0.2))\n",
        "\n",
        "model.add(LSTM(units=50,return_sequences=True))\n",
        "model.add(Dropout(0.2))\n",
        "\n",
        "model.add(LSTM(units=50))\n",
        "model.add(Dropout(0.2))\n",
        "\n",
        "model.add(Dense(units=1))\n",
        "\n",
        "model.compile(optimizer='adam',loss='mean_squared_error')\n",
        "\n",
        "model.fit(X_train,y_train,epochs=40,batch_size=32)"
      ],
      "execution_count": null,
      "outputs": [
        {
          "output_type": "stream",
          "text": [
            "WARNING:tensorflow:From /usr/local/lib/python3.6/dist-packages/keras/backend/tensorflow_backend.py:66: The name tf.get_default_graph is deprecated. Please use tf.compat.v1.get_default_graph instead.\n",
            "\n",
            "WARNING:tensorflow:From /usr/local/lib/python3.6/dist-packages/keras/backend/tensorflow_backend.py:541: The name tf.placeholder is deprecated. Please use tf.compat.v1.placeholder instead.\n",
            "\n",
            "WARNING:tensorflow:From /usr/local/lib/python3.6/dist-packages/keras/backend/tensorflow_backend.py:4432: The name tf.random_uniform is deprecated. Please use tf.random.uniform instead.\n",
            "\n",
            "WARNING:tensorflow:From /usr/local/lib/python3.6/dist-packages/keras/backend/tensorflow_backend.py:148: The name tf.placeholder_with_default is deprecated. Please use tf.compat.v1.placeholder_with_default instead.\n",
            "\n",
            "WARNING:tensorflow:From /usr/local/lib/python3.6/dist-packages/keras/backend/tensorflow_backend.py:3733: calling dropout (from tensorflow.python.ops.nn_ops) with keep_prob is deprecated and will be removed in a future version.\n",
            "Instructions for updating:\n",
            "Please use `rate` instead of `keep_prob`. Rate should be set to `rate = 1 - keep_prob`.\n",
            "WARNING:tensorflow:From /usr/local/lib/python3.6/dist-packages/keras/optimizers.py:793: The name tf.train.Optimizer is deprecated. Please use tf.compat.v1.train.Optimizer instead.\n",
            "\n",
            "WARNING:tensorflow:From /tensorflow-1.15.0/python3.6/tensorflow_core/python/ops/math_grad.py:1424: where (from tensorflow.python.ops.array_ops) is deprecated and will be removed in a future version.\n",
            "Instructions for updating:\n",
            "Use tf.where in 2.0, which has the same broadcast rule as np.where\n",
            "WARNING:tensorflow:From /usr/local/lib/python3.6/dist-packages/keras/backend/tensorflow_backend.py:1033: The name tf.assign_add is deprecated. Please use tf.compat.v1.assign_add instead.\n",
            "\n",
            "WARNING:tensorflow:From /usr/local/lib/python3.6/dist-packages/keras/backend/tensorflow_backend.py:1020: The name tf.assign is deprecated. Please use tf.compat.v1.assign instead.\n",
            "\n",
            "WARNING:tensorflow:From /usr/local/lib/python3.6/dist-packages/keras/backend/tensorflow_backend.py:3005: The name tf.Session is deprecated. Please use tf.compat.v1.Session instead.\n",
            "\n",
            "Epoch 1/40\n",
            "WARNING:tensorflow:From /usr/local/lib/python3.6/dist-packages/keras/backend/tensorflow_backend.py:190: The name tf.get_default_session is deprecated. Please use tf.compat.v1.get_default_session instead.\n",
            "\n",
            "WARNING:tensorflow:From /usr/local/lib/python3.6/dist-packages/keras/backend/tensorflow_backend.py:197: The name tf.ConfigProto is deprecated. Please use tf.compat.v1.ConfigProto instead.\n",
            "\n",
            "WARNING:tensorflow:From /usr/local/lib/python3.6/dist-packages/keras/backend/tensorflow_backend.py:207: The name tf.global_variables is deprecated. Please use tf.compat.v1.global_variables instead.\n",
            "\n",
            "WARNING:tensorflow:From /usr/local/lib/python3.6/dist-packages/keras/backend/tensorflow_backend.py:216: The name tf.is_variable_initialized is deprecated. Please use tf.compat.v1.is_variable_initialized instead.\n",
            "\n",
            "WARNING:tensorflow:From /usr/local/lib/python3.6/dist-packages/keras/backend/tensorflow_backend.py:223: The name tf.variables_initializer is deprecated. Please use tf.compat.v1.variables_initializer instead.\n",
            "\n",
            "1975/1975 [==============================] - 32s 16ms/step - loss: 0.0030\n",
            "Epoch 2/40\n",
            "1975/1975 [==============================] - 21s 11ms/step - loss: 6.1083e-04\n",
            "Epoch 3/40\n",
            "1975/1975 [==============================] - 21s 11ms/step - loss: 4.9703e-04\n",
            "Epoch 4/40\n",
            "1975/1975 [==============================] - 21s 11ms/step - loss: 4.6679e-04\n",
            "Epoch 5/40\n",
            "1975/1975 [==============================] - 21s 10ms/step - loss: 4.5108e-04\n",
            "Epoch 6/40\n",
            "1975/1975 [==============================] - 22s 11ms/step - loss: 4.0864e-04\n",
            "Epoch 7/40\n",
            "1975/1975 [==============================] - 22s 11ms/step - loss: 4.9298e-04\n",
            "Epoch 8/40\n",
            "1975/1975 [==============================] - 22s 11ms/step - loss: 4.2031e-04\n",
            "Epoch 9/40\n",
            "1975/1975 [==============================] - 22s 11ms/step - loss: 3.7070e-04\n",
            "Epoch 10/40\n",
            "1975/1975 [==============================] - 22s 11ms/step - loss: 3.3629e-04\n",
            "Epoch 11/40\n",
            "1975/1975 [==============================] - 23s 11ms/step - loss: 3.8887e-04\n",
            "Epoch 12/40\n",
            "1975/1975 [==============================] - 24s 12ms/step - loss: 3.3549e-04\n",
            "Epoch 13/40\n",
            "1975/1975 [==============================] - 23s 12ms/step - loss: 3.3134e-04\n",
            "Epoch 14/40\n",
            "1975/1975 [==============================] - 23s 12ms/step - loss: 3.1698e-04\n",
            "Epoch 15/40\n",
            "1975/1975 [==============================] - 23s 11ms/step - loss: 3.0420e-04\n",
            "Epoch 16/40\n",
            "1975/1975 [==============================] - 23s 12ms/step - loss: 2.9147e-04\n",
            "Epoch 17/40\n",
            "1975/1975 [==============================] - 23s 11ms/step - loss: 2.9539e-04\n",
            "Epoch 18/40\n",
            "1975/1975 [==============================] - 23s 12ms/step - loss: 3.1290e-04\n",
            "Epoch 19/40\n",
            "1975/1975 [==============================] - 23s 11ms/step - loss: 2.9077e-04\n",
            "Epoch 20/40\n",
            "1975/1975 [==============================] - 23s 11ms/step - loss: 2.6102e-04\n",
            "Epoch 21/40\n",
            "1975/1975 [==============================] - 22s 11ms/step - loss: 2.5477e-04\n",
            "Epoch 22/40\n",
            "1975/1975 [==============================] - 23s 12ms/step - loss: 2.6930e-04\n",
            "Epoch 23/40\n",
            "1975/1975 [==============================] - 23s 11ms/step - loss: 2.4939e-04\n",
            "Epoch 24/40\n",
            "1975/1975 [==============================] - 23s 12ms/step - loss: 2.4303e-04\n",
            "Epoch 25/40\n",
            "1975/1975 [==============================] - 23s 12ms/step - loss: 2.7892e-04\n",
            "Epoch 26/40\n",
            "1975/1975 [==============================] - 23s 12ms/step - loss: 2.9041e-04\n",
            "Epoch 27/40\n",
            "1975/1975 [==============================] - 23s 11ms/step - loss: 2.4221e-04\n",
            "Epoch 28/40\n",
            "1975/1975 [==============================] - 23s 12ms/step - loss: 2.3745e-04\n",
            "Epoch 29/40\n",
            "1975/1975 [==============================] - 22s 11ms/step - loss: 2.1408e-04\n",
            "Epoch 30/40\n",
            "1975/1975 [==============================] - 23s 12ms/step - loss: 2.4045e-04\n",
            "Epoch 31/40\n",
            "1975/1975 [==============================] - 22s 11ms/step - loss: 2.7693e-04\n",
            "Epoch 32/40\n",
            "1975/1975 [==============================] - 23s 12ms/step - loss: 2.2457e-04\n",
            "Epoch 33/40\n",
            "1975/1975 [==============================] - 23s 11ms/step - loss: 2.6060e-04\n",
            "Epoch 34/40\n",
            "1975/1975 [==============================] - 23s 12ms/step - loss: 2.4028e-04\n",
            "Epoch 35/40\n",
            "1975/1975 [==============================] - 23s 12ms/step - loss: 1.8855e-04\n",
            "Epoch 36/40\n",
            "1975/1975 [==============================] - 23s 12ms/step - loss: 2.0191e-04\n",
            "Epoch 37/40\n",
            "1975/1975 [==============================] - 23s 12ms/step - loss: 2.2780e-04\n",
            "Epoch 38/40\n",
            "1975/1975 [==============================] - 23s 12ms/step - loss: 2.4713e-04\n",
            "Epoch 39/40\n",
            "1975/1975 [==============================] - 24s 12ms/step - loss: 2.3709e-04\n",
            "Epoch 40/40\n",
            "1975/1975 [==============================] - 22s 11ms/step - loss: 2.2759e-04\n"
          ],
          "name": "stdout"
        },
        {
          "output_type": "execute_result",
          "data": {
            "text/plain": [
              "<keras.callbacks.History at 0x7f541b569dd8>"
            ]
          },
          "metadata": {
            "tags": []
          },
          "execution_count": 13
        }
      ]
    },
    {
      "cell_type": "markdown",
      "metadata": {
        "id": "CInyUXdO1rhk"
      },
      "source": [
        "## **Test Dataset**"
      ]
    },
    {
      "cell_type": "markdown",
      "metadata": {
        "id": "VUJ5oPOYmVez"
      },
      "source": [
        "From the data set, 20 % portion of data from the end were put aside for testing and evaluating the model."
      ]
    },
    {
      "cell_type": "code",
      "metadata": {
        "id": "-TjfCFZY8zM0",
        "outputId": "c5fc1460-b9de-41b8-bdf3-cad4841228c2",
        "colab": {
          "base_uri": "https://localhost:8080/",
          "height": 34
        }
      },
      "source": [
        "data_test=db[3083:3853,:]\n",
        "print(\"data_test:\", len(data_test))\n",
        "\n",
        "data_test_scaled=scale.fit_transform(data_test)"
      ],
      "execution_count": null,
      "outputs": [
        {
          "output_type": "stream",
          "text": [
            "data_test: 770\n"
          ],
          "name": "stdout"
        }
      ]
    },
    {
      "cell_type": "markdown",
      "metadata": {
        "id": "HK4RGSdol8KQ"
      },
      "source": [
        "Because our model predicts price for 60 days ahead. so to compare the predicted value with the real one, we consider real data series from day 60 to the end "
      ]
    },
    {
      "cell_type": "code",
      "metadata": {
        "id": "D7QwCFcCl7bd",
        "outputId": "ed23f279-81f3-4834-875d-3c3cdc15c67c",
        "colab": {
          "base_uri": "https://localhost:8080/",
          "height": 34
        }
      },
      "source": [
        "real_stock_price = db[3143:3853,:]\n",
        "print(\"real_stock_price:\", len(real_stock_price))"
      ],
      "execution_count": null,
      "outputs": [
        {
          "output_type": "stream",
          "text": [
            "real_stock_price: 710\n"
          ],
          "name": "stdout"
        }
      ]
    },
    {
      "cell_type": "code",
      "metadata": {
        "id": "P32MkhmODj--",
        "outputId": "ae497d24-c08a-4fb4-bf3f-072d786d8fdf",
        "colab": {
          "base_uri": "https://localhost:8080/",
          "height": 34
        }
      },
      "source": [
        "X_test = []\n",
        "y_test = []\n",
        "for i in range(60,len(data_test_scaled)):\n",
        "    X_test.append(data_test_scaled[i-60:i, 0])\n",
        "    y_test.append(data_test_scaled[i, 0])\n",
        "X_test, y_test = np.array(X_test), np.array(y_test)\n",
        "\n",
        "X_test = np.reshape(X_test, (X_test.shape[0], X_test.shape[1], 1))\n",
        "print(\"X_test:\", len(X_test))"
      ],
      "execution_count": null,
      "outputs": [
        {
          "output_type": "stream",
          "text": [
            "X_test: 710\n"
          ],
          "name": "stdout"
        }
      ]
    },
    {
      "cell_type": "markdown",
      "metadata": {
        "id": "7ezQ5YK4sWUO"
      },
      "source": [
        "## **Predicting values** "
      ]
    },
    {
      "cell_type": "code",
      "metadata": {
        "id": "raDMNlsz8xUJ"
      },
      "source": [
        "predicted_stock_price = model.predict(X_test)\n",
        "predicted_stock_price.shape\n",
        "\n",
        "predicted_stock_price = scale.inverse_transform(predicted_stock_price)"
      ],
      "execution_count": null,
      "outputs": []
    },
    {
      "cell_type": "code",
      "metadata": {
        "id": "WJDBlnrO9qJs",
        "outputId": "9f29c7fc-59c5-4968-b1d1-14bd52ebf855",
        "colab": {
          "base_uri": "https://localhost:8080/",
          "height": 295
        }
      },
      "source": [
        "plt.plot(real_stock_price, color = 'black', label = 'Stock Price')\n",
        "plt.plot(predicted_stock_price, color = 'r', label = 'Predicted Stock Price')\n",
        "plt.title('Assignment 2 Stock Price Prediction')\n",
        "plt.xlabel('Time')\n",
        "plt.ylabel('Stock Price')\n",
        "plt.legend()\n",
        "plt.show()"
      ],
      "execution_count": null,
      "outputs": [
        {
          "output_type": "display_data",
          "data": {
            "image/png": "[encoded data removed]",
            "text/plain": [
              "<Figure size 432x288 with 1 Axes>"
            ]
          },
          "metadata": {
            "tags": []
          }
        }
      ]
    }
  ]
}